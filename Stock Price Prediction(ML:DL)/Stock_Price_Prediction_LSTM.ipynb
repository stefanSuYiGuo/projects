{
  "nbformat": 4,
  "nbformat_minor": 0,
  "metadata": {
    "colab": {
      "provenance": []
    },
    "kernelspec": {
      "name": "python3",
      "display_name": "Python 3"
    },
    "language_info": {
      "name": "python"
    }
  },
  "cells": [
    {
      "cell_type": "markdown",
      "source": [
        "# Stock Price Prediction - LSTM\n",
        "---\n",
        "*@author: Stefan Su*  \n",
        "*@date: 2023-04-28*  \n",
        "*@Lisence: MIT Lisence*"
      ],
      "metadata": {
        "id": "4oXp9I2msBZG"
      }
    },
    {
      "cell_type": "markdown",
      "source": [
        "## 1. Retrieve Data\n",
        "\n",
        "> Use `pandas_datareader` to retrieve historical and present stock price by ticker and time range. Here, I choose \"GOOGL\" as an example, but in the real data product, customer can choose whatever valid stock ticker they want to do prediction.\n",
        "\n",
        "(Reference [pandas_datareader link](https://pandas-datareader.readthedocs.io/en/latest/remote_data.html#stooq-index-data))"
      ],
      "metadata": {
        "id": "RqUQLtxQsGqf"
      }
    },
    {
      "cell_type": "markdown",
      "source": [
        "#### 1.1 Import required libraries"
      ],
      "metadata": {
        "id": "TO997nHttd_s"
      }
    },
    {
      "cell_type": "code",
      "source": [
        "import pandas_datareader.data as web\n",
        "import pandas as pd\n",
        "import datetime\n",
        "import os\n",
        "from sklearn.preprocessing import StandardScaler\n",
        "from sklearn.model_selection import train_test_split\n",
        "from collections import deque\n",
        "import numpy as np\n",
        "import tensorflow as tf\n",
        "from tensorflow.keras.models import Sequential, load_model\n",
        "from tensorflow.keras.layers import LSTM, Dense, Dropout\n",
        "from tensorflow.keras.callbacks import ModelCheckpoint\n",
        "import matplotlib.pyplot as plt"
      ],
      "metadata": {
        "id": "4NjEgyqhr7Im"
      },
      "execution_count": 39,
      "outputs": []
    },
    {
      "cell_type": "markdown",
      "source": [
        "#### 1.2 Set start time and end time as parameters to retrieve data."
      ],
      "metadata": {
        "id": "LHf6AJPjtiEB"
      }
    },
    {
      "cell_type": "code",
      "source": [
        "start = datetime.date(2000, 1, 1)\n",
        "end = datetime.date.today()\n",
        "print(start, end)"
      ],
      "metadata": {
        "colab": {
          "base_uri": "https://localhost:8080/"
        },
        "id": "qylDfhfOsLaw",
        "outputId": "08d9d039-72ae-4545-e1f0-eb349a0bba95"
      },
      "execution_count": 2,
      "outputs": [
        {
          "output_type": "stream",
          "name": "stdout",
          "text": [
            "2000-01-01 2023-04-28\n"
          ]
        }
      ]
    },
    {
      "cell_type": "markdown",
      "source": [
        "#### 1.3 Get origianl real-time data from `DataReader`."
      ],
      "metadata": {
        "id": "TOiLFEHbs67B"
      }
    },
    {
      "cell_type": "code",
      "source": [
        "ticker = 'GOOGL'\n",
        "df = web.DataReader(ticker, 'stooq', start, end)\n",
        "df"
      ],
      "metadata": {
        "colab": {
          "base_uri": "https://localhost:8080/",
          "height": 455
        },
        "id": "f4KqVrQJsNQM",
        "outputId": "5c26fe7d-1a65-432b-d55a-a38d07abac67"
      },
      "execution_count": 3,
      "outputs": [
        {
          "output_type": "execute_result",
          "data": {
            "text/plain": [
              "                 Open      High        Low      Close       Volume\n",
              "Date                                                              \n",
              "2023-04-27  104.45000  108.3700  103.54000  107.59000   50089187.0\n",
              "2023-04-26  104.92000  106.3500  102.63000  103.71000   53347560.0\n",
              "2023-04-25  105.82500  106.6900  103.84000  103.85000   46664104.0\n",
              "2023-04-24  105.49000  106.6300  104.70000  105.97000   23542829.0\n",
              "2023-04-21  105.47000  106.0000  104.78000  105.41000   25800082.0\n",
              "...               ...       ...        ...        ...          ...\n",
              "2004-08-25    2.62400    2.7000    2.59700    2.65000  183956000.0\n",
              "2004-08-24    2.78100    2.7900    2.58925    2.62175  305252000.0\n",
              "2004-08-23    2.76875    2.8370    2.72625    2.73500  365488000.0\n",
              "2004-08-20    2.52525    2.7270    2.51250    2.70775  457144000.0\n",
              "2004-08-19    2.50000    2.6015    2.39900    2.50850  894076000.0\n",
              "\n",
              "[4705 rows x 5 columns]"
            ],
            "text/html": [
              "\n",
              "  <div id=\"df-430c5d39-5fa6-464f-bc54-b21e404c91ee\">\n",
              "    <div class=\"colab-df-container\">\n",
              "      <div>\n",
              "<style scoped>\n",
              "    .dataframe tbody tr th:only-of-type {\n",
              "        vertical-align: middle;\n",
              "    }\n",
              "\n",
              "    .dataframe tbody tr th {\n",
              "        vertical-align: top;\n",
              "    }\n",
              "\n",
              "    .dataframe thead th {\n",
              "        text-align: right;\n",
              "    }\n",
              "</style>\n",
              "<table border=\"1\" class=\"dataframe\">\n",
              "  <thead>\n",
              "    <tr style=\"text-align: right;\">\n",
              "      <th></th>\n",
              "      <th>Open</th>\n",
              "      <th>High</th>\n",
              "      <th>Low</th>\n",
              "      <th>Close</th>\n",
              "      <th>Volume</th>\n",
              "    </tr>\n",
              "    <tr>\n",
              "      <th>Date</th>\n",
              "      <th></th>\n",
              "      <th></th>\n",
              "      <th></th>\n",
              "      <th></th>\n",
              "      <th></th>\n",
              "    </tr>\n",
              "  </thead>\n",
              "  <tbody>\n",
              "    <tr>\n",
              "      <th>2023-04-27</th>\n",
              "      <td>104.45000</td>\n",
              "      <td>108.3700</td>\n",
              "      <td>103.54000</td>\n",
              "      <td>107.59000</td>\n",
              "      <td>50089187.0</td>\n",
              "    </tr>\n",
              "    <tr>\n",
              "      <th>2023-04-26</th>\n",
              "      <td>104.92000</td>\n",
              "      <td>106.3500</td>\n",
              "      <td>102.63000</td>\n",
              "      <td>103.71000</td>\n",
              "      <td>53347560.0</td>\n",
              "    </tr>\n",
              "    <tr>\n",
              "      <th>2023-04-25</th>\n",
              "      <td>105.82500</td>\n",
              "      <td>106.6900</td>\n",
              "      <td>103.84000</td>\n",
              "      <td>103.85000</td>\n",
              "      <td>46664104.0</td>\n",
              "    </tr>\n",
              "    <tr>\n",
              "      <th>2023-04-24</th>\n",
              "      <td>105.49000</td>\n",
              "      <td>106.6300</td>\n",
              "      <td>104.70000</td>\n",
              "      <td>105.97000</td>\n",
              "      <td>23542829.0</td>\n",
              "    </tr>\n",
              "    <tr>\n",
              "      <th>2023-04-21</th>\n",
              "      <td>105.47000</td>\n",
              "      <td>106.0000</td>\n",
              "      <td>104.78000</td>\n",
              "      <td>105.41000</td>\n",
              "      <td>25800082.0</td>\n",
              "    </tr>\n",
              "    <tr>\n",
              "      <th>...</th>\n",
              "      <td>...</td>\n",
              "      <td>...</td>\n",
              "      <td>...</td>\n",
              "      <td>...</td>\n",
              "      <td>...</td>\n",
              "    </tr>\n",
              "    <tr>\n",
              "      <th>2004-08-25</th>\n",
              "      <td>2.62400</td>\n",
              "      <td>2.7000</td>\n",
              "      <td>2.59700</td>\n",
              "      <td>2.65000</td>\n",
              "      <td>183956000.0</td>\n",
              "    </tr>\n",
              "    <tr>\n",
              "      <th>2004-08-24</th>\n",
              "      <td>2.78100</td>\n",
              "      <td>2.7900</td>\n",
              "      <td>2.58925</td>\n",
              "      <td>2.62175</td>\n",
              "      <td>305252000.0</td>\n",
              "    </tr>\n",
              "    <tr>\n",
              "      <th>2004-08-23</th>\n",
              "      <td>2.76875</td>\n",
              "      <td>2.8370</td>\n",
              "      <td>2.72625</td>\n",
              "      <td>2.73500</td>\n",
              "      <td>365488000.0</td>\n",
              "    </tr>\n",
              "    <tr>\n",
              "      <th>2004-08-20</th>\n",
              "      <td>2.52525</td>\n",
              "      <td>2.7270</td>\n",
              "      <td>2.51250</td>\n",
              "      <td>2.70775</td>\n",
              "      <td>457144000.0</td>\n",
              "    </tr>\n",
              "    <tr>\n",
              "      <th>2004-08-19</th>\n",
              "      <td>2.50000</td>\n",
              "      <td>2.6015</td>\n",
              "      <td>2.39900</td>\n",
              "      <td>2.50850</td>\n",
              "      <td>894076000.0</td>\n",
              "    </tr>\n",
              "  </tbody>\n",
              "</table>\n",
              "<p>4705 rows × 5 columns</p>\n",
              "</div>\n",
              "      <button class=\"colab-df-convert\" onclick=\"convertToInteractive('df-430c5d39-5fa6-464f-bc54-b21e404c91ee')\"\n",
              "              title=\"Convert this dataframe to an interactive table.\"\n",
              "              style=\"display:none;\">\n",
              "        \n",
              "  <svg xmlns=\"http://www.w3.org/2000/svg\" height=\"24px\"viewBox=\"0 0 24 24\"\n",
              "       width=\"24px\">\n",
              "    <path d=\"M0 0h24v24H0V0z\" fill=\"none\"/>\n",
              "    <path d=\"M18.56 5.44l.94 2.06.94-2.06 2.06-.94-2.06-.94-.94-2.06-.94 2.06-2.06.94zm-11 1L8.5 8.5l.94-2.06 2.06-.94-2.06-.94L8.5 2.5l-.94 2.06-2.06.94zm10 10l.94 2.06.94-2.06 2.06-.94-2.06-.94-.94-2.06-.94 2.06-2.06.94z\"/><path d=\"M17.41 7.96l-1.37-1.37c-.4-.4-.92-.59-1.43-.59-.52 0-1.04.2-1.43.59L10.3 9.45l-7.72 7.72c-.78.78-.78 2.05 0 2.83L4 21.41c.39.39.9.59 1.41.59.51 0 1.02-.2 1.41-.59l7.78-7.78 2.81-2.81c.8-.78.8-2.07 0-2.86zM5.41 20L4 18.59l7.72-7.72 1.47 1.35L5.41 20z\"/>\n",
              "  </svg>\n",
              "      </button>\n",
              "      \n",
              "  <style>\n",
              "    .colab-df-container {\n",
              "      display:flex;\n",
              "      flex-wrap:wrap;\n",
              "      gap: 12px;\n",
              "    }\n",
              "\n",
              "    .colab-df-convert {\n",
              "      background-color: #E8F0FE;\n",
              "      border: none;\n",
              "      border-radius: 50%;\n",
              "      cursor: pointer;\n",
              "      display: none;\n",
              "      fill: #1967D2;\n",
              "      height: 32px;\n",
              "      padding: 0 0 0 0;\n",
              "      width: 32px;\n",
              "    }\n",
              "\n",
              "    .colab-df-convert:hover {\n",
              "      background-color: #E2EBFA;\n",
              "      box-shadow: 0px 1px 2px rgba(60, 64, 67, 0.3), 0px 1px 3px 1px rgba(60, 64, 67, 0.15);\n",
              "      fill: #174EA6;\n",
              "    }\n",
              "\n",
              "    [theme=dark] .colab-df-convert {\n",
              "      background-color: #3B4455;\n",
              "      fill: #D2E3FC;\n",
              "    }\n",
              "\n",
              "    [theme=dark] .colab-df-convert:hover {\n",
              "      background-color: #434B5C;\n",
              "      box-shadow: 0px 1px 3px 1px rgba(0, 0, 0, 0.15);\n",
              "      filter: drop-shadow(0px 1px 2px rgba(0, 0, 0, 0.3));\n",
              "      fill: #FFFFFF;\n",
              "    }\n",
              "  </style>\n",
              "\n",
              "      <script>\n",
              "        const buttonEl =\n",
              "          document.querySelector('#df-430c5d39-5fa6-464f-bc54-b21e404c91ee button.colab-df-convert');\n",
              "        buttonEl.style.display =\n",
              "          google.colab.kernel.accessAllowed ? 'block' : 'none';\n",
              "\n",
              "        async function convertToInteractive(key) {\n",
              "          const element = document.querySelector('#df-430c5d39-5fa6-464f-bc54-b21e404c91ee');\n",
              "          const dataTable =\n",
              "            await google.colab.kernel.invokeFunction('convertToInteractive',\n",
              "                                                     [key], {});\n",
              "          if (!dataTable) return;\n",
              "\n",
              "          const docLinkHtml = 'Like what you see? Visit the ' +\n",
              "            '<a target=\"_blank\" href=https://colab.research.google.com/notebooks/data_table.ipynb>data table notebook</a>'\n",
              "            + ' to learn more about interactive tables.';\n",
              "          element.innerHTML = '';\n",
              "          dataTable['output_type'] = 'display_data';\n",
              "          await google.colab.output.renderOutput(dataTable, element);\n",
              "          const docLink = document.createElement('div');\n",
              "          docLink.innerHTML = docLinkHtml;\n",
              "          element.appendChild(docLink);\n",
              "        }\n",
              "      </script>\n",
              "    </div>\n",
              "  </div>\n",
              "  "
            ]
          },
          "metadata": {},
          "execution_count": 3
        }
      ]
    },
    {
      "cell_type": "markdown",
      "source": [
        "#### 1.4 sort the date by ascending\n",
        "\n"
      ],
      "metadata": {
        "id": "kR6pYkGusxtw"
      }
    },
    {
      "cell_type": "code",
      "source": [
        "df.dropna(inplace=True)\n",
        "df.sort_index(inplace=True)\n",
        "df"
      ],
      "metadata": {
        "colab": {
          "base_uri": "https://localhost:8080/",
          "height": 455
        },
        "id": "eFO53u-xstz4",
        "outputId": "4eaa3718-a489-4bb6-f570-3df526ca1060"
      },
      "execution_count": 4,
      "outputs": [
        {
          "output_type": "execute_result",
          "data": {
            "text/plain": [
              "                 Open      High        Low      Close       Volume\n",
              "Date                                                              \n",
              "2004-08-19    2.50000    2.6015    2.39900    2.50850  894076000.0\n",
              "2004-08-20    2.52525    2.7270    2.51250    2.70775  457144000.0\n",
              "2004-08-23    2.76875    2.8370    2.72625    2.73500  365488000.0\n",
              "2004-08-24    2.78100    2.7900    2.58925    2.62175  305252000.0\n",
              "2004-08-25    2.62400    2.7000    2.59700    2.65000  183956000.0\n",
              "...               ...       ...        ...        ...          ...\n",
              "2023-04-21  105.47000  106.0000  104.78000  105.41000   25800082.0\n",
              "2023-04-24  105.49000  106.6300  104.70000  105.97000   23542829.0\n",
              "2023-04-25  105.82500  106.6900  103.84000  103.85000   46664104.0\n",
              "2023-04-26  104.92000  106.3500  102.63000  103.71000   53347560.0\n",
              "2023-04-27  104.45000  108.3700  103.54000  107.59000   50089187.0\n",
              "\n",
              "[4704 rows x 5 columns]"
            ],
            "text/html": [
              "\n",
              "  <div id=\"df-739f79f8-339a-428f-853c-3ccd809333a7\">\n",
              "    <div class=\"colab-df-container\">\n",
              "      <div>\n",
              "<style scoped>\n",
              "    .dataframe tbody tr th:only-of-type {\n",
              "        vertical-align: middle;\n",
              "    }\n",
              "\n",
              "    .dataframe tbody tr th {\n",
              "        vertical-align: top;\n",
              "    }\n",
              "\n",
              "    .dataframe thead th {\n",
              "        text-align: right;\n",
              "    }\n",
              "</style>\n",
              "<table border=\"1\" class=\"dataframe\">\n",
              "  <thead>\n",
              "    <tr style=\"text-align: right;\">\n",
              "      <th></th>\n",
              "      <th>Open</th>\n",
              "      <th>High</th>\n",
              "      <th>Low</th>\n",
              "      <th>Close</th>\n",
              "      <th>Volume</th>\n",
              "    </tr>\n",
              "    <tr>\n",
              "      <th>Date</th>\n",
              "      <th></th>\n",
              "      <th></th>\n",
              "      <th></th>\n",
              "      <th></th>\n",
              "      <th></th>\n",
              "    </tr>\n",
              "  </thead>\n",
              "  <tbody>\n",
              "    <tr>\n",
              "      <th>2004-08-19</th>\n",
              "      <td>2.50000</td>\n",
              "      <td>2.6015</td>\n",
              "      <td>2.39900</td>\n",
              "      <td>2.50850</td>\n",
              "      <td>894076000.0</td>\n",
              "    </tr>\n",
              "    <tr>\n",
              "      <th>2004-08-20</th>\n",
              "      <td>2.52525</td>\n",
              "      <td>2.7270</td>\n",
              "      <td>2.51250</td>\n",
              "      <td>2.70775</td>\n",
              "      <td>457144000.0</td>\n",
              "    </tr>\n",
              "    <tr>\n",
              "      <th>2004-08-23</th>\n",
              "      <td>2.76875</td>\n",
              "      <td>2.8370</td>\n",
              "      <td>2.72625</td>\n",
              "      <td>2.73500</td>\n",
              "      <td>365488000.0</td>\n",
              "    </tr>\n",
              "    <tr>\n",
              "      <th>2004-08-24</th>\n",
              "      <td>2.78100</td>\n",
              "      <td>2.7900</td>\n",
              "      <td>2.58925</td>\n",
              "      <td>2.62175</td>\n",
              "      <td>305252000.0</td>\n",
              "    </tr>\n",
              "    <tr>\n",
              "      <th>2004-08-25</th>\n",
              "      <td>2.62400</td>\n",
              "      <td>2.7000</td>\n",
              "      <td>2.59700</td>\n",
              "      <td>2.65000</td>\n",
              "      <td>183956000.0</td>\n",
              "    </tr>\n",
              "    <tr>\n",
              "      <th>...</th>\n",
              "      <td>...</td>\n",
              "      <td>...</td>\n",
              "      <td>...</td>\n",
              "      <td>...</td>\n",
              "      <td>...</td>\n",
              "    </tr>\n",
              "    <tr>\n",
              "      <th>2023-04-21</th>\n",
              "      <td>105.47000</td>\n",
              "      <td>106.0000</td>\n",
              "      <td>104.78000</td>\n",
              "      <td>105.41000</td>\n",
              "      <td>25800082.0</td>\n",
              "    </tr>\n",
              "    <tr>\n",
              "      <th>2023-04-24</th>\n",
              "      <td>105.49000</td>\n",
              "      <td>106.6300</td>\n",
              "      <td>104.70000</td>\n",
              "      <td>105.97000</td>\n",
              "      <td>23542829.0</td>\n",
              "    </tr>\n",
              "    <tr>\n",
              "      <th>2023-04-25</th>\n",
              "      <td>105.82500</td>\n",
              "      <td>106.6900</td>\n",
              "      <td>103.84000</td>\n",
              "      <td>103.85000</td>\n",
              "      <td>46664104.0</td>\n",
              "    </tr>\n",
              "    <tr>\n",
              "      <th>2023-04-26</th>\n",
              "      <td>104.92000</td>\n",
              "      <td>106.3500</td>\n",
              "      <td>102.63000</td>\n",
              "      <td>103.71000</td>\n",
              "      <td>53347560.0</td>\n",
              "    </tr>\n",
              "    <tr>\n",
              "      <th>2023-04-27</th>\n",
              "      <td>104.45000</td>\n",
              "      <td>108.3700</td>\n",
              "      <td>103.54000</td>\n",
              "      <td>107.59000</td>\n",
              "      <td>50089187.0</td>\n",
              "    </tr>\n",
              "  </tbody>\n",
              "</table>\n",
              "<p>4704 rows × 5 columns</p>\n",
              "</div>\n",
              "      <button class=\"colab-df-convert\" onclick=\"convertToInteractive('df-739f79f8-339a-428f-853c-3ccd809333a7')\"\n",
              "              title=\"Convert this dataframe to an interactive table.\"\n",
              "              style=\"display:none;\">\n",
              "        \n",
              "  <svg xmlns=\"http://www.w3.org/2000/svg\" height=\"24px\"viewBox=\"0 0 24 24\"\n",
              "       width=\"24px\">\n",
              "    <path d=\"M0 0h24v24H0V0z\" fill=\"none\"/>\n",
              "    <path d=\"M18.56 5.44l.94 2.06.94-2.06 2.06-.94-2.06-.94-.94-2.06-.94 2.06-2.06.94zm-11 1L8.5 8.5l.94-2.06 2.06-.94-2.06-.94L8.5 2.5l-.94 2.06-2.06.94zm10 10l.94 2.06.94-2.06 2.06-.94-2.06-.94-.94-2.06-.94 2.06-2.06.94z\"/><path d=\"M17.41 7.96l-1.37-1.37c-.4-.4-.92-.59-1.43-.59-.52 0-1.04.2-1.43.59L10.3 9.45l-7.72 7.72c-.78.78-.78 2.05 0 2.83L4 21.41c.39.39.9.59 1.41.59.51 0 1.02-.2 1.41-.59l7.78-7.78 2.81-2.81c.8-.78.8-2.07 0-2.86zM5.41 20L4 18.59l7.72-7.72 1.47 1.35L5.41 20z\"/>\n",
              "  </svg>\n",
              "      </button>\n",
              "      \n",
              "  <style>\n",
              "    .colab-df-container {\n",
              "      display:flex;\n",
              "      flex-wrap:wrap;\n",
              "      gap: 12px;\n",
              "    }\n",
              "\n",
              "    .colab-df-convert {\n",
              "      background-color: #E8F0FE;\n",
              "      border: none;\n",
              "      border-radius: 50%;\n",
              "      cursor: pointer;\n",
              "      display: none;\n",
              "      fill: #1967D2;\n",
              "      height: 32px;\n",
              "      padding: 0 0 0 0;\n",
              "      width: 32px;\n",
              "    }\n",
              "\n",
              "    .colab-df-convert:hover {\n",
              "      background-color: #E2EBFA;\n",
              "      box-shadow: 0px 1px 2px rgba(60, 64, 67, 0.3), 0px 1px 3px 1px rgba(60, 64, 67, 0.15);\n",
              "      fill: #174EA6;\n",
              "    }\n",
              "\n",
              "    [theme=dark] .colab-df-convert {\n",
              "      background-color: #3B4455;\n",
              "      fill: #D2E3FC;\n",
              "    }\n",
              "\n",
              "    [theme=dark] .colab-df-convert:hover {\n",
              "      background-color: #434B5C;\n",
              "      box-shadow: 0px 1px 3px 1px rgba(0, 0, 0, 0.15);\n",
              "      filter: drop-shadow(0px 1px 2px rgba(0, 0, 0, 0.3));\n",
              "      fill: #FFFFFF;\n",
              "    }\n",
              "  </style>\n",
              "\n",
              "      <script>\n",
              "        const buttonEl =\n",
              "          document.querySelector('#df-739f79f8-339a-428f-853c-3ccd809333a7 button.colab-df-convert');\n",
              "        buttonEl.style.display =\n",
              "          google.colab.kernel.accessAllowed ? 'block' : 'none';\n",
              "\n",
              "        async function convertToInteractive(key) {\n",
              "          const element = document.querySelector('#df-739f79f8-339a-428f-853c-3ccd809333a7');\n",
              "          const dataTable =\n",
              "            await google.colab.kernel.invokeFunction('convertToInteractive',\n",
              "                                                     [key], {});\n",
              "          if (!dataTable) return;\n",
              "\n",
              "          const docLinkHtml = 'Like what you see? Visit the ' +\n",
              "            '<a target=\"_blank\" href=https://colab.research.google.com/notebooks/data_table.ipynb>data table notebook</a>'\n",
              "            + ' to learn more about interactive tables.';\n",
              "          element.innerHTML = '';\n",
              "          dataTable['output_type'] = 'display_data';\n",
              "          await google.colab.output.renderOutput(dataTable, element);\n",
              "          const docLink = document.createElement('div');\n",
              "          docLink.innerHTML = docLinkHtml;\n",
              "          element.appendChild(docLink);\n",
              "        }\n",
              "      </script>\n",
              "    </div>\n",
              "  </div>\n",
              "  "
            ]
          },
          "metadata": {},
          "execution_count": 4
        }
      ]
    },
    {
      "cell_type": "markdown",
      "source": [
        "#### 1.5 Create `label` column as prediction value. We want to know the price/trend of the stock 10 days later.\n",
        "\n",
        "* `pre_days`: prediction days"
      ],
      "metadata": {
        "id": "_lxZ5S2dtW5t"
      }
    },
    {
      "cell_type": "code",
      "source": [
        "pre_days = 10\n",
        "df['label'] = df['Close'].shift(-pre_days)\n",
        "df"
      ],
      "metadata": {
        "colab": {
          "base_uri": "https://localhost:8080/",
          "height": 455
        },
        "id": "MoTbbvbntSLf",
        "outputId": "5f48d004-2cbe-4b34-9826-0eddaa86f11c"
      },
      "execution_count": 5,
      "outputs": [
        {
          "output_type": "execute_result",
          "data": {
            "text/plain": [
              "                 Open      High        Low      Close       Volume    label\n",
              "Date                                                                       \n",
              "2004-08-19    2.50000    2.6015    2.39900    2.50850  894076000.0  2.53775\n",
              "2004-08-20    2.52525    2.7270    2.51250    2.70775  457144000.0  2.50025\n",
              "2004-08-23    2.76875    2.8370    2.72625    2.73500  365488000.0  2.53950\n",
              "2004-08-24    2.78100    2.7900    2.58925    2.62175  305252000.0  2.55750\n",
              "2004-08-25    2.62400    2.7000    2.59700    2.65000  183956000.0  2.55775\n",
              "...               ...       ...        ...        ...          ...      ...\n",
              "2023-04-21  105.47000  106.0000  104.78000  105.41000   25800082.0      NaN\n",
              "2023-04-24  105.49000  106.6300  104.70000  105.97000   23542829.0      NaN\n",
              "2023-04-25  105.82500  106.6900  103.84000  103.85000   46664104.0      NaN\n",
              "2023-04-26  104.92000  106.3500  102.63000  103.71000   53347560.0      NaN\n",
              "2023-04-27  104.45000  108.3700  103.54000  107.59000   50089187.0      NaN\n",
              "\n",
              "[4704 rows x 6 columns]"
            ],
            "text/html": [
              "\n",
              "  <div id=\"df-e8058b15-69da-4fc9-9f6b-a05f02aafdf9\">\n",
              "    <div class=\"colab-df-container\">\n",
              "      <div>\n",
              "<style scoped>\n",
              "    .dataframe tbody tr th:only-of-type {\n",
              "        vertical-align: middle;\n",
              "    }\n",
              "\n",
              "    .dataframe tbody tr th {\n",
              "        vertical-align: top;\n",
              "    }\n",
              "\n",
              "    .dataframe thead th {\n",
              "        text-align: right;\n",
              "    }\n",
              "</style>\n",
              "<table border=\"1\" class=\"dataframe\">\n",
              "  <thead>\n",
              "    <tr style=\"text-align: right;\">\n",
              "      <th></th>\n",
              "      <th>Open</th>\n",
              "      <th>High</th>\n",
              "      <th>Low</th>\n",
              "      <th>Close</th>\n",
              "      <th>Volume</th>\n",
              "      <th>label</th>\n",
              "    </tr>\n",
              "    <tr>\n",
              "      <th>Date</th>\n",
              "      <th></th>\n",
              "      <th></th>\n",
              "      <th></th>\n",
              "      <th></th>\n",
              "      <th></th>\n",
              "      <th></th>\n",
              "    </tr>\n",
              "  </thead>\n",
              "  <tbody>\n",
              "    <tr>\n",
              "      <th>2004-08-19</th>\n",
              "      <td>2.50000</td>\n",
              "      <td>2.6015</td>\n",
              "      <td>2.39900</td>\n",
              "      <td>2.50850</td>\n",
              "      <td>894076000.0</td>\n",
              "      <td>2.53775</td>\n",
              "    </tr>\n",
              "    <tr>\n",
              "      <th>2004-08-20</th>\n",
              "      <td>2.52525</td>\n",
              "      <td>2.7270</td>\n",
              "      <td>2.51250</td>\n",
              "      <td>2.70775</td>\n",
              "      <td>457144000.0</td>\n",
              "      <td>2.50025</td>\n",
              "    </tr>\n",
              "    <tr>\n",
              "      <th>2004-08-23</th>\n",
              "      <td>2.76875</td>\n",
              "      <td>2.8370</td>\n",
              "      <td>2.72625</td>\n",
              "      <td>2.73500</td>\n",
              "      <td>365488000.0</td>\n",
              "      <td>2.53950</td>\n",
              "    </tr>\n",
              "    <tr>\n",
              "      <th>2004-08-24</th>\n",
              "      <td>2.78100</td>\n",
              "      <td>2.7900</td>\n",
              "      <td>2.58925</td>\n",
              "      <td>2.62175</td>\n",
              "      <td>305252000.0</td>\n",
              "      <td>2.55750</td>\n",
              "    </tr>\n",
              "    <tr>\n",
              "      <th>2004-08-25</th>\n",
              "      <td>2.62400</td>\n",
              "      <td>2.7000</td>\n",
              "      <td>2.59700</td>\n",
              "      <td>2.65000</td>\n",
              "      <td>183956000.0</td>\n",
              "      <td>2.55775</td>\n",
              "    </tr>\n",
              "    <tr>\n",
              "      <th>...</th>\n",
              "      <td>...</td>\n",
              "      <td>...</td>\n",
              "      <td>...</td>\n",
              "      <td>...</td>\n",
              "      <td>...</td>\n",
              "      <td>...</td>\n",
              "    </tr>\n",
              "    <tr>\n",
              "      <th>2023-04-21</th>\n",
              "      <td>105.47000</td>\n",
              "      <td>106.0000</td>\n",
              "      <td>104.78000</td>\n",
              "      <td>105.41000</td>\n",
              "      <td>25800082.0</td>\n",
              "      <td>NaN</td>\n",
              "    </tr>\n",
              "    <tr>\n",
              "      <th>2023-04-24</th>\n",
              "      <td>105.49000</td>\n",
              "      <td>106.6300</td>\n",
              "      <td>104.70000</td>\n",
              "      <td>105.97000</td>\n",
              "      <td>23542829.0</td>\n",
              "      <td>NaN</td>\n",
              "    </tr>\n",
              "    <tr>\n",
              "      <th>2023-04-25</th>\n",
              "      <td>105.82500</td>\n",
              "      <td>106.6900</td>\n",
              "      <td>103.84000</td>\n",
              "      <td>103.85000</td>\n",
              "      <td>46664104.0</td>\n",
              "      <td>NaN</td>\n",
              "    </tr>\n",
              "    <tr>\n",
              "      <th>2023-04-26</th>\n",
              "      <td>104.92000</td>\n",
              "      <td>106.3500</td>\n",
              "      <td>102.63000</td>\n",
              "      <td>103.71000</td>\n",
              "      <td>53347560.0</td>\n",
              "      <td>NaN</td>\n",
              "    </tr>\n",
              "    <tr>\n",
              "      <th>2023-04-27</th>\n",
              "      <td>104.45000</td>\n",
              "      <td>108.3700</td>\n",
              "      <td>103.54000</td>\n",
              "      <td>107.59000</td>\n",
              "      <td>50089187.0</td>\n",
              "      <td>NaN</td>\n",
              "    </tr>\n",
              "  </tbody>\n",
              "</table>\n",
              "<p>4704 rows × 6 columns</p>\n",
              "</div>\n",
              "      <button class=\"colab-df-convert\" onclick=\"convertToInteractive('df-e8058b15-69da-4fc9-9f6b-a05f02aafdf9')\"\n",
              "              title=\"Convert this dataframe to an interactive table.\"\n",
              "              style=\"display:none;\">\n",
              "        \n",
              "  <svg xmlns=\"http://www.w3.org/2000/svg\" height=\"24px\"viewBox=\"0 0 24 24\"\n",
              "       width=\"24px\">\n",
              "    <path d=\"M0 0h24v24H0V0z\" fill=\"none\"/>\n",
              "    <path d=\"M18.56 5.44l.94 2.06.94-2.06 2.06-.94-2.06-.94-.94-2.06-.94 2.06-2.06.94zm-11 1L8.5 8.5l.94-2.06 2.06-.94-2.06-.94L8.5 2.5l-.94 2.06-2.06.94zm10 10l.94 2.06.94-2.06 2.06-.94-2.06-.94-.94-2.06-.94 2.06-2.06.94z\"/><path d=\"M17.41 7.96l-1.37-1.37c-.4-.4-.92-.59-1.43-.59-.52 0-1.04.2-1.43.59L10.3 9.45l-7.72 7.72c-.78.78-.78 2.05 0 2.83L4 21.41c.39.39.9.59 1.41.59.51 0 1.02-.2 1.41-.59l7.78-7.78 2.81-2.81c.8-.78.8-2.07 0-2.86zM5.41 20L4 18.59l7.72-7.72 1.47 1.35L5.41 20z\"/>\n",
              "  </svg>\n",
              "      </button>\n",
              "      \n",
              "  <style>\n",
              "    .colab-df-container {\n",
              "      display:flex;\n",
              "      flex-wrap:wrap;\n",
              "      gap: 12px;\n",
              "    }\n",
              "\n",
              "    .colab-df-convert {\n",
              "      background-color: #E8F0FE;\n",
              "      border: none;\n",
              "      border-radius: 50%;\n",
              "      cursor: pointer;\n",
              "      display: none;\n",
              "      fill: #1967D2;\n",
              "      height: 32px;\n",
              "      padding: 0 0 0 0;\n",
              "      width: 32px;\n",
              "    }\n",
              "\n",
              "    .colab-df-convert:hover {\n",
              "      background-color: #E2EBFA;\n",
              "      box-shadow: 0px 1px 2px rgba(60, 64, 67, 0.3), 0px 1px 3px 1px rgba(60, 64, 67, 0.15);\n",
              "      fill: #174EA6;\n",
              "    }\n",
              "\n",
              "    [theme=dark] .colab-df-convert {\n",
              "      background-color: #3B4455;\n",
              "      fill: #D2E3FC;\n",
              "    }\n",
              "\n",
              "    [theme=dark] .colab-df-convert:hover {\n",
              "      background-color: #434B5C;\n",
              "      box-shadow: 0px 1px 3px 1px rgba(0, 0, 0, 0.15);\n",
              "      filter: drop-shadow(0px 1px 2px rgba(0, 0, 0, 0.3));\n",
              "      fill: #FFFFFF;\n",
              "    }\n",
              "  </style>\n",
              "\n",
              "      <script>\n",
              "        const buttonEl =\n",
              "          document.querySelector('#df-e8058b15-69da-4fc9-9f6b-a05f02aafdf9 button.colab-df-convert');\n",
              "        buttonEl.style.display =\n",
              "          google.colab.kernel.accessAllowed ? 'block' : 'none';\n",
              "\n",
              "        async function convertToInteractive(key) {\n",
              "          const element = document.querySelector('#df-e8058b15-69da-4fc9-9f6b-a05f02aafdf9');\n",
              "          const dataTable =\n",
              "            await google.colab.kernel.invokeFunction('convertToInteractive',\n",
              "                                                     [key], {});\n",
              "          if (!dataTable) return;\n",
              "\n",
              "          const docLinkHtml = 'Like what you see? Visit the ' +\n",
              "            '<a target=\"_blank\" href=https://colab.research.google.com/notebooks/data_table.ipynb>data table notebook</a>'\n",
              "            + ' to learn more about interactive tables.';\n",
              "          element.innerHTML = '';\n",
              "          dataTable['output_type'] = 'display_data';\n",
              "          await google.colab.output.renderOutput(dataTable, element);\n",
              "          const docLink = document.createElement('div');\n",
              "          docLink.innerHTML = docLinkHtml;\n",
              "          element.appendChild(docLink);\n",
              "        }\n",
              "      </script>\n",
              "    </div>\n",
              "  </div>\n",
              "  "
            ]
          },
          "metadata": {},
          "execution_count": 5
        }
      ]
    },
    {
      "cell_type": "markdown",
      "source": [
        "## 2. Data Preprocessing\n"
      ],
      "metadata": {
        "id": "wodV-E-svGr5"
      }
    },
    {
      "cell_type": "markdown",
      "source": [
        "#### 2.1 Standardize the data\n",
        "\n",
        "> Use `StandardScaler` to complete data standardization."
      ],
      "metadata": {
        "id": "kZl57QAnvxgP"
      }
    },
    {
      "cell_type": "code",
      "source": [
        "scaler = StandardScaler()\n",
        "scale_X = scaler.fit_transform(df.iloc[:, :-1])\n",
        "print(scale_X)"
      ],
      "metadata": {
        "colab": {
          "base_uri": "https://localhost:8080/"
        },
        "id": "AEN10cTHuQqc",
        "outputId": "ca82e767-459c-479d-c3c9-be452badb91e"
      },
      "execution_count": 6,
      "outputs": [
        {
          "output_type": "stream",
          "name": "stdout",
          "text": [
            "[[-1.02020079 -1.01728517 -1.0229223  -1.0198426   5.09758988]\n",
            " [-1.01949078 -1.01379531 -1.01969465 -1.01424127  2.20909426]\n",
            " [-1.01264371 -1.01073647 -1.01361617 -1.01347522  1.60316942]\n",
            " ...\n",
            " [ 1.88523364  1.87717209  1.86179288  1.82907598 -0.50453024]\n",
            " [ 1.85978561  1.86771749  1.82738366  1.82514029 -0.46034686]\n",
            " [ 1.8465695   1.92388895  1.85326166  1.9342151  -0.48188751]]\n"
          ]
        }
      ]
    },
    {
      "cell_type": "markdown",
      "source": [
        "#### 2.2 Set train & test data\n",
        "\n",
        "* `mem_his_days`: memory of history days\n",
        "* `deq`: a first in first out data structure, which make sure only remember and store the length of `mem_his_days` stock price data.\n",
        "* `X`: train set, which means `mem_his_days` days of stock price data in each element and excludes last ten records. (refer to see `pre_days`)\n",
        "* `X_lately`: last ten records.\n",
        "* `y`: test data, which names 'label' in dataframe.\n",
        "\n"
      ],
      "metadata": {
        "id": "g0LcvqBIwiXt"
      }
    },
    {
      "cell_type": "code",
      "source": [
        "mem_his_days = 5\n",
        "deq = deque(maxlen=mem_his_days)\n",
        "\n",
        "X = []\n",
        "for i in scale_X:\n",
        "    deq.append(list(i))\n",
        "    if len(deq) == mem_his_days:\n",
        "        X.append(list(deq))\n",
        "\n",
        "X_lately = X[-pre_days :]\n",
        "X = np.array(X[: -pre_days])\n",
        "\n",
        "y = np.array(df['label'].values[mem_his_days - 1: -pre_days])"
      ],
      "metadata": {
        "id": "vE7npujpwTfF"
      },
      "execution_count": 7,
      "outputs": []
    },
    {
      "cell_type": "code",
      "source": [
        "print(X.shape)\n",
        "print(y.shape)"
      ],
      "metadata": {
        "colab": {
          "base_uri": "https://localhost:8080/"
        },
        "id": "9xlNjtwzyEso",
        "outputId": "90229b4b-eb06-4dab-e16a-b64ab0047485"
      },
      "execution_count": 8,
      "outputs": [
        {
          "output_type": "stream",
          "name": "stdout",
          "text": [
            "(4690, 5, 5)\n",
            "(4690,)\n"
          ]
        }
      ]
    },
    {
      "cell_type": "markdown",
      "source": [
        "#### 2.3 Train Test set split"
      ],
      "metadata": {
        "id": "gQBpCD3S19fe"
      }
    },
    {
      "cell_type": "code",
      "source": [
        "X_train, X_test, y_train, y_test = train_test_split(X, y, test_size=0.1)"
      ],
      "metadata": {
        "id": "4cH9YlZ-2Fbp"
      },
      "execution_count": 9,
      "outputs": []
    },
    {
      "cell_type": "markdown",
      "source": [
        "## 3. Generate and Train LSTM Nerual Network"
      ],
      "metadata": {
        "id": "tm2Bp2Ml0sTH"
      }
    },
    {
      "cell_type": "markdown",
      "source": [
        "#### 3.1 Add LSTM layers\n",
        "Reference [LSTM link](https://keras.io/api/layers/recurrent_layers/lstm/)\n",
        "1. The first layer should have `return_sequences` and define the `input_shape`\n",
        "2. Repeat add LSTM and Dropout .1 percent data to generate the second and third layers. Remember to remove `input_shape` and `return_sequences` parameters in the last layer since it is defined at the layers before.\n",
        "3. Add a fully connected layer, and an output layer.\n",
        "4. Compile the model and use 'adam' as optimizer, use [keras MSE](https://keras.io/api/losses/regression_losses/#meansquarederror-class) as loss function, [keras MAPE](https://keras.io/api/metrics/regression_metrics/#meanabsolutepercentageerror-class) as metrics."
      ],
      "metadata": {
        "id": "dMUmRok927ww"
      }
    },
    {
      "cell_type": "code",
      "source": [
        "model = Sequential()\n",
        "\n",
        "# The first layer of Recurrent Neural Network shoule have return_sequences and define input shape\n",
        "model.add(LSTM(10, input_shape=X.shape[1: ], activation='relu', return_sequences=True))\n",
        "\n",
        "# To avoid overfitting, use Dropout to remove .1 data\n",
        "model.add(Dropout(0.1))\n",
        "\n",
        "# Repeat to generate second and third layers\n",
        "model.add(LSTM(10, activation='relu', return_sequences=True))\n",
        "model.add(Dropout(0.1))\n",
        "model.add(LSTM(10, activation='relu'))\n",
        "model.add(Dropout(0.1))\n",
        "\n",
        "# Generate Fully Connected layers\n",
        "model.add(Dense(10, activation='relu'))\n",
        "model.add(Dropout(0.1))\n",
        "\n",
        "# Output layer\n",
        "model.add(Dense(1))\n",
        "\n",
        "# Compile model\n",
        "model.compile(optimizer='adam', loss='mse', metrics=['mape'])"
      ],
      "metadata": {
        "id": "xRFqMzFr0j-x"
      },
      "execution_count": 10,
      "outputs": []
    },
    {
      "cell_type": "markdown",
      "source": [
        "#### 3.2 Train LSTM model\n",
        "\n",
        "> Note: The parameters of the model are not modified and polished. And it does not mean the model is perfect and we can find that the model become overfitted during the training process."
      ],
      "metadata": {
        "id": "GGzVgI8o8YQF"
      }
    },
    {
      "cell_type": "code",
      "source": [
        "model.fit(X_train, y_train, batch_size=32, epochs=50, validation_data=(X_test, y_test))"
      ],
      "metadata": {
        "colab": {
          "base_uri": "https://localhost:8080/"
        },
        "id": "DwZtFD4F6WUt",
        "outputId": "efbd0d6a-9ff6-4efd-93cd-8b487f850944"
      },
      "execution_count": 11,
      "outputs": [
        {
          "output_type": "stream",
          "name": "stdout",
          "text": [
            "Epoch 1/50\n",
            "132/132 [==============================] - 10s 15ms/step - loss: 2171.0476 - mape: 87.7493 - val_loss: 275.9417 - val_mape: 46.0735\n",
            "Epoch 2/50\n",
            "132/132 [==============================] - 2s 12ms/step - loss: 272.8245 - mape: 32.8086 - val_loss: 41.1079 - val_mape: 17.9358\n",
            "Epoch 3/50\n",
            "132/132 [==============================] - 2s 12ms/step - loss: 204.3717 - mape: 28.2007 - val_loss: 55.3681 - val_mape: 17.6427\n",
            "Epoch 4/50\n",
            "132/132 [==============================] - 2s 16ms/step - loss: 169.5437 - mape: 26.9752 - val_loss: 49.8854 - val_mape: 16.8374\n",
            "Epoch 5/50\n",
            "132/132 [==============================] - 2s 13ms/step - loss: 155.1074 - mape: 25.1210 - val_loss: 64.6596 - val_mape: 16.1746\n",
            "Epoch 6/50\n",
            "132/132 [==============================] - 1s 10ms/step - loss: 160.4996 - mape: 25.1097 - val_loss: 39.1356 - val_mape: 14.5679\n",
            "Epoch 7/50\n",
            "132/132 [==============================] - 1s 10ms/step - loss: 131.6337 - mape: 23.5786 - val_loss: 84.7723 - val_mape: 17.2291\n",
            "Epoch 8/50\n",
            "132/132 [==============================] - 1s 10ms/step - loss: 150.5475 - mape: 23.8861 - val_loss: 32.6174 - val_mape: 13.6174\n",
            "Epoch 9/50\n",
            "132/132 [==============================] - 1s 10ms/step - loss: 125.5772 - mape: 23.3208 - val_loss: 38.0183 - val_mape: 13.5202\n",
            "Epoch 10/50\n",
            "132/132 [==============================] - 1s 11ms/step - loss: 133.0133 - mape: 22.5896 - val_loss: 23.5040 - val_mape: 12.8366\n",
            "Epoch 11/50\n",
            "132/132 [==============================] - 2s 12ms/step - loss: 123.8028 - mape: 21.7125 - val_loss: 61.2703 - val_mape: 14.9786\n",
            "Epoch 12/50\n",
            "132/132 [==============================] - 2s 13ms/step - loss: 114.4971 - mape: 21.4013 - val_loss: 29.3886 - val_mape: 12.5121\n",
            "Epoch 13/50\n",
            "132/132 [==============================] - 2s 16ms/step - loss: 116.7740 - mape: 21.6683 - val_loss: 66.1941 - val_mape: 14.3121\n",
            "Epoch 14/50\n",
            "132/132 [==============================] - 1s 11ms/step - loss: 121.5533 - mape: 21.3472 - val_loss: 39.7684 - val_mape: 12.5937\n",
            "Epoch 15/50\n",
            "132/132 [==============================] - 1s 10ms/step - loss: 105.2289 - mape: 20.4955 - val_loss: 60.0962 - val_mape: 12.9734\n",
            "Epoch 16/50\n",
            "132/132 [==============================] - 2s 12ms/step - loss: 105.8940 - mape: 20.4481 - val_loss: 69.8988 - val_mape: 14.0953\n",
            "Epoch 17/50\n",
            "132/132 [==============================] - 2s 12ms/step - loss: 97.8817 - mape: 20.0104 - val_loss: 47.2481 - val_mape: 14.2148\n",
            "Epoch 18/50\n",
            "132/132 [==============================] - 2s 12ms/step - loss: 104.8436 - mape: 19.9130 - val_loss: 82.8919 - val_mape: 15.2962\n",
            "Epoch 19/50\n",
            "132/132 [==============================] - 2s 12ms/step - loss: 96.8328 - mape: 19.8391 - val_loss: 28.1320 - val_mape: 11.8934\n",
            "Epoch 20/50\n",
            "132/132 [==============================] - 2s 12ms/step - loss: 107.9472 - mape: 20.1964 - val_loss: 88.0043 - val_mape: 16.1511\n",
            "Epoch 21/50\n",
            "132/132 [==============================] - 2s 15ms/step - loss: 96.7992 - mape: 19.6751 - val_loss: 57.4255 - val_mape: 12.0919\n",
            "Epoch 22/50\n",
            "132/132 [==============================] - 1s 11ms/step - loss: 100.3206 - mape: 19.6381 - val_loss: 58.9307 - val_mape: 13.7159\n",
            "Epoch 23/50\n",
            "132/132 [==============================] - 1s 10ms/step - loss: 95.0765 - mape: 18.7363 - val_loss: 27.5086 - val_mape: 10.9205\n",
            "Epoch 24/50\n",
            "132/132 [==============================] - 1s 11ms/step - loss: 89.3202 - mape: 18.8641 - val_loss: 72.7504 - val_mape: 12.4407\n",
            "Epoch 25/50\n",
            "132/132 [==============================] - 2s 12ms/step - loss: 98.4689 - mape: 18.8535 - val_loss: 42.3702 - val_mape: 12.3331\n",
            "Epoch 26/50\n",
            "132/132 [==============================] - 1s 10ms/step - loss: 96.4814 - mape: 19.0115 - val_loss: 34.1344 - val_mape: 10.7856\n",
            "Epoch 27/50\n",
            "132/132 [==============================] - 1s 10ms/step - loss: 96.3170 - mape: 18.5558 - val_loss: 50.3745 - val_mape: 12.4517\n",
            "Epoch 28/50\n",
            "132/132 [==============================] - 1s 10ms/step - loss: 95.5711 - mape: 18.5112 - val_loss: 78.5280 - val_mape: 13.0412\n",
            "Epoch 29/50\n",
            "132/132 [==============================] - 2s 12ms/step - loss: 85.3238 - mape: 17.9951 - val_loss: 63.0906 - val_mape: 13.0789\n",
            "Epoch 30/50\n",
            "132/132 [==============================] - 2s 14ms/step - loss: 94.6634 - mape: 18.1659 - val_loss: 77.7943 - val_mape: 15.6797\n",
            "Epoch 31/50\n",
            "132/132 [==============================] - 1s 11ms/step - loss: 96.4936 - mape: 18.0321 - val_loss: 78.4508 - val_mape: 14.7452\n",
            "Epoch 32/50\n",
            "132/132 [==============================] - 1s 10ms/step - loss: 90.2247 - mape: 18.0399 - val_loss: 63.3745 - val_mape: 12.7218\n",
            "Epoch 33/50\n",
            "132/132 [==============================] - 1s 11ms/step - loss: 89.0188 - mape: 17.5700 - val_loss: 64.5322 - val_mape: 12.2608\n",
            "Epoch 34/50\n",
            "132/132 [==============================] - 2s 12ms/step - loss: 93.9965 - mape: 17.9115 - val_loss: 79.4091 - val_mape: 13.2131\n",
            "Epoch 35/50\n",
            "132/132 [==============================] - 1s 10ms/step - loss: 94.8799 - mape: 18.0100 - val_loss: 140.9526 - val_mape: 20.3003\n",
            "Epoch 36/50\n",
            "132/132 [==============================] - 1s 10ms/step - loss: 87.5175 - mape: 17.6667 - val_loss: 75.3093 - val_mape: 12.5660\n",
            "Epoch 37/50\n",
            "132/132 [==============================] - 1s 11ms/step - loss: 77.9387 - mape: 16.9472 - val_loss: 68.4846 - val_mape: 14.1167\n",
            "Epoch 38/50\n",
            "132/132 [==============================] - 2s 15ms/step - loss: 84.5273 - mape: 17.1324 - val_loss: 99.3186 - val_mape: 14.9960\n",
            "Epoch 39/50\n",
            "132/132 [==============================] - 2s 14ms/step - loss: 85.3598 - mape: 17.2788 - val_loss: 73.4516 - val_mape: 12.4293\n",
            "Epoch 40/50\n",
            "132/132 [==============================] - 1s 11ms/step - loss: 83.4989 - mape: 16.6292 - val_loss: 59.0392 - val_mape: 11.9395\n",
            "Epoch 41/50\n",
            "132/132 [==============================] - 1s 10ms/step - loss: 84.1965 - mape: 17.1528 - val_loss: 75.8752 - val_mape: 12.4270\n",
            "Epoch 42/50\n",
            "132/132 [==============================] - 1s 11ms/step - loss: 78.0218 - mape: 16.7661 - val_loss: 69.6372 - val_mape: 12.7928\n",
            "Epoch 43/50\n",
            "132/132 [==============================] - 1s 10ms/step - loss: 86.2697 - mape: 17.0344 - val_loss: 77.3056 - val_mape: 13.6585\n",
            "Epoch 44/50\n",
            "132/132 [==============================] - 2s 12ms/step - loss: 78.1940 - mape: 16.6101 - val_loss: 52.3611 - val_mape: 11.3904\n",
            "Epoch 45/50\n",
            "132/132 [==============================] - 1s 10ms/step - loss: 83.0954 - mape: 16.7141 - val_loss: 69.3477 - val_mape: 11.5202\n",
            "Epoch 46/50\n",
            "132/132 [==============================] - 1s 10ms/step - loss: 83.5203 - mape: 16.8032 - val_loss: 62.1622 - val_mape: 12.6912\n",
            "Epoch 47/50\n",
            "132/132 [==============================] - 2s 15ms/step - loss: 83.8585 - mape: 16.5977 - val_loss: 93.2935 - val_mape: 13.8595\n",
            "Epoch 48/50\n",
            "132/132 [==============================] - 2s 12ms/step - loss: 79.1155 - mape: 16.5310 - val_loss: 76.2520 - val_mape: 12.3237\n",
            "Epoch 49/50\n",
            "132/132 [==============================] - 1s 10ms/step - loss: 78.2078 - mape: 16.3317 - val_loss: 141.0660 - val_mape: 17.0713\n",
            "Epoch 50/50\n",
            "132/132 [==============================] - 1s 10ms/step - loss: 84.8964 - mape: 16.3650 - val_loss: 82.9616 - val_mape: 13.4758\n"
          ]
        },
        {
          "output_type": "execute_result",
          "data": {
            "text/plain": [
              "<keras.callbacks.History at 0x7f4338523190>"
            ]
          },
          "metadata": {},
          "execution_count": 11
        }
      ]
    },
    {
      "cell_type": "markdown",
      "source": [
        "**Based on the results above, we notice the model should be optimized to find the best set of parameters which can provide a better prediction output. But before that, we should encapsulate data process part into one function.**"
      ],
      "metadata": {
        "id": "wg6B9XCW-qhP"
      }
    },
    {
      "cell_type": "markdown",
      "source": [
        "## 4. Encapsulate data process function\n",
        "\n",
        "Differenct `mem_his_days`, `pre_days` and `df` will influence train result."
      ],
      "metadata": {
        "id": "kRGwtwzb_Rbg"
      }
    },
    {
      "cell_type": "code",
      "source": [
        "def stock_price_LSTM_data_processing(df: pd.DataFrame, mem_his_days: list, pre_days: list):\n",
        "    df.dropna(inplace=True)\n",
        "    df.sort_index(inplace=True)\n",
        "\n",
        "    df['label'] = df['Close'].shift(-pre_days)\n",
        "\n",
        "    scaler = StandardScaler()\n",
        "    scale_X = scaler.fit_transform(df.iloc[:, :-1])\n",
        "\n",
        "    deq = deque(maxlen=mem_his_days)\n",
        "\n",
        "    X = []\n",
        "    for i in scale_X:\n",
        "        deq.append(list(i))\n",
        "        if len(deq) == mem_his_days:\n",
        "            X.append(list(deq))\n",
        "\n",
        "    X_lately = X[-pre_days :]\n",
        "    X = np.array(X[: -pre_days])\n",
        "\n",
        "    y = np.array(df['label'].values[mem_his_days - 1: -pre_days])\n",
        "\n",
        "    return X, y, X_lately"
      ],
      "metadata": {
        "id": "C2qEDNqO9Exv"
      },
      "execution_count": 12,
      "outputs": []
    },
    {
      "cell_type": "markdown",
      "source": [
        "Try to call the function and pass `df=df`, `mem_his_days=5`, `pre_days=10`."
      ],
      "metadata": {
        "id": "rSIwHn87CpaD"
      }
    },
    {
      "cell_type": "code",
      "source": [
        "X, y, X_lately = stock_price_LSTM_data_processing(df=df, mem_his_days=5, pre_days=10)\n",
        "print(X[0])\n",
        "print(len(X) == len(y), len(X_lately))"
      ],
      "metadata": {
        "colab": {
          "base_uri": "https://localhost:8080/"
        },
        "id": "LtFYcmEQCMDV",
        "outputId": "11449327-8587-4700-8469-89aaccda2dc5"
      },
      "execution_count": 13,
      "outputs": [
        {
          "output_type": "stream",
          "name": "stdout",
          "text": [
            "[[-1.01893333 -1.01603035 -1.02167181 -1.01859431  5.0928282 ]\n",
            " [-1.01822142 -1.01253104 -1.0184355  -1.01297783  2.20632025]\n",
            " [-1.0113561  -1.00946391 -1.01234069 -1.0122097   1.60081236]\n",
            " [-1.01101072 -1.01077441 -1.01624707 -1.01540201  1.20287471]\n",
            " [-1.01543723 -1.01328388 -1.01602609 -1.01460569  0.40155581]]\n",
            "True 10\n"
          ]
        }
      ]
    },
    {
      "cell_type": "markdown",
      "source": [
        "## 5. Optimize Model\n",
        "\n"
      ],
      "metadata": {
        "id": "FgvOUG9hDeo1"
      }
    },
    {
      "cell_type": "markdown",
      "source": [
        "#### 5.1 Create list of `mem_days`, `lstm_layers`, `dense_layers`, `units`, and iterate them one by one to figure out the best set of parameters.\n",
        "\n",
        "* `mem_days`: memory days\n",
        "* `lstm_layers`: number of different LSTM layers\n",
        "* `dense_layers`: number of different dense layers\n",
        "* `units`: number of different neurons in each layer\n",
        "\n",
        "    **NOTE: the algorithm here is brute force. We can optimize it by using grid search in the future if you want.**"
      ],
      "metadata": {
        "id": "3XMz8dwZFtfy"
      }
    },
    {
      "cell_type": "code",
      "source": [
        "# Self-defined\n",
        "mem_days = [5, 10, 15]\n",
        "lstm_layers = [1, 2, 3]\n",
        "dense_layers = [1, 2, 3]\n",
        "# units = [8, 16, 32]\n",
        "units = [8, 16]"
      ],
      "metadata": {
        "id": "9Eect9ArDMMI"
      },
      "execution_count": 14,
      "outputs": []
    },
    {
      "cell_type": "markdown",
      "source": [
        "#### 5.2 Find best model during the iteration\n",
        "\n",
        "Use `ModelCheckPoint` in Keras `Callbacks API` to find the best model in each training iteration. Reference [keras Callbacks API ModelCheckPoint](https://keras.io/api/callbacks/model_checkpoint/).\n",
        "\n",
        "**How many epochs should I train my model with?**  \n",
        "- The right number of epochs depends on the inherent perplexity (or complexity) of your dataset. ***A good rule of thumb is to start with a value that is 3 times the number of columns in your data.*** If you find that the model is still improving after all epochs complete, try again with a higher value. If you find that the model stopped improving way before the final epoch, try again with a lower value as you may be overtraining. If you have only a small number of records in your dataset or are having a large number of records fail validation, you may need to increase the number of epochs significantly to help the neural network learn the structure of the data. (Reference [How many epochs should I train my model with?](https://gretel.ai/gretel-synthetics-faqs/how-many-epochs-should-i-train-my-model-with))"
      ],
      "metadata": {
        "id": "7QX2v0YsF9h7"
      }
    },
    {
      "cell_type": "code",
      "source": [
        "\"\"\"\n",
        "Run the code below if you want to run the train again\n",
        "\n",
        "import shutil\n",
        "shutil.rmtree('./models')\n",
        "\"\"\""
      ],
      "metadata": {
        "colab": {
          "base_uri": "https://localhost:8080/",
          "height": 35
        },
        "id": "is7uWeL_salf",
        "outputId": "7222e628-e5e3-4582-e2cf-ff6dfde39e61"
      },
      "execution_count": 51,
      "outputs": [
        {
          "output_type": "execute_result",
          "data": {
            "text/plain": [
              "\"\\nRun the code below if you want to run the train again\\n\\nimport shutil\\nshutil.rmtree('./models')\\n\""
            ],
            "application/vnd.google.colaboratory.intrinsic+json": {
              "type": "string"
            }
          },
          "metadata": {},
          "execution_count": 51
        }
      ]
    },
    {
      "cell_type": "markdown",
      "source": [
        "***Note: It takes a really long time to run it more than 2 hours. You can use keyboard to interrupt it and continue to run other cells. It works well even if with an interruption. (Recommand run at least 20 minutes)***"
      ],
      "metadata": {
        "id": "rHwZAa8htF8S"
      }
    },
    {
      "cell_type": "code",
      "source": [
        "count_1, count_2, count_3, count_4 = 0, 0, 0, 0\n",
        "for mem_day in mem_days:\n",
        "    for lstm_layer in lstm_layers:\n",
        "        for dense_layer in dense_layers:\n",
        "            for unit in units:\n",
        "                filepath = f'./models/{ticker}_' + '{val_mape:.2f}_{epoch:02d}_' + f'mem_{mem_day}_lstm_{lstm_layer}_dense_{dense_layer}_unit_{unit}'\n",
        "                checkpoint = ModelCheckpoint(\n",
        "                    filepath=filepath,\n",
        "                    save_weights_only=False,\n",
        "                    monitor='val_mape',\n",
        "                    mode='min',\n",
        "                    save_best_only=True\n",
        "                )\n",
        "                X, y, X_lately = stock_price_LSTM_data_processing(df=df, mem_his_days=mem_day, pre_days=pre_days)\n",
        "                X_train, X_test, y_train, y_test = train_test_split(X, y, shuffle=False, test_size=0.1)\n",
        "\n",
        "                # Train model in each iteration\n",
        "                model = Sequential()\n",
        "\n",
        "                for i in range(lstm_layer):\n",
        "                    # The first layer of Recurrent Neural Network shoule have return_sequences and define input shape\n",
        "                    model.add(LSTM(unit, input_shape=X.shape[1: ], activation='relu', return_sequences=True))\n",
        "\n",
        "                    # To avoid overfitting, use Dropout to remove .1 data\n",
        "                    model.add(Dropout(0.1))\n",
        "\n",
        "                # Repeat to generate second and third layers\n",
        "                model.add(LSTM(unit, activation='relu', return_sequences=True))\n",
        "                model.add(Dropout(0.1))\n",
        "                model.add(LSTM(unit, activation='relu'))\n",
        "                model.add(Dropout(0.1))\n",
        "\n",
        "                for i in range(dense_layer):\n",
        "                    # Generate Fully Connected layers\n",
        "                    model.add(Dense(unit, activation='relu'))\n",
        "                    model.add(Dropout(0.1))\n",
        "\n",
        "                # Output layer\n",
        "                model.add(Dense(1))\n",
        "\n",
        "                # Compile model\n",
        "                model.compile(optimizer='adam', loss='mse', metrics=['mape'])\n",
        "\n",
        "                # Train model\n",
        "                model.fit(X_train, y_train, batch_size=32, epochs=15, validation_data=(X_test, y_test), callbacks=[checkpoint])\n",
        "                count_1 += 1\n",
        "                print('count_1', count_1)\n",
        "            count_2 += 1\n",
        "            print('count_2', count_2)\n",
        "        count_3 += 1\n",
        "        print('count_3', count_3)\n",
        "    count_4 += 1\n",
        "    print('count_4', count_4)"
      ],
      "metadata": {
        "colab": {
          "base_uri": "https://localhost:8080/",
          "height": 1000
        },
        "id": "gDGjp1wKFew3",
        "outputId": "c785e2e5-3e81-4dc4-9f80-ec2e5a277fda"
      },
      "execution_count": 17,
      "outputs": [
        {
          "output_type": "stream",
          "name": "stdout",
          "text": [
            "Epoch 1/15\n",
            "131/132 [============================>.] - ETA: 0s - loss: 1146.8660 - mape: 89.4776"
          ]
        },
        {
          "output_type": "stream",
          "name": "stderr",
          "text": [
            "WARNING:absl:Found untraced functions such as _update_step_xla while saving (showing 1 of 1). These functions will not be directly callable after loading.\n"
          ]
        },
        {
          "output_type": "stream",
          "name": "stdout",
          "text": [
            "\b\b\b\b\b\b\b\b\b\b\b\b\b\b\b\b\b\b\b\b\b\b\b\b\b\b\b\b\b\b\b\b\b\b\b\b\b\b\b\b\b\b\b\b\b\b\b\b\b\b\b\b\b\b\b\b\b\b\b\b\b\b\b\b\b\b\b\b\b\b\b\b\b\b\b\b\b\b\b\b\b\b\b\b\r132/132 [==============================] - 14s 69ms/step - loss: 1146.5823 - mape: 89.4539 - val_loss: 5664.6973 - val_mape: 52.0496\n",
            "Epoch 2/15\n",
            "130/132 [============================>.] - ETA: 0s - loss: 223.9070 - mape: 38.4756"
          ]
        },
        {
          "output_type": "stream",
          "name": "stderr",
          "text": [
            "WARNING:absl:Found untraced functions such as _update_step_xla while saving (showing 1 of 1). These functions will not be directly callable after loading.\n"
          ]
        },
        {
          "output_type": "stream",
          "name": "stdout",
          "text": [
            "\b\b\b\b\b\b\b\b\b\b\b\b\b\b\b\b\b\b\b\b\b\b\b\b\b\b\b\b\b\b\b\b\b\b\b\b\b\b\b\b\b\b\b\b\b\b\b\b\b\b\b\b\b\b\b\b\b\b\b\b\b\b\b\b\b\b\b\b\b\b\b\b\b\b\b\b\b\b\b\b\b\b\b\r132/132 [==============================] - 7s 56ms/step - loss: 223.0863 - mape: 38.4231 - val_loss: 70.9299 - val_mape: 5.8869\n",
            "Epoch 3/15\n",
            "132/132 [==============================] - 2s 12ms/step - loss: 120.4313 - mape: 27.4174 - val_loss: 355.8726 - val_mape: 13.8329\n",
            "Epoch 4/15\n",
            "132/132 [==============================] - 2s 15ms/step - loss: 121.3325 - mape: 27.0581 - val_loss: 175.0363 - val_mape: 8.8532\n",
            "Epoch 5/15\n",
            "132/132 [==============================] - 2s 13ms/step - loss: 100.4437 - mape: 26.0836 - val_loss: 166.2848 - val_mape: 9.0624\n",
            "Epoch 6/15\n",
            "132/132 [==============================] - 1s 10ms/step - loss: 93.2708 - mape: 24.8639 - val_loss: 126.4158 - val_mape: 7.6730\n",
            "Epoch 7/15\n",
            "132/132 [==============================] - 1s 10ms/step - loss: 84.1198 - mape: 24.0439 - val_loss: 80.6392 - val_mape: 6.2656\n",
            "Epoch 8/15\n",
            "132/132 [==============================] - ETA: 0s - loss: 90.2634 - mape: 24.0263"
          ]
        },
        {
          "output_type": "stream",
          "name": "stderr",
          "text": [
            "WARNING:absl:Found untraced functions such as _update_step_xla while saving (showing 1 of 1). These functions will not be directly callable after loading.\n"
          ]
        },
        {
          "output_type": "stream",
          "name": "stdout",
          "text": [
            "\b\b\b\b\b\b\b\b\b\b\b\b\b\b\b\b\b\b\b\b\b\b\b\b\b\b\b\b\b\b\b\b\b\b\b\b\b\b\b\b\b\b\b\b\b\b\b\b\b\b\b\b\b\b\b\b\b\b\b\b\b\b\b\b\b\b\b\b\b\b\b\b\b\b\b\b\b\b\b\b\b\b\r132/132 [==============================] - 8s 64ms/step - loss: 90.2634 - mape: 24.0263 - val_loss: 62.1215 - val_mape: 5.5357\n",
            "Epoch 9/15\n",
            "132/132 [==============================] - 2s 11ms/step - loss: 86.1684 - mape: 24.1234 - val_loss: 70.2400 - val_mape: 5.8838\n",
            "Epoch 10/15\n",
            "129/132 [============================>.] - ETA: 0s - loss: 78.1379 - mape: 23.4598"
          ]
        },
        {
          "output_type": "stream",
          "name": "stderr",
          "text": [
            "WARNING:absl:Found untraced functions such as _update_step_xla while saving (showing 1 of 1). These functions will not be directly callable after loading.\n"
          ]
        },
        {
          "output_type": "stream",
          "name": "stdout",
          "text": [
            "\b\b\b\b\b\b\b\b\b\b\b\b\b\b\b\b\b\b\b\b\b\b\b\b\b\b\b\b\b\b\b\b\b\b\b\b\b\b\b\b\b\b\b\b\b\b\b\b\b\b\b\b\b\b\b\b\b\b\b\b\b\b\b\b\b\b\b\b\b\b\b\b\b\b\b\b\b\b\b\b\b\b\r132/132 [==============================] - 8s 60ms/step - loss: 77.3624 - mape: 23.4481 - val_loss: 61.0162 - val_mape: 5.4835\n",
            "Epoch 11/15\n",
            "132/132 [==============================] - ETA: 0s - loss: 75.4869 - mape: 22.4641"
          ]
        },
        {
          "output_type": "stream",
          "name": "stderr",
          "text": [
            "WARNING:absl:Found untraced functions such as _update_step_xla while saving (showing 1 of 1). These functions will not be directly callable after loading.\n"
          ]
        },
        {
          "output_type": "stream",
          "name": "stdout",
          "text": [
            "\b\b\b\b\b\b\b\b\b\b\b\b\b\b\b\b\b\b\b\b\b\b\b\b\b\b\b\b\b\b\b\b\b\b\b\b\b\b\b\b\b\b\b\b\b\b\b\b\b\b\b\b\b\b\b\b\b\b\b\b\b\b\b\b\b\b\b\b\b\b\b\b\b\b\b\b\b\b\b\b\b\b\r132/132 [==============================] - 9s 71ms/step - loss: 75.4869 - mape: 22.4641 - val_loss: 60.2124 - val_mape: 5.4587\n",
            "Epoch 12/15\n",
            "132/132 [==============================] - 1s 11ms/step - loss: 67.3687 - mape: 22.3962 - val_loss: 269.8875 - val_mape: 12.0903\n",
            "Epoch 13/15\n",
            "132/132 [==============================] - 1s 10ms/step - loss: 65.8137 - mape: 22.4918 - val_loss: 139.2440 - val_mape: 8.3284\n",
            "Epoch 14/15\n",
            "132/132 [==============================] - 1s 10ms/step - loss: 68.8816 - mape: 22.2217 - val_loss: 78.7418 - val_mape: 6.2298\n",
            "Epoch 15/15\n",
            "132/132 [==============================] - 2s 18ms/step - loss: 60.9713 - mape: 21.6595 - val_loss: 220.1416 - val_mape: 10.4922\n",
            "count_1 1\n",
            "Epoch 1/15\n",
            "128/131 [============================>.] - ETA: 0s - loss: 978.3328 - mape: 81.3947 "
          ]
        },
        {
          "output_type": "stream",
          "name": "stderr",
          "text": [
            "WARNING:absl:Found untraced functions such as _update_step_xla while saving (showing 1 of 1). These functions will not be directly callable after loading.\n"
          ]
        },
        {
          "output_type": "stream",
          "name": "stdout",
          "text": [
            "\b\b\b\b\b\b\b\b\b\b\b\b\b\b\b\b\b\b\b\b\b\b\b\b\b\b\b\b\b\b\b\b\b\b\b\b\b\b\b\b\b\b\b\b\b\b\b\b\b\b\b\b\b\b\b\b\b\b\b\b\b\b\b\b\b\b\b\b\b\b\b\b\b\b\b\b\b\b\b\b\b\b\b\r131/131 [==============================] - 13s 65ms/step - loss: 961.5664 - mape: 80.7120 - val_loss: 12074.3447 - val_mape: 78.4673\n",
            "Epoch 2/15\n",
            "129/131 [============================>.] - ETA: 0s - loss: 103.3254 - mape: 30.8895"
          ]
        },
        {
          "output_type": "stream",
          "name": "stderr",
          "text": [
            "WARNING:absl:Found untraced functions such as _update_step_xla while saving (showing 1 of 1). These functions will not be directly callable after loading.\n"
          ]
        },
        {
          "output_type": "stream",
          "name": "stdout",
          "text": [
            "\b\b\b\b\b\b\b\b\b\b\b\b\b\b\b\b\b\b\b\b\b\b\b\b\b\b\b\b\b\b\b\b\b\b\b\b\b\b\b\b\b\b\b\b\b\b\b\b\b\b\b\b\b\b\b\b\b\b\b\b\b\b\b\b\b\b\b\b\b\b\b\b\b\b\b\b\b\b\b\b\b\b\b\r131/131 [==============================] - 9s 66ms/step - loss: 102.8440 - mape: 30.7935 - val_loss: 272.9099 - val_mape: 10.2702\n",
            "Epoch 3/15\n",
            "128/131 [============================>.] - ETA: 0s - loss: 75.6773 - mape: 25.6689"
          ]
        },
        {
          "output_type": "stream",
          "name": "stderr",
          "text": [
            "WARNING:absl:Found untraced functions such as _update_step_xla while saving (showing 1 of 1). These functions will not be directly callable after loading.\n"
          ]
        },
        {
          "output_type": "stream",
          "name": "stdout",
          "text": [
            "\b\b\b\b\b\b\b\b\b\b\b\b\b\b\b\b\b\b\b\b\b\b\b\b\b\b\b\b\b\b\b\b\b\b\b\b\b\b\b\b\b\b\b\b\b\b\b\b\b\b\b\b\b\b\b\b\b\b\b\b\b\b\b\b\b\b\b\b\b\b\b\b\b\b\b\b\b\b\b\b\b\b\r131/131 [==============================] - 8s 63ms/step - loss: 75.7721 - mape: 25.6317 - val_loss: 183.7032 - val_mape: 8.4507\n",
            "Epoch 4/15\n",
            "130/131 [============================>.] - ETA: 0s - loss: 67.3503 - mape: 24.0671"
          ]
        },
        {
          "output_type": "stream",
          "name": "stderr",
          "text": [
            "WARNING:absl:Found untraced functions such as _update_step_xla while saving (showing 1 of 1). These functions will not be directly callable after loading.\n"
          ]
        },
        {
          "output_type": "stream",
          "name": "stdout",
          "text": [
            "\b\b\b\b\b\b\b\b\b\b\b\b\b\b\b\b\b\b\b\b\b\b\b\b\b\b\b\b\b\b\b\b\b\b\b\b\b\b\b\b\b\b\b\b\b\b\b\b\b\b\b\b\b\b\b\b\b\b\b\b\b\b\b\b\b\b\b\b\b\b\b\b\b\b\b\b\b\b\b\b\b\b\r131/131 [==============================] - 10s 73ms/step - loss: 67.5584 - mape: 24.0793 - val_loss: 168.3621 - val_mape: 8.0951\n",
            "Epoch 5/15\n",
            "131/131 [==============================] - 2s 12ms/step - loss: 67.3278 - mape: 22.9392 - val_loss: 539.9341 - val_mape: 15.5142\n",
            "Epoch 6/15\n",
            "128/131 [============================>.] - ETA: 0s - loss: 59.8359 - mape: 21.6341"
          ]
        },
        {
          "output_type": "stream",
          "name": "stderr",
          "text": [
            "WARNING:absl:Found untraced functions such as _update_step_xla while saving (showing 1 of 1). These functions will not be directly callable after loading.\n"
          ]
        },
        {
          "output_type": "stream",
          "name": "stdout",
          "text": [
            "\b\b\b\b\b\b\b\b\b\b\b\b\b\b\b\b\b\b\b\b\b\b\b\b\b\b\b\b\b\b\b\b\b\b\b\b\b\b\b\b\b\b\b\b\b\b\b\b\b\b\b\b\b\b\b\b\b\b\b\b\b\b\b\b\b\b\b\b\b\b\b\b\b\b\b\b\b\b\b\b\b\b\r131/131 [==============================] - 8s 61ms/step - loss: 59.4222 - mape: 21.6974 - val_loss: 119.2245 - val_mape: 7.1241\n",
            "Epoch 7/15\n",
            "131/131 [==============================] - 2s 14ms/step - loss: 52.9938 - mape: 20.5045 - val_loss: 269.5659 - val_mape: 10.2941\n",
            "Epoch 8/15\n",
            "131/131 [==============================] - 1s 11ms/step - loss: 54.7800 - mape: 20.4380 - val_loss: 283.8654 - val_mape: 11.0988\n",
            "Epoch 9/15\n",
            "130/131 [============================>.] - ETA: 0s - loss: 50.0604 - mape: 20.0125"
          ]
        },
        {
          "output_type": "stream",
          "name": "stderr",
          "text": [
            "WARNING:absl:Found untraced functions such as _update_step_xla while saving (showing 1 of 1). These functions will not be directly callable after loading.\n"
          ]
        },
        {
          "output_type": "stream",
          "name": "stdout",
          "text": [
            "\b\b\b\b\b\b\b\b\b\b\b\b\b\b\b\b\b\b\b\b\b\b\b\b\b\b\b\b\b\b\b\b\b\b\b\b\b\b\b\b\b\b\b\b\b\b\b\b\b\b\b\b\b\b\b\b\b\b\b\b\b\b\b\b\b\b\b\b\b\b\b\b\b\b\b\b\b\b\b\b\b\b\r131/131 [==============================] - 8s 64ms/step - loss: 50.4541 - mape: 19.9970 - val_loss: 78.9752 - val_mape: 6.2950\n",
            "Epoch 10/15\n",
            "131/131 [==============================] - 3s 19ms/step - loss: 50.3579 - mape: 19.1266 - val_loss: 263.0486 - val_mape: 10.8047\n",
            "Epoch 11/15\n",
            "131/131 [==============================] - 2s 12ms/step - loss: 52.1208 - mape: 19.5150 - val_loss: 141.8943 - val_mape: 7.4476\n",
            "Epoch 12/15\n",
            "131/131 [==============================] - 1s 11ms/step - loss: 50.8160 - mape: 18.8882 - val_loss: 211.3912 - val_mape: 9.1527\n",
            "Epoch 13/15\n",
            "131/131 [==============================] - 1s 11ms/step - loss: 45.0844 - mape: 17.8728 - val_loss: 117.6582 - val_mape: 7.7355\n",
            "Epoch 14/15\n",
            "129/131 [============================>.] - ETA: 0s - loss: 47.3702 - mape: 18.5736"
          ]
        },
        {
          "output_type": "stream",
          "name": "stderr",
          "text": [
            "WARNING:absl:Found untraced functions such as _update_step_xla while saving (showing 1 of 1). These functions will not be directly callable after loading.\n"
          ]
        },
        {
          "output_type": "stream",
          "name": "stdout",
          "text": [
            "\b\b\b\b\b\b\b\b\b\b\b\b\b\b\b\b\b\b\b\b\b\b\b\b\b\b\b\b\b\b\b\b\b\b\b\b\b\b\b\b\b\b\b\b\b\b\b\b\b\b\b\b\b\b\b\b\b\b\b\b\b\b\b\b\b\b\b\b\b\b\b\b\b\b\b\b\b\b\b\b\b\b\r131/131 [==============================] - 9s 70ms/step - loss: 47.4626 - mape: 18.5410 - val_loss: 73.6293 - val_mape: 5.7997\n",
            "Epoch 15/15\n",
            "131/131 [==============================] - ETA: 0s - loss: 47.2087 - mape: 18.2659"
          ]
        },
        {
          "output_type": "stream",
          "name": "stderr",
          "text": [
            "WARNING:absl:Found untraced functions such as _update_step_xla while saving (showing 1 of 1). These functions will not be directly callable after loading.\n"
          ]
        },
        {
          "output_type": "stream",
          "name": "stdout",
          "text": [
            "\b\b\b\b\b\b\b\b\b\b\b\b\b\b\b\b\b\b\b\b\b\b\b\b\b\b\b\b\b\b\b\b\b\b\b\b\b\b\b\b\b\b\b\b\b\b\b\b\b\b\b\b\b\b\b\b\b\b\b\b\b\b\b\b\b\b\b\b\b\b\b\b\b\b\b\b\b\b\b\b\b\b\r131/131 [==============================] - 7s 54ms/step - loss: 47.2087 - mape: 18.2659 - val_loss: 69.1179 - val_mape: 5.7111\n",
            "count_1 2\n",
            "count_2 1\n",
            "Epoch 1/15\n",
            "131/131 [==============================] - ETA: 0s - loss: 1203.2112 - mape: 93.1408"
          ]
        },
        {
          "output_type": "stream",
          "name": "stderr",
          "text": [
            "WARNING:absl:Found untraced functions such as _update_step_xla while saving (showing 1 of 1). These functions will not be directly callable after loading.\n"
          ]
        },
        {
          "output_type": "stream",
          "name": "stdout",
          "text": [
            "\b\b\b\b\b\b\b\b\b\b\b\b\b\b\b\b\b\b\b\b\b\b\b\b\b\b\b\b\b\b\b\b\b\b\b\b\b\b\b\b\b\b\b\b\b\b\b\b\b\b\b\b\b\b\b\b\b\b\b\b\b\b\b\b\b\b\b\b\b\b\b\b\b\b\b\b\b\b\b\b\b\b\b\b\r131/131 [==============================] - 14s 66ms/step - loss: 1203.2112 - mape: 93.1408 - val_loss: 35763.4062 - val_mape: 144.6911\n",
            "Epoch 2/15\n",
            "130/131 [============================>.] - ETA: 0s - loss: 268.0453 - mape: 42.9164"
          ]
        },
        {
          "output_type": "stream",
          "name": "stderr",
          "text": [
            "WARNING:absl:Found untraced functions such as _update_step_xla while saving (showing 1 of 1). These functions will not be directly callable after loading.\n"
          ]
        },
        {
          "output_type": "stream",
          "name": "stdout",
          "text": [
            "\b\b\b\b\b\b\b\b\b\b\b\b\b\b\b\b\b\b\b\b\b\b\b\b\b\b\b\b\b\b\b\b\b\b\b\b\b\b\b\b\b\b\b\b\b\b\b\b\b\b\b\b\b\b\b\b\b\b\b\b\b\b\b\b\b\b\b\b\b\b\b\b\b\b\b\b\b\b\b\b\b\b\b\r131/131 [==============================] - 8s 64ms/step - loss: 267.4740 - mape: 42.8794 - val_loss: 87.3494 - val_mape: 6.4126\n",
            "Epoch 3/15\n",
            "131/131 [==============================] - 1s 10ms/step - loss: 184.0757 - mape: 36.6440 - val_loss: 87.3857 - val_mape: 6.5168\n",
            "Epoch 4/15\n",
            "131/131 [==============================] - 1s 10ms/step - loss: 171.6726 - mape: 33.8885 - val_loss: 89.7103 - val_mape: 6.6650\n",
            "Epoch 5/15\n",
            "131/131 [==============================] - 1s 10ms/step - loss: 168.2249 - mape: 34.5292 - val_loss: 271.1856 - val_mape: 12.3057\n",
            "Epoch 6/15\n",
            "131/131 [==============================] - 1s 11ms/step - loss: 153.1192 - mape: 32.7059 - val_loss: 116.5527 - val_mape: 7.6907\n",
            "Epoch 7/15\n",
            "131/131 [==============================] - 2s 15ms/step - loss: 141.1309 - mape: 32.2373 - val_loss: 89.6822 - val_mape: 6.4374\n",
            "Epoch 8/15\n",
            "131/131 [==============================] - 2s 12ms/step - loss: 130.5045 - mape: 30.8775 - val_loss: 878.6073 - val_mape: 23.8171\n",
            "Epoch 9/15\n",
            "131/131 [==============================] - 1s 11ms/step - loss: 141.1024 - mape: 31.5993 - val_loss: 447.5525 - val_mape: 16.6632\n",
            "Epoch 10/15\n",
            "131/131 [==============================] - 1s 10ms/step - loss: 123.9940 - mape: 30.4194 - val_loss: 415.8728 - val_mape: 15.8545\n",
            "Epoch 11/15\n",
            "131/131 [==============================] - 1s 11ms/step - loss: 125.7739 - mape: 29.4627 - val_loss: 249.3323 - val_mape: 11.8976\n",
            "Epoch 12/15\n",
            "131/131 [==============================] - 1s 11ms/step - loss: 113.6849 - mape: 27.9156 - val_loss: 213.3774 - val_mape: 10.8865\n",
            "Epoch 13/15\n",
            "131/131 [==============================] - 1s 10ms/step - loss: 110.4471 - mape: 28.0544 - val_loss: 191.1194 - val_mape: 10.1909\n",
            "Epoch 14/15\n",
            "131/131 [==============================] - 1s 10ms/step - loss: 114.6443 - mape: 27.3470 - val_loss: 207.6420 - val_mape: 10.7162\n",
            "Epoch 15/15\n",
            "131/131 [==============================] - 2s 12ms/step - loss: 104.1877 - mape: 26.3128 - val_loss: 570.5044 - val_mape: 18.9554\n",
            "count_1 3\n",
            "Epoch 1/15\n",
            "130/131 [============================>.] - ETA: 0s - loss: 837.3411 - mape: 77.7259"
          ]
        },
        {
          "output_type": "stream",
          "name": "stderr",
          "text": [
            "WARNING:absl:Found untraced functions such as _update_step_xla while saving (showing 1 of 1). These functions will not be directly callable after loading.\n"
          ]
        },
        {
          "output_type": "stream",
          "name": "stdout",
          "text": [
            "\b\b\b\b\b\b\b\b\b\b\b\b\b\b\b\b\b\b\b\b\b\b\b\b\b\b\b\b\b\b\b\b\b\b\b\b\b\b\b\b\b\b\b\b\b\b\b\b\b\b\b\b\b\b\b\b\b\b\b\b\b\b\b\b\b\b\b\b\b\b\b\b\b\b\b\b\b\b\b\b\b\b\b\r131/131 [==============================] - 15s 64ms/step - loss: 836.3219 - mape: 77.6477 - val_loss: 542.7441 - val_mape: 16.0435\n",
            "Epoch 2/15\n",
            "127/131 [============================>.] - ETA: 0s - loss: 87.5632 - mape: 28.1111"
          ]
        },
        {
          "output_type": "stream",
          "name": "stderr",
          "text": [
            "WARNING:absl:Found untraced functions such as _update_step_xla while saving (showing 1 of 1). These functions will not be directly callable after loading.\n"
          ]
        },
        {
          "output_type": "stream",
          "name": "stdout",
          "text": [
            "\b\b\b\b\b\b\b\b\b\b\b\b\b\b\b\b\b\b\b\b\b\b\b\b\b\b\b\b\b\b\b\b\b\b\b\b\b\b\b\b\b\b\b\b\b\b\b\b\b\b\b\b\b\b\b\b\b\b\b\b\b\b\b\b\b\b\b\b\b\b\b\b\b\b\b\b\b\b\b\b\b\b\r131/131 [==============================] - 8s 64ms/step - loss: 87.4620 - mape: 28.0199 - val_loss: 80.4957 - val_mape: 6.3156\n",
            "Epoch 3/15\n",
            "128/131 [============================>.] - ETA: 0s - loss: 68.7092 - mape: 23.8909"
          ]
        },
        {
          "output_type": "stream",
          "name": "stderr",
          "text": [
            "WARNING:absl:Found untraced functions such as _update_step_xla while saving (showing 1 of 1). These functions will not be directly callable after loading.\n"
          ]
        },
        {
          "output_type": "stream",
          "name": "stdout",
          "text": [
            "\b\b\b\b\b\b\b\b\b\b\b\b\b\b\b\b\b\b\b\b\b\b\b\b\b\b\b\b\b\b\b\b\b\b\b\b\b\b\b\b\b\b\b\b\b\b\b\b\b\b\b\b\b\b\b\b\b\b\b\b\b\b\b\b\b\b\b\b\b\b\b\b\b\b\b\b\b\b\b\b\b\b\r131/131 [==============================] - 7s 57ms/step - loss: 69.0200 - mape: 23.9020 - val_loss: 64.0881 - val_mape: 5.6233\n",
            "Epoch 4/15\n",
            "131/131 [==============================] - 2s 16ms/step - loss: 58.1741 - mape: 22.5147 - val_loss: 140.0698 - val_mape: 8.3336\n",
            "Epoch 5/15\n",
            "131/131 [==============================] - 2s 13ms/step - loss: 57.1005 - mape: 20.0734 - val_loss: 109.3677 - val_mape: 7.3100\n",
            "Epoch 6/15\n",
            "131/131 [==============================] - 1s 11ms/step - loss: 47.4815 - mape: 18.5323 - val_loss: 198.4995 - val_mape: 9.9867\n",
            "Epoch 7/15\n",
            "131/131 [==============================] - 2s 13ms/step - loss: 42.0204 - mape: 18.3891 - val_loss: 164.7555 - val_mape: 9.0627\n",
            "Epoch 8/15\n",
            "131/131 [==============================] - 1s 11ms/step - loss: 42.7176 - mape: 17.4806 - val_loss: 151.6603 - val_mape: 8.7306\n",
            "Epoch 9/15\n",
            "131/131 [==============================] - 1s 11ms/step - loss: 39.1723 - mape: 16.6949 - val_loss: 387.3049 - val_mape: 14.4527\n",
            "Epoch 10/15\n",
            "131/131 [==============================] - 1s 11ms/step - loss: 36.2086 - mape: 15.4126 - val_loss: 284.8251 - val_mape: 12.5089\n",
            "Epoch 11/15\n",
            "131/131 [==============================] - 1s 11ms/step - loss: 39.1367 - mape: 16.2065 - val_loss: 287.0265 - val_mape: 12.3044\n",
            "Epoch 12/15\n",
            "131/131 [==============================] - 2s 16ms/step - loss: 35.8169 - mape: 15.5959 - val_loss: 383.6100 - val_mape: 14.4489\n",
            "Epoch 13/15\n",
            "131/131 [==============================] - 2s 12ms/step - loss: 35.1117 - mape: 15.6927 - val_loss: 1001.6277 - val_mape: 24.5332\n",
            "Epoch 14/15\n",
            "131/131 [==============================] - 2s 11ms/step - loss: 34.4419 - mape: 15.6851 - val_loss: 764.1104 - val_mape: 21.1712\n",
            "Epoch 15/15\n",
            "131/131 [==============================] - 1s 11ms/step - loss: 33.7581 - mape: 15.2375 - val_loss: 790.8043 - val_mape: 21.9370\n",
            "count_1 4\n",
            "count_2 2\n",
            "Epoch 1/15\n",
            "127/130 [============================>.] - ETA: 0s - loss: 977.2615 - mape: 82.4561 "
          ]
        },
        {
          "output_type": "stream",
          "name": "stderr",
          "text": [
            "WARNING:absl:Found untraced functions such as _update_step_xla while saving (showing 1 of 1). These functions will not be directly callable after loading.\n"
          ]
        },
        {
          "output_type": "stream",
          "name": "stdout",
          "text": [
            "\b\b\b\b\b\b\b\b\b\b\b\b\b\b\b\b\b\b\b\b\b\b\b\b\b\b\b\b\b\b\b\b\b\b\b\b\b\b\b\b\b\b\b\b\b\b\b\b\b\b\b\b\b\b\b\b\b\b\b\b\b\b\b\b\b\b\b\b\b\b\b\b\b\b\b\b\b\b\b\b\b\b\b\r130/130 [==============================] - 15s 63ms/step - loss: 962.6454 - mape: 81.6828 - val_loss: 3450.9729 - val_mape: 39.2551\n",
            "Epoch 2/15\n",
            "130/130 [==============================] - ETA: 0s - loss: 273.5893 - mape: 43.0064"
          ]
        },
        {
          "output_type": "stream",
          "name": "stderr",
          "text": [
            "WARNING:absl:Found untraced functions such as _update_step_xla while saving (showing 1 of 1). These functions will not be directly callable after loading.\n"
          ]
        },
        {
          "output_type": "stream",
          "name": "stdout",
          "text": [
            "\b\b\b\b\b\b\b\b\b\b\b\b\b\b\b\b\b\b\b\b\b\b\b\b\b\b\b\b\b\b\b\b\b\b\b\b\b\b\b\b\b\b\b\b\b\b\b\b\b\b\b\b\b\b\b\b\b\b\b\b\b\b\b\b\b\b\b\b\b\b\b\b\b\b\b\b\b\b\b\b\b\b\b\r130/130 [==============================] - 9s 69ms/step - loss: 273.5893 - mape: 43.0064 - val_loss: 817.9623 - val_mape: 18.2259\n",
            "Epoch 3/15\n",
            "128/130 [============================>.] - ETA: 0s - loss: 205.4633 - mape: 37.7848"
          ]
        },
        {
          "output_type": "stream",
          "name": "stderr",
          "text": [
            "WARNING:absl:Found untraced functions such as _update_step_xla while saving (showing 1 of 1). These functions will not be directly callable after loading.\n"
          ]
        },
        {
          "output_type": "stream",
          "name": "stdout",
          "text": [
            "\b\b\b\b\b\b\b\b\b\b\b\b\b\b\b\b\b\b\b\b\b\b\b\b\b\b\b\b\b\b\b\b\b\b\b\b\b\b\b\b\b\b\b\b\b\b\b\b\b\b\b\b\b\b\b\b\b\b\b\b\b\b\b\b\b\b\b\b\b\b\b\b\b\b\b\b\b\b\b\b\b\b\b\r130/130 [==============================] - 8s 65ms/step - loss: 204.6305 - mape: 37.6631 - val_loss: 220.1983 - val_mape: 9.3395\n",
            "Epoch 4/15\n",
            "130/130 [==============================] - 1s 11ms/step - loss: 182.8852 - mape: 34.9834 - val_loss: 312.2413 - val_mape: 13.2635\n",
            "Epoch 5/15\n",
            "130/130 [==============================] - 2s 13ms/step - loss: 155.8042 - mape: 33.5136 - val_loss: 194.6272 - val_mape: 10.1224\n",
            "Epoch 6/15\n",
            "130/130 [==============================] - 1s 11ms/step - loss: 136.2875 - mape: 31.3610 - val_loss: 335.9604 - val_mape: 13.8263\n",
            "Epoch 7/15\n",
            "130/130 [==============================] - 2s 13ms/step - loss: 115.6831 - mape: 28.4576 - val_loss: 333.4860 - val_mape: 13.8095\n",
            "Epoch 8/15\n",
            "130/130 [==============================] - 2s 12ms/step - loss: 105.0609 - mape: 27.7591 - val_loss: 810.9379 - val_mape: 22.6065\n",
            "Epoch 9/15\n",
            "130/130 [==============================] - 2s 16ms/step - loss: 98.0993 - mape: 26.9610 - val_loss: 746.0375 - val_mape: 21.6272\n",
            "Epoch 10/15\n",
            "130/130 [==============================] - 2s 15ms/step - loss: 87.9409 - mape: 25.3844 - val_loss: 767.2962 - val_mape: 21.9031\n",
            "Epoch 11/15\n",
            "130/130 [==============================] - 1s 11ms/step - loss: 77.8709 - mape: 24.3429 - val_loss: 1243.8989 - val_mape: 28.1808\n",
            "Epoch 12/15\n",
            "130/130 [==============================] - 1s 11ms/step - loss: 81.1038 - mape: 23.6810 - val_loss: 484.2990 - val_mape: 16.8688\n",
            "Epoch 13/15\n",
            "130/130 [==============================] - 1s 11ms/step - loss: 77.4918 - mape: 22.9074 - val_loss: 1034.5048 - val_mape: 25.4664\n",
            "Epoch 14/15\n",
            "130/130 [==============================] - 1s 11ms/step - loss: 75.1577 - mape: 22.0306 - val_loss: 1328.4750 - val_mape: 28.9666\n",
            "Epoch 15/15\n",
            "130/130 [==============================] - 1s 11ms/step - loss: 67.2782 - mape: 21.8043 - val_loss: 1405.5477 - val_mape: 29.6581\n",
            "count_1 5\n",
            "Epoch 1/15\n",
            "127/130 [============================>.] - ETA: 0s - loss: 767.0884 - mape: 73.3926"
          ]
        },
        {
          "output_type": "stream",
          "name": "stderr",
          "text": [
            "WARNING:absl:Found untraced functions such as _update_step_xla while saving (showing 1 of 1). These functions will not be directly callable after loading.\n"
          ]
        },
        {
          "output_type": "stream",
          "name": "stdout",
          "text": [
            "\b\b\b\b\b\b\b\b\b\b\b\b\b\b\b\b\b\b\b\b\b\b\b\b\b\b\b\b\b\b\b\b\b\b\b\b\b\b\b\b\b\b\b\b\b\b\b\b\b\b\b\b\b\b\b\b\b\b\b\b\b\b\b\b\b\b\b\b\b\b\b\b\b\b\b\b\b\b\b\b\b\b\b\r130/130 [==============================] - 14s 63ms/step - loss: 753.6151 - mape: 72.4850 - val_loss: 634.9725 - val_mape: 16.3542\n",
            "Epoch 2/15\n",
            "127/130 [============================>.] - ETA: 0s - loss: 107.6124 - mape: 30.3719"
          ]
        },
        {
          "output_type": "stream",
          "name": "stderr",
          "text": [
            "WARNING:absl:Found untraced functions such as _update_step_xla while saving (showing 1 of 1). These functions will not be directly callable after loading.\n"
          ]
        },
        {
          "output_type": "stream",
          "name": "stdout",
          "text": [
            "\b\b\b\b\b\b\b\b\b\b\b\b\b\b\b\b\b\b\b\b\b\b\b\b\b\b\b\b\b\b\b\b\b\b\b\b\b\b\b\b\b\b\b\b\b\b\b\b\b\b\b\b\b\b\b\b\b\b\b\b\b\b\b\b\b\b\b\b\b\b\b\b\b\b\b\b\b\b\b\b\b\b\b\r130/130 [==============================] - 9s 72ms/step - loss: 107.2230 - mape: 30.3082 - val_loss: 135.3255 - val_mape: 7.7685\n",
            "Epoch 3/15\n",
            "130/130 [==============================] - ETA: 0s - loss: 86.6030 - mape: 25.2898"
          ]
        },
        {
          "output_type": "stream",
          "name": "stderr",
          "text": [
            "WARNING:absl:Found untraced functions such as _update_step_xla while saving (showing 1 of 1). These functions will not be directly callable after loading.\n"
          ]
        },
        {
          "output_type": "stream",
          "name": "stdout",
          "text": [
            "\b\b\b\b\b\b\b\b\b\b\b\b\b\b\b\b\b\b\b\b\b\b\b\b\b\b\b\b\b\b\b\b\b\b\b\b\b\b\b\b\b\b\b\b\b\b\b\b\b\b\b\b\b\b\b\b\b\b\b\b\b\b\b\b\b\b\b\b\b\b\b\b\b\b\b\b\b\b\b\b\b\b\r130/130 [==============================] - 10s 76ms/step - loss: 86.6030 - mape: 25.2898 - val_loss: 80.6072 - val_mape: 5.8638\n",
            "Epoch 4/15\n",
            "128/130 [============================>.] - ETA: 0s - loss: 69.7718 - mape: 21.2592"
          ]
        },
        {
          "output_type": "stream",
          "name": "stderr",
          "text": [
            "WARNING:absl:Found untraced functions such as _update_step_xla while saving (showing 1 of 1). These functions will not be directly callable after loading.\n"
          ]
        },
        {
          "output_type": "stream",
          "name": "stdout",
          "text": [
            "\b\b\b\b\b\b\b\b\b\b\b\b\b\b\b\b\b\b\b\b\b\b\b\b\b\b\b\b\b\b\b\b\b\b\b\b\b\b\b\b\b\b\b\b\b\b\b\b\b\b\b\b\b\b\b\b\b\b\b\b\b\b\b\b\b\b\b\b\b\b\b\b\b\b\b\b\b\b\b\b\b\b\r130/130 [==============================] - 9s 70ms/step - loss: 69.3481 - mape: 21.2162 - val_loss: 68.9830 - val_mape: 5.7204\n",
            "Epoch 5/15\n",
            "130/130 [==============================] - 2s 13ms/step - loss: 60.3903 - mape: 19.3670 - val_loss: 216.9355 - val_mape: 10.5685\n",
            "Epoch 6/15\n",
            "130/130 [==============================] - 2s 13ms/step - loss: 54.7238 - mape: 18.2548 - val_loss: 265.9447 - val_mape: 11.8583\n",
            "Epoch 7/15\n",
            "130/130 [==============================] - 2s 12ms/step - loss: 48.0090 - mape: 17.6424 - val_loss: 457.9850 - val_mape: 15.9636\n",
            "Epoch 8/15\n",
            "130/130 [==============================] - 2s 14ms/step - loss: 48.9257 - mape: 16.8958 - val_loss: 1139.1998 - val_mape: 26.3031\n",
            "Epoch 9/15\n",
            "130/130 [==============================] - 2s 13ms/step - loss: 45.0948 - mape: 16.8976 - val_loss: 695.9478 - val_mape: 20.0834\n",
            "Epoch 10/15\n",
            "130/130 [==============================] - 1s 11ms/step - loss: 44.1922 - mape: 16.7580 - val_loss: 1167.8495 - val_mape: 26.6274\n",
            "Epoch 11/15\n",
            "130/130 [==============================] - 2s 15ms/step - loss: 42.1401 - mape: 16.5586 - val_loss: 805.1124 - val_mape: 21.7673\n",
            "Epoch 12/15\n",
            "130/130 [==============================] - 2s 16ms/step - loss: 43.6798 - mape: 16.9726 - val_loss: 565.0766 - val_mape: 17.9079\n",
            "Epoch 13/15\n",
            "130/130 [==============================] - 1s 11ms/step - loss: 41.2229 - mape: 16.3648 - val_loss: 373.3987 - val_mape: 14.0855\n",
            "Epoch 14/15\n",
            "130/130 [==============================] - 1s 11ms/step - loss: 38.5970 - mape: 16.3752 - val_loss: 662.4541 - val_mape: 19.6048\n",
            "Epoch 15/15\n",
            "130/130 [==============================] - 1s 11ms/step - loss: 37.9570 - mape: 16.2700 - val_loss: 423.7607 - val_mape: 15.2430\n",
            "count_1 6\n",
            "count_2 3\n",
            "count_3 1\n",
            "Epoch 1/15\n",
            "130/130 [==============================] - ETA: 0s - loss: 1019.9604 - mape: 85.9246"
          ]
        },
        {
          "output_type": "stream",
          "name": "stderr",
          "text": [
            "WARNING:absl:Found untraced functions such as _update_step_xla while saving (showing 1 of 1). These functions will not be directly callable after loading.\n"
          ]
        },
        {
          "output_type": "stream",
          "name": "stdout",
          "text": [
            "\b\b\b\b\b\b\b\b\b\b\b\b\b\b\b\b\b\b\b\b\b\b\b\b\b\b\b\b\b\b\b\b\b\b\b\b\b\b\b\b\b\b\b\b\b\b\b\b\b\b\b\b\b\b\b\b\b\b\b\b\b\b\b\b\b\b\b\b\b\b\b\b\b\b\b\b\b\b\b\b\b\b\b\b\r130/130 [==============================] - 18s 85ms/step - loss: 1019.9604 - mape: 85.9246 - val_loss: 1175.3735 - val_mape: 27.6729\n",
            "Epoch 2/15\n",
            "127/130 [============================>.] - ETA: 0s - loss: 155.0008 - mape: 37.3261"
          ]
        },
        {
          "output_type": "stream",
          "name": "stderr",
          "text": [
            "WARNING:absl:Found untraced functions such as _update_step_xla while saving (showing 1 of 1). These functions will not be directly callable after loading.\n"
          ]
        },
        {
          "output_type": "stream",
          "name": "stdout",
          "text": [
            "\b\b\b\b\b\b\b\b\b\b\b\b\b\b\b\b\b\b\b\b\b\b\b\b\b\b\b\b\b\b\b\b\b\b\b\b\b\b\b\b\b\b\b\b\b\b\b\b\b\b\b\b\b\b\b\b\b\b\b\b\b\b\b\b\b\b\b\b\b\b\b\b\b\b\b\b\b\b\b\b\b\b\b\r130/130 [==============================] - 11s 82ms/step - loss: 154.2739 - mape: 37.2313 - val_loss: 128.6938 - val_mape: 7.3060\n",
            "Epoch 3/15\n",
            "130/130 [==============================] - 2s 15ms/step - loss: 115.0536 - mape: 32.7372 - val_loss: 578.9918 - val_mape: 15.8104\n",
            "Epoch 4/15\n",
            "130/130 [==============================] - 3s 20ms/step - loss: 99.3000 - mape: 31.7264 - val_loss: 229.0897 - val_mape: 9.4124\n",
            "Epoch 5/15\n",
            "130/130 [==============================] - 2s 14ms/step - loss: 86.5775 - mape: 30.0818 - val_loss: 209.7687 - val_mape: 8.9767\n",
            "Epoch 6/15\n",
            "130/130 [==============================] - 2s 13ms/step - loss: 84.8503 - mape: 29.6010 - val_loss: 126.1805 - val_mape: 7.3658\n",
            "Epoch 7/15\n",
            "130/130 [==============================] - 2s 13ms/step - loss: 85.9033 - mape: 28.8623 - val_loss: 159.5277 - val_mape: 7.8387\n",
            "Epoch 8/15\n",
            "130/130 [==============================] - 2s 15ms/step - loss: 78.8984 - mape: 28.0053 - val_loss: 148.5043 - val_mape: 7.5375\n",
            "Epoch 9/15\n",
            "130/130 [==============================] - 2s 14ms/step - loss: 75.3291 - mape: 26.8877 - val_loss: 243.4504 - val_mape: 9.8852\n",
            "Epoch 10/15\n",
            "130/130 [==============================] - ETA: 0s - loss: 67.4155 - mape: 25.6069"
          ]
        },
        {
          "output_type": "stream",
          "name": "stderr",
          "text": [
            "WARNING:absl:Found untraced functions such as _update_step_xla while saving (showing 1 of 1). These functions will not be directly callable after loading.\n"
          ]
        },
        {
          "output_type": "stream",
          "name": "stdout",
          "text": [
            "\b\b\b\b\b\b\b\b\b\b\b\b\b\b\b\b\b\b\b\b\b\b\b\b\b\b\b\b\b\b\b\b\b\b\b\b\b\b\b\b\b\b\b\b\b\b\b\b\b\b\b\b\b\b\b\b\b\b\b\b\b\b\b\b\b\b\b\b\b\b\b\b\b\b\b\b\b\b\b\b\b\b\r130/130 [==============================] - 10s 77ms/step - loss: 67.4155 - mape: 25.6069 - val_loss: 103.8000 - val_mape: 6.9597\n",
            "Epoch 11/15\n",
            "130/130 [==============================] - 2s 13ms/step - loss: 67.1174 - mape: 24.8337 - val_loss: 105.7183 - val_mape: 7.3524\n",
            "Epoch 12/15\n",
            "129/130 [============================>.] - ETA: 0s - loss: 60.1574 - mape: 23.6061"
          ]
        },
        {
          "output_type": "stream",
          "name": "stderr",
          "text": [
            "WARNING:absl:Found untraced functions such as _update_step_xla while saving (showing 1 of 1). These functions will not be directly callable after loading.\n"
          ]
        },
        {
          "output_type": "stream",
          "name": "stdout",
          "text": [
            "\b\b\b\b\b\b\b\b\b\b\b\b\b\b\b\b\b\b\b\b\b\b\b\b\b\b\b\b\b\b\b\b\b\b\b\b\b\b\b\b\b\b\b\b\b\b\b\b\b\b\b\b\b\b\b\b\b\b\b\b\b\b\b\b\b\b\b\b\b\b\b\b\b\b\b\b\b\b\b\b\b\b\r130/130 [==============================] - 10s 81ms/step - loss: 60.1040 - mape: 23.6341 - val_loss: 102.2066 - val_mape: 6.3590\n",
            "Epoch 13/15\n",
            "130/130 [==============================] - 2s 14ms/step - loss: 58.8987 - mape: 23.5231 - val_loss: 100.7723 - val_mape: 7.1714\n",
            "Epoch 14/15\n",
            "130/130 [==============================] - 2s 14ms/step - loss: 53.5930 - mape: 22.4549 - val_loss: 177.5475 - val_mape: 9.6800\n",
            "Epoch 15/15\n",
            "130/130 [==============================] - 2s 19ms/step - loss: 51.7869 - mape: 21.9617 - val_loss: 181.9721 - val_mape: 9.8193\n",
            "count_1 7\n",
            "Epoch 1/15\n",
            "130/130 [==============================] - ETA: 0s - loss: 771.4644 - mape: 75.3644"
          ]
        },
        {
          "output_type": "stream",
          "name": "stderr",
          "text": [
            "WARNING:absl:Found untraced functions such as _update_step_xla while saving (showing 1 of 1). These functions will not be directly callable after loading.\n"
          ]
        },
        {
          "output_type": "stream",
          "name": "stdout",
          "text": [
            "\b\b\b\b\b\b\b\b\b\b\b\b\b\b\b\b\b\b\b\b\b\b\b\b\b\b\b\b\b\b\b\b\b\b\b\b\b\b\b\b\b\b\b\b\b\b\b\b\b\b\b\b\b\b\b\b\b\b\b\b\b\b\b\b\b\b\b\b\b\b\b\b\b\b\b\b\b\b\b\b\b\b\b\r130/130 [==============================] - 18s 93ms/step - loss: 771.4644 - mape: 75.3644 - val_loss: 14049.0947 - val_mape: 84.6489\n",
            "Epoch 2/15\n",
            "128/130 [============================>.] - ETA: 0s - loss: 89.8336 - mape: 28.3518"
          ]
        },
        {
          "output_type": "stream",
          "name": "stderr",
          "text": [
            "WARNING:absl:Found untraced functions such as _update_step_xla while saving (showing 1 of 1). These functions will not be directly callable after loading.\n"
          ]
        },
        {
          "output_type": "stream",
          "name": "stdout",
          "text": [
            "\b\b\b\b\b\b\b\b\b\b\b\b\b\b\b\b\b\b\b\b\b\b\b\b\b\b\b\b\b\b\b\b\b\b\b\b\b\b\b\b\b\b\b\b\b\b\b\b\b\b\b\b\b\b\b\b\b\b\b\b\b\b\b\b\b\b\b\b\b\b\b\b\b\b\b\b\b\b\b\b\b\b\r130/130 [==============================] - 10s 75ms/step - loss: 89.6635 - mape: 28.3060 - val_loss: 1342.4717 - val_mape: 23.6482\n",
            "Epoch 3/15\n",
            "129/130 [============================>.] - ETA: 0s - loss: 69.2100 - mape: 25.0754"
          ]
        },
        {
          "output_type": "stream",
          "name": "stderr",
          "text": [
            "WARNING:absl:Found untraced functions such as _update_step_xla while saving (showing 1 of 1). These functions will not be directly callable after loading.\n"
          ]
        },
        {
          "output_type": "stream",
          "name": "stdout",
          "text": [
            "\b\b\b\b\b\b\b\b\b\b\b\b\b\b\b\b\b\b\b\b\b\b\b\b\b\b\b\b\b\b\b\b\b\b\b\b\b\b\b\b\b\b\b\b\b\b\b\b\b\b\b\b\b\b\b\b\b\b\b\b\b\b\b\b\b\b\b\b\b\b\b\b\b\b\b\b\b\b\b\b\b\b\r130/130 [==============================] - 10s 79ms/step - loss: 69.1642 - mape: 25.0673 - val_loss: 1041.0670 - val_mape: 20.5911\n",
            "Epoch 4/15\n",
            "130/130 [==============================] - ETA: 0s - loss: 64.1705 - mape: 23.6020"
          ]
        },
        {
          "output_type": "stream",
          "name": "stderr",
          "text": [
            "WARNING:absl:Found untraced functions such as _update_step_xla while saving (showing 1 of 1). These functions will not be directly callable after loading.\n"
          ]
        },
        {
          "output_type": "stream",
          "name": "stdout",
          "text": [
            "\b\b\b\b\b\b\b\b\b\b\b\b\b\b\b\b\b\b\b\b\b\b\b\b\b\b\b\b\b\b\b\b\b\b\b\b\b\b\b\b\b\b\b\b\b\b\b\b\b\b\b\b\b\b\b\b\b\b\b\b\b\b\b\b\b\b\b\b\b\b\b\b\b\b\b\b\b\b\b\b\b\b\r130/130 [==============================] - 11s 84ms/step - loss: 64.1705 - mape: 23.6020 - val_loss: 306.4174 - val_mape: 10.9421\n",
            "Epoch 5/15\n",
            "130/130 [==============================] - 2s 14ms/step - loss: 52.7607 - mape: 22.1634 - val_loss: 439.1442 - val_mape: 12.9748\n",
            "Epoch 6/15\n",
            "130/130 [==============================] - 2s 15ms/step - loss: 49.0821 - mape: 21.5490 - val_loss: 531.9484 - val_mape: 14.9893\n",
            "Epoch 7/15\n",
            "130/130 [==============================] - 3s 21ms/step - loss: 44.1967 - mape: 20.9410 - val_loss: 426.7145 - val_mape: 13.1244\n",
            "Epoch 8/15\n",
            "130/130 [==============================] - ETA: 0s - loss: 46.0347 - mape: 20.7551"
          ]
        },
        {
          "output_type": "stream",
          "name": "stderr",
          "text": [
            "WARNING:absl:Found untraced functions such as _update_step_xla while saving (showing 1 of 1). These functions will not be directly callable after loading.\n"
          ]
        },
        {
          "output_type": "stream",
          "name": "stdout",
          "text": [
            "\b\b\b\b\b\b\b\b\b\b\b\b\b\b\b\b\b\b\b\b\b\b\b\b\b\b\b\b\b\b\b\b\b\b\b\b\b\b\b\b\b\b\b\b\b\b\b\b\b\b\b\b\b\b\b\b\b\b\b\b\b\b\b\b\b\b\b\b\b\b\b\b\b\b\b\b\b\b\b\b\b\b\r130/130 [==============================] - 10s 78ms/step - loss: 46.0347 - mape: 20.7551 - val_loss: 258.4045 - val_mape: 9.9702\n",
            "Epoch 9/15\n",
            "128/130 [============================>.] - ETA: 0s - loss: 46.7472 - mape: 20.3986"
          ]
        },
        {
          "output_type": "stream",
          "name": "stderr",
          "text": [
            "WARNING:absl:Found untraced functions such as _update_step_xla while saving (showing 1 of 1). These functions will not be directly callable after loading.\n"
          ]
        },
        {
          "output_type": "stream",
          "name": "stdout",
          "text": [
            "\b\b\b\b\b\b\b\b\b\b\b\b\b\b\b\b\b\b\b\b\b\b\b\b\b\b\b\b\b\b\b\b\b\b\b\b\b\b\b\b\b\b\b\b\b\b\b\b\b\b\b\b\b\b\b\b\b\b\b\b\b\b\b\b\b\b\b\b\b\b\b\b\b\b\b\b\b\b\b\b\b\b\r130/130 [==============================] - 10s 78ms/step - loss: 46.5884 - mape: 20.3838 - val_loss: 158.7436 - val_mape: 7.7641\n",
            "Epoch 10/15\n",
            "130/130 [==============================] - 2s 14ms/step - loss: 41.5288 - mape: 19.8872 - val_loss: 124.4824 - val_mape: 7.9891\n",
            "Epoch 11/15\n",
            "127/130 [============================>.] - ETA: 0s - loss: 40.1423 - mape: 18.9382"
          ]
        },
        {
          "output_type": "stream",
          "name": "stderr",
          "text": [
            "WARNING:absl:Found untraced functions such as _update_step_xla while saving (showing 1 of 1). These functions will not be directly callable after loading.\n"
          ]
        },
        {
          "output_type": "stream",
          "name": "stdout",
          "text": [
            "\b\b\b\b\b\b\b\b\b\b\b\b\b\b\b\b\b\b\b\b\b\b\b\b\b\b\b\b\b\b\b\b\b\b\b\b\b\b\b\b\b\b\b\b\b\b\b\b\b\b\b\b\b\b\b\b\b\b\b\b\b\b\b\b\b\b\b\b\b\b\b\b\b\b\b\b\b\b\b\b\b\b\r130/130 [==============================] - 11s 82ms/step - loss: 40.3747 - mape: 18.9427 - val_loss: 97.1954 - val_mape: 6.4624\n",
            "Epoch 12/15\n",
            "130/130 [==============================] - 2s 14ms/step - loss: 39.7390 - mape: 19.3388 - val_loss: 93.0049 - val_mape: 6.8356\n",
            "Epoch 13/15\n",
            "130/130 [==============================] - 2s 15ms/step - loss: 39.4825 - mape: 18.9799 - val_loss: 150.6840 - val_mape: 7.8183\n",
            "Epoch 14/15\n",
            "130/130 [==============================] - 3s 22ms/step - loss: 38.3065 - mape: 18.4282 - val_loss: 206.7547 - val_mape: 10.4488\n",
            "Epoch 15/15\n",
            "130/130 [==============================] - 2s 15ms/step - loss: 37.3074 - mape: 18.4133 - val_loss: 100.1898 - val_mape: 7.0502\n",
            "count_1 8\n",
            "count_2 4\n",
            "Epoch 1/15\n",
            "127/129 [============================>.] - ETA: 0s - loss: 881.3018 - mape: 81.7770"
          ]
        },
        {
          "output_type": "stream",
          "name": "stderr",
          "text": [
            "WARNING:absl:Found untraced functions such as _update_step_xla while saving (showing 1 of 1). These functions will not be directly callable after loading.\n"
          ]
        },
        {
          "output_type": "stream",
          "name": "stdout",
          "text": [
            "\b\b\b\b\b\b\b\b\b\b\b\b\b\b\b\b\b\b\b\b\b\b\b\b\b\b\b\b\b\b\b\b\b\b\b\b\b\b\b\b\b\b\b\b\b\b\b\b\b\b\b\b\b\b\b\b\b\b\b\b\b\b\b\b\b\b\b\b\b\b\b\b\b\b\b\b\b\b\b\b\b\b\b\r129/129 [==============================] - 20s 99ms/step - loss: 871.0332 - mape: 81.3483 - val_loss: 333.8148 - val_mape: 13.5796\n",
            "Epoch 2/15\n",
            "129/129 [==============================] - 2s 15ms/step - loss: 157.1144 - mape: 42.5586 - val_loss: 650.6488 - val_mape: 18.8606\n",
            "Epoch 3/15\n",
            "129/129 [==============================] - 2s 14ms/step - loss: 121.3946 - mape: 35.3555 - val_loss: 2433.7915 - val_mape: 38.3953\n",
            "Epoch 4/15\n",
            "129/129 [==============================] - 2s 14ms/step - loss: 113.9369 - mape: 32.4203 - val_loss: 1096.9984 - val_mape: 24.8669\n",
            "Epoch 5/15\n",
            "129/129 [==============================] - 2s 14ms/step - loss: 110.4340 - mape: 31.6332 - val_loss: 2048.1885 - val_mape: 35.2588\n",
            "Epoch 6/15\n",
            "129/129 [==============================] - 2s 17ms/step - loss: 102.3196 - mape: 28.2461 - val_loss: 1678.1948 - val_mape: 31.9012\n",
            "Epoch 7/15\n",
            "129/129 [==============================] - 2s 19ms/step - loss: 100.0063 - mape: 27.2569 - val_loss: 1327.2432 - val_mape: 27.5215\n",
            "Epoch 8/15\n",
            "129/129 [==============================] - 2s 15ms/step - loss: 89.7029 - mape: 26.4669 - val_loss: 1546.7439 - val_mape: 29.9208\n",
            "Epoch 9/15\n",
            "129/129 [==============================] - 2s 16ms/step - loss: 83.0794 - mape: 25.6574 - val_loss: 1514.3887 - val_mape: 29.6112\n",
            "Epoch 10/15\n",
            "129/129 [==============================] - ETA: 0s - loss: 80.0014 - mape: 25.1476"
          ]
        },
        {
          "output_type": "stream",
          "name": "stderr",
          "text": [
            "WARNING:absl:Found untraced functions such as _update_step_xla while saving (showing 1 of 1). These functions will not be directly callable after loading.\n"
          ]
        },
        {
          "output_type": "stream",
          "name": "stdout",
          "text": [
            "\b\b\b\b\b\b\b\b\b\b\b\b\b\b\b\b\b\b\b\b\b\b\b\b\b\b\b\b\b\b\b\b\b\b\b\b\b\b\b\b\b\b\b\b\b\b\b\b\b\b\b\b\b\b\b\b\b\b\b\b\b\b\b\b\b\b\b\b\b\b\b\b\b\b\b\b\b\b\b\b\b\b\r129/129 [==============================] - 11s 82ms/step - loss: 80.0014 - mape: 25.1476 - val_loss: 245.1320 - val_mape: 11.5586\n",
            "Epoch 11/15\n",
            "129/129 [==============================] - 2s 16ms/step - loss: 79.4326 - mape: 25.6569 - val_loss: 437.7352 - val_mape: 16.1823\n",
            "Epoch 12/15\n",
            "129/129 [==============================] - 2s 15ms/step - loss: 77.7241 - mape: 25.1646 - val_loss: 1074.0062 - val_mape: 25.1905\n",
            "Epoch 13/15\n",
            "129/129 [==============================] - 2s 15ms/step - loss: 69.5123 - mape: 24.7707 - val_loss: 323.7838 - val_mape: 13.4846\n",
            "Epoch 14/15\n",
            "129/129 [==============================] - 2s 16ms/step - loss: 66.2457 - mape: 23.9706 - val_loss: 1139.6680 - val_mape: 26.4754\n",
            "Epoch 15/15\n",
            "129/129 [==============================] - 2s 19ms/step - loss: 69.9168 - mape: 23.7950 - val_loss: 594.1260 - val_mape: 19.1430\n",
            "count_1 9\n",
            "Epoch 1/15\n",
            "126/129 [============================>.] - ETA: 0s - loss: 755.5112 - mape: 73.7537"
          ]
        },
        {
          "output_type": "stream",
          "name": "stderr",
          "text": [
            "WARNING:absl:Found untraced functions such as _update_step_xla while saving (showing 1 of 1). These functions will not be directly callable after loading.\n"
          ]
        },
        {
          "output_type": "stream",
          "name": "stdout",
          "text": [
            "\b\b\b\b\b\b\b\b\b\b\b\b\b\b\b\b\b\b\b\b\b\b\b\b\b\b\b\b\b\b\b\b\b\b\b\b\b\b\b\b\b\b\b\b\b\b\b\b\b\b\b\b\b\b\b\b\b\b\b\b\b\b\b\b\b\b\b\b\b\b\b\b\b\b\b\b\b\b\b\b\b\b\b\r129/129 [==============================] - 18s 91ms/step - loss: 742.6364 - mape: 73.1818 - val_loss: 13086.4160 - val_mape: 80.9475\n",
            "Epoch 2/15\n",
            "126/129 [============================>.] - ETA: 0s - loss: 100.5636 - mape: 32.4133"
          ]
        },
        {
          "output_type": "stream",
          "name": "stderr",
          "text": [
            "WARNING:absl:Found untraced functions such as _update_step_xla while saving (showing 1 of 1). These functions will not be directly callable after loading.\n"
          ]
        },
        {
          "output_type": "stream",
          "name": "stdout",
          "text": [
            "\b\b\b\b\b\b\b\b\b\b\b\b\b\b\b\b\b\b\b\b\b\b\b\b\b\b\b\b\b\b\b\b\b\b\b\b\b\b\b\b\b\b\b\b\b\b\b\b\b\b\b\b\b\b\b\b\b\b\b\b\b\b\b\b\b\b\b\b\b\b\b\b\b\b\b\b\b\b\b\b\b\b\b\r129/129 [==============================] - 11s 86ms/step - loss: 100.0267 - mape: 32.3116 - val_loss: 2055.3916 - val_mape: 29.4644\n",
            "Epoch 3/15\n",
            "129/129 [==============================] - ETA: 0s - loss: 80.6786 - mape: 29.0013"
          ]
        },
        {
          "output_type": "stream",
          "name": "stderr",
          "text": [
            "WARNING:absl:Found untraced functions such as _update_step_xla while saving (showing 1 of 1). These functions will not be directly callable after loading.\n"
          ]
        },
        {
          "output_type": "stream",
          "name": "stdout",
          "text": [
            "\b\b\b\b\b\b\b\b\b\b\b\b\b\b\b\b\b\b\b\b\b\b\b\b\b\b\b\b\b\b\b\b\b\b\b\b\b\b\b\b\b\b\b\b\b\b\b\b\b\b\b\b\b\b\b\b\b\b\b\b\b\b\b\b\b\b\b\b\b\b\b\b\b\b\b\b\b\b\b\b\b\b\r129/129 [==============================] - 12s 95ms/step - loss: 80.6786 - mape: 29.0013 - val_loss: 1182.5741 - val_mape: 21.6682\n",
            "Epoch 4/15\n",
            "129/129 [==============================] - ETA: 0s - loss: 72.0574 - mape: 26.3098"
          ]
        },
        {
          "output_type": "stream",
          "name": "stderr",
          "text": [
            "WARNING:absl:Found untraced functions such as _update_step_xla while saving (showing 1 of 1). These functions will not be directly callable after loading.\n"
          ]
        },
        {
          "output_type": "stream",
          "name": "stdout",
          "text": [
            "\b\b\b\b\b\b\b\b\b\b\b\b\b\b\b\b\b\b\b\b\b\b\b\b\b\b\b\b\b\b\b\b\b\b\b\b\b\b\b\b\b\b\b\b\b\b\b\b\b\b\b\b\b\b\b\b\b\b\b\b\b\b\b\b\b\b\b\b\b\b\b\b\b\b\b\b\b\b\b\b\b\b\r129/129 [==============================] - 11s 85ms/step - loss: 72.0574 - mape: 26.3098 - val_loss: 553.1965 - val_mape: 14.8241\n",
            "Epoch 5/15\n",
            "129/129 [==============================] - 2s 14ms/step - loss: 63.1541 - mape: 23.3688 - val_loss: 708.7888 - val_mape: 17.3348\n",
            "Epoch 6/15\n",
            "129/129 [==============================] - ETA: 0s - loss: 54.3548 - mape: 21.8887"
          ]
        },
        {
          "output_type": "stream",
          "name": "stderr",
          "text": [
            "WARNING:absl:Found untraced functions such as _update_step_xla while saving (showing 1 of 1). These functions will not be directly callable after loading.\n"
          ]
        },
        {
          "output_type": "stream",
          "name": "stdout",
          "text": [
            "\b\b\b\b\b\b\b\b\b\b\b\b\b\b\b\b\b\b\b\b\b\b\b\b\b\b\b\b\b\b\b\b\b\b\b\b\b\b\b\b\b\b\b\b\b\b\b\b\b\b\b\b\b\b\b\b\b\b\b\b\b\b\b\b\b\b\b\b\b\b\b\b\b\b\b\b\b\b\b\b\b\b\r129/129 [==============================] - 11s 88ms/step - loss: 54.3548 - mape: 21.8887 - val_loss: 406.0430 - val_mape: 12.7962\n",
            "Epoch 7/15\n",
            "129/129 [==============================] - ETA: 0s - loss: 49.3990 - mape: 20.8633"
          ]
        },
        {
          "output_type": "stream",
          "name": "stderr",
          "text": [
            "WARNING:absl:Found untraced functions such as _update_step_xla while saving (showing 1 of 1). These functions will not be directly callable after loading.\n"
          ]
        },
        {
          "output_type": "stream",
          "name": "stdout",
          "text": [
            "\b\b\b\b\b\b\b\b\b\b\b\b\b\b\b\b\b\b\b\b\b\b\b\b\b\b\b\b\b\b\b\b\b\b\b\b\b\b\b\b\b\b\b\b\b\b\b\b\b\b\b\b\b\b\b\b\b\b\b\b\b\b\b\b\b\b\b\b\b\b\b\b\b\b\b\b\b\b\b\b\b\b\r129/129 [==============================] - 12s 90ms/step - loss: 49.3990 - mape: 20.8633 - val_loss: 159.5759 - val_mape: 7.8701\n",
            "Epoch 8/15\n",
            "127/129 [============================>.] - ETA: 0s - loss: 48.2927 - mape: 19.9543"
          ]
        },
        {
          "output_type": "stream",
          "name": "stderr",
          "text": [
            "WARNING:absl:Found untraced functions such as _update_step_xla while saving (showing 1 of 1). These functions will not be directly callable after loading.\n"
          ]
        },
        {
          "output_type": "stream",
          "name": "stdout",
          "text": [
            "\b\b\b\b\b\b\b\b\b\b\b\b\b\b\b\b\b\b\b\b\b\b\b\b\b\b\b\b\b\b\b\b\b\b\b\b\b\b\b\b\b\b\b\b\b\b\b\b\b\b\b\b\b\b\b\b\b\b\b\b\b\b\b\b\b\b\b\b\b\b\b\b\b\b\b\b\b\b\b\b\b\b\r129/129 [==============================] - 11s 84ms/step - loss: 48.0090 - mape: 19.8945 - val_loss: 108.6791 - val_mape: 7.3255\n",
            "Epoch 9/15\n",
            "129/129 [==============================] - 2s 15ms/step - loss: 45.2328 - mape: 19.3643 - val_loss: 155.8314 - val_mape: 9.0343\n",
            "Epoch 10/15\n",
            "129/129 [==============================] - 2s 15ms/step - loss: 43.4720 - mape: 18.6430 - val_loss: 116.1205 - val_mape: 7.7005\n",
            "Epoch 11/15\n",
            "129/129 [==============================] - 2s 15ms/step - loss: 40.3626 - mape: 17.9783 - val_loss: 244.1365 - val_mape: 11.6579\n",
            "Epoch 12/15\n",
            "129/129 [==============================] - 2s 15ms/step - loss: 42.0328 - mape: 17.6881 - val_loss: 148.3695 - val_mape: 8.7989\n",
            "Epoch 13/15\n",
            "129/129 [==============================] - 2s 16ms/step - loss: 40.7021 - mape: 16.9481 - val_loss: 318.9382 - val_mape: 13.5730\n",
            "Epoch 14/15\n",
            "129/129 [==============================] - 3s 21ms/step - loss: 41.4756 - mape: 17.3408 - val_loss: 136.5496 - val_mape: 8.3341\n",
            "Epoch 15/15\n",
            "129/129 [==============================] - 2s 17ms/step - loss: 39.7591 - mape: 17.1973 - val_loss: 424.9669 - val_mape: 15.8281\n",
            "count_1 10\n",
            "count_2 5\n",
            "Epoch 1/15\n",
            "129/129 [==============================] - ETA: 0s - loss: 1009.6121 - mape: 90.6140"
          ]
        },
        {
          "output_type": "stream",
          "name": "stderr",
          "text": [
            "WARNING:absl:Found untraced functions such as _update_step_xla while saving (showing 1 of 1). These functions will not be directly callable after loading.\n"
          ]
        },
        {
          "output_type": "stream",
          "name": "stdout",
          "text": [
            "\b\b\b\b\b\b\b\b\b\b\b\b\b\b\b\b\b\b\b\b\b\b\b\b\b\b\b\b\b\b\b\b\b\b\b\b\b\b\b\b\b\b\b\b\b\b\b\b\b\b\b\b\b\b\b\b\b\b\b\b\b\b\b\b\b\b\b\b\b\b\b\b\b\b\b\b\b\b\b\b\b\b\b\b\r129/129 [==============================] - 20s 100ms/step - loss: 1009.6121 - mape: 90.6140 - val_loss: 21183.3066 - val_mape: 106.5595\n",
            "Epoch 2/15\n",
            "129/129 [==============================] - ETA: 0s - loss: 192.8711 - mape: 38.4432"
          ]
        },
        {
          "output_type": "stream",
          "name": "stderr",
          "text": [
            "WARNING:absl:Found untraced functions such as _update_step_xla while saving (showing 1 of 1). These functions will not be directly callable after loading.\n"
          ]
        },
        {
          "output_type": "stream",
          "name": "stdout",
          "text": [
            "\b\b\b\b\b\b\b\b\b\b\b\b\b\b\b\b\b\b\b\b\b\b\b\b\b\b\b\b\b\b\b\b\b\b\b\b\b\b\b\b\b\b\b\b\b\b\b\b\b\b\b\b\b\b\b\b\b\b\b\b\b\b\b\b\b\b\b\b\b\b\b\b\b\b\b\b\b\b\b\b\b\b\b\r129/129 [==============================] - 11s 85ms/step - loss: 192.8711 - mape: 38.4432 - val_loss: 97.1903 - val_mape: 6.4095\n",
            "Epoch 3/15\n",
            "127/129 [============================>.] - ETA: 0s - loss: 150.7869 - mape: 32.4066"
          ]
        },
        {
          "output_type": "stream",
          "name": "stderr",
          "text": [
            "WARNING:absl:Found untraced functions such as _update_step_xla while saving (showing 1 of 1). These functions will not be directly callable after loading.\n"
          ]
        },
        {
          "output_type": "stream",
          "name": "stdout",
          "text": [
            "\b\b\b\b\b\b\b\b\b\b\b\b\b\b\b\b\b\b\b\b\b\b\b\b\b\b\b\b\b\b\b\b\b\b\b\b\b\b\b\b\b\b\b\b\b\b\b\b\b\b\b\b\b\b\b\b\b\b\b\b\b\b\b\b\b\b\b\b\b\b\b\b\b\b\b\b\b\b\b\b\b\b\b\r129/129 [==============================] - 12s 96ms/step - loss: 151.0483 - mape: 32.3894 - val_loss: 88.9448 - val_mape: 6.3341\n",
            "Epoch 4/15\n",
            "129/129 [==============================] - 2s 14ms/step - loss: 141.8115 - mape: 32.3166 - val_loss: 743.4461 - val_mape: 21.5070\n",
            "Epoch 5/15\n",
            "129/129 [==============================] - 2s 16ms/step - loss: 127.2385 - mape: 30.5406 - val_loss: 890.7318 - val_mape: 23.5025\n",
            "Epoch 6/15\n",
            "129/129 [==============================] - 3s 20ms/step - loss: 106.4718 - mape: 28.9110 - val_loss: 754.0087 - val_mape: 21.7401\n",
            "Epoch 7/15\n",
            "129/129 [==============================] - 2s 14ms/step - loss: 102.5756 - mape: 27.3374 - val_loss: 526.5107 - val_mape: 17.4282\n",
            "Epoch 8/15\n",
            "129/129 [==============================] - 2s 14ms/step - loss: 85.5169 - mape: 26.0517 - val_loss: 1116.9513 - val_mape: 26.3071\n",
            "Epoch 9/15\n",
            "129/129 [==============================] - 2s 14ms/step - loss: 84.5702 - mape: 26.0238 - val_loss: 1430.9248 - val_mape: 29.8591\n",
            "Epoch 10/15\n",
            "129/129 [==============================] - 2s 14ms/step - loss: 77.6350 - mape: 25.3073 - val_loss: 795.3586 - val_mape: 22.2011\n",
            "Epoch 11/15\n",
            "129/129 [==============================] - 2s 16ms/step - loss: 82.9134 - mape: 25.0134 - val_loss: 1471.0479 - val_mape: 29.9837\n",
            "Epoch 12/15\n",
            "129/129 [==============================] - 3s 21ms/step - loss: 73.9511 - mape: 24.0921 - val_loss: 946.3447 - val_mape: 23.9924\n",
            "Epoch 13/15\n",
            "129/129 [==============================] - 2s 14ms/step - loss: 71.2630 - mape: 23.4920 - val_loss: 1419.2104 - val_mape: 29.5870\n",
            "Epoch 14/15\n",
            "129/129 [==============================] - 2s 14ms/step - loss: 65.2725 - mape: 22.8534 - val_loss: 1556.3625 - val_mape: 31.2575\n",
            "Epoch 15/15\n",
            "129/129 [==============================] - 2s 14ms/step - loss: 64.1015 - mape: 22.7945 - val_loss: 1872.8114 - val_mape: 34.1936\n",
            "count_1 11\n",
            "Epoch 1/15\n",
            "125/128 [============================>.] - ETA: 0s - loss: 647.9061 - mape: 68.7547"
          ]
        },
        {
          "output_type": "stream",
          "name": "stderr",
          "text": [
            "WARNING:absl:Found untraced functions such as _update_step_xla while saving (showing 1 of 1). These functions will not be directly callable after loading.\n"
          ]
        },
        {
          "output_type": "stream",
          "name": "stdout",
          "text": [
            "\b\b\b\b\b\b\b\b\b\b\b\b\b\b\b\b\b\b\b\b\b\b\b\b\b\b\b\b\b\b\b\b\b\b\b\b\b\b\b\b\b\b\b\b\b\b\b\b\b\b\b\b\b\b\b\b\b\b\b\b\b\b\b\b\b\b\b\b\b\b\b\b\b\b\b\b\b\b\b\b\b\b\b\r128/128 [==============================] - 18s 91ms/step - loss: 634.6601 - mape: 68.0153 - val_loss: 6858.3716 - val_mape: 56.0154\n",
            "Epoch 2/15\n",
            "128/128 [==============================] - ETA: 0s - loss: 121.5750 - mape: 33.7583"
          ]
        },
        {
          "output_type": "stream",
          "name": "stderr",
          "text": [
            "WARNING:absl:Found untraced functions such as _update_step_xla while saving (showing 1 of 1). These functions will not be directly callable after loading.\n"
          ]
        },
        {
          "output_type": "stream",
          "name": "stdout",
          "text": [
            "\b\b\b\b\b\b\b\b\b\b\b\b\b\b\b\b\b\b\b\b\b\b\b\b\b\b\b\b\b\b\b\b\b\b\b\b\b\b\b\b\b\b\b\b\b\b\b\b\b\b\b\b\b\b\b\b\b\b\b\b\b\b\b\b\b\b\b\b\b\b\b\b\b\b\b\b\b\b\b\b\b\b\b\r128/128 [==============================] - 11s 89ms/step - loss: 121.5750 - mape: 33.7583 - val_loss: 358.7669 - val_mape: 11.8324\n",
            "Epoch 3/15\n",
            "128/128 [==============================] - 2s 19ms/step - loss: 96.1196 - mape: 29.6224 - val_loss: 502.4892 - val_mape: 14.7176\n",
            "Epoch 4/15\n",
            "127/128 [============================>.] - ETA: 0s - loss: 76.4106 - mape: 25.9544"
          ]
        },
        {
          "output_type": "stream",
          "name": "stderr",
          "text": [
            "WARNING:absl:Found untraced functions such as _update_step_xla while saving (showing 1 of 1). These functions will not be directly callable after loading.\n"
          ]
        },
        {
          "output_type": "stream",
          "name": "stdout",
          "text": [
            "\b\b\b\b\b\b\b\b\b\b\b\b\b\b\b\b\b\b\b\b\b\b\b\b\b\b\b\b\b\b\b\b\b\b\b\b\b\b\b\b\b\b\b\b\b\b\b\b\b\b\b\b\b\b\b\b\b\b\b\b\b\b\b\b\b\b\b\b\b\b\b\b\b\b\b\b\b\b\b\b\b\b\r128/128 [==============================] - 12s 94ms/step - loss: 76.1230 - mape: 25.9492 - val_loss: 117.7498 - val_mape: 7.3510\n",
            "Epoch 5/15\n",
            "128/128 [==============================] - 2s 16ms/step - loss: 67.9177 - mape: 24.4409 - val_loss: 139.1196 - val_mape: 8.2865\n",
            "Epoch 6/15\n",
            "128/128 [==============================] - 3s 22ms/step - loss: 63.6704 - mape: 23.9492 - val_loss: 263.8934 - val_mape: 12.1390\n",
            "Epoch 7/15\n",
            "128/128 [==============================] - 2s 15ms/step - loss: 56.7406 - mape: 22.0494 - val_loss: 445.7223 - val_mape: 16.3298\n",
            "Epoch 8/15\n",
            "128/128 [==============================] - 2s 14ms/step - loss: 53.4190 - mape: 21.4251 - val_loss: 510.8817 - val_mape: 17.7380\n",
            "Epoch 9/15\n",
            "128/128 [==============================] - 2s 14ms/step - loss: 48.2355 - mape: 20.4043 - val_loss: 255.5850 - val_mape: 11.9485\n",
            "Epoch 10/15\n",
            "128/128 [==============================] - 2s 14ms/step - loss: 50.3533 - mape: 20.0579 - val_loss: 310.4363 - val_mape: 13.3050\n",
            "Epoch 11/15\n",
            "128/128 [==============================] - 2s 15ms/step - loss: 44.4106 - mape: 19.3705 - val_loss: 837.3033 - val_mape: 23.2248\n",
            "Epoch 12/15\n",
            "128/128 [==============================] - 2s 18ms/step - loss: 50.8355 - mape: 20.1475 - val_loss: 500.2334 - val_mape: 17.4635\n",
            "Epoch 13/15\n",
            "128/128 [==============================] - 2s 18ms/step - loss: 45.2331 - mape: 19.5753 - val_loss: 701.1188 - val_mape: 21.0765\n",
            "Epoch 14/15\n",
            "128/128 [==============================] - 2s 15ms/step - loss: 45.9374 - mape: 19.2764 - val_loss: 380.5201 - val_mape: 14.9943\n",
            "Epoch 15/15\n",
            "128/128 [==============================] - 2s 14ms/step - loss: 41.6437 - mape: 18.2301 - val_loss: 508.8809 - val_mape: 17.6403\n",
            "count_1 12\n",
            "count_2 6\n",
            "count_3 2\n",
            "Epoch 1/15\n",
            "127/128 [============================>.] - ETA: 0s - loss: 974.6777 - mape: 92.2238"
          ]
        },
        {
          "output_type": "stream",
          "name": "stderr",
          "text": [
            "WARNING:absl:Found untraced functions such as _update_step_xla while saving (showing 1 of 1). These functions will not be directly callable after loading.\n"
          ]
        },
        {
          "output_type": "stream",
          "name": "stdout",
          "text": [
            "\b\b\b\b\b\b\b\b\b\b\b\b\b\b\b\b\b\b\b\b\b\b\b\b\b\b\b\b\b\b\b\b\b\b\b\b\b\b\b\b\b\b\b\b\b\b\b\b\b\b\b\b\b\b\b\b\b\b\b\b\b\b\b\b\b\b\b\b\b\b\b\b\b\b\b\b\b\b\b\b\b\b\b\r128/128 [==============================] - 23s 105ms/step - loss: 970.8934 - mape: 91.9735 - val_loss: 32798.3281 - val_mape: 127.4572\n",
            "Epoch 2/15\n",
            "126/128 [============================>.] - ETA: 0s - loss: 221.4091 - mape: 58.6088"
          ]
        },
        {
          "output_type": "stream",
          "name": "stderr",
          "text": [
            "WARNING:absl:Found untraced functions such as _update_step_xla while saving (showing 1 of 1). These functions will not be directly callable after loading.\n"
          ]
        },
        {
          "output_type": "stream",
          "name": "stdout",
          "text": [
            "\b\b\b\b\b\b\b\b\b\b\b\b\b\b\b\b\b\b\b\b\b\b\b\b\b\b\b\b\b\b\b\b\b\b\b\b\b\b\b\b\b\b\b\b\b\b\b\b\b\b\b\b\b\b\b\b\b\b\b\b\b\b\b\b\b\b\b\b\b\b\b\b\b\b\b\b\b\b\b\b\b\b\b\r128/128 [==============================] - 12s 97ms/step - loss: 220.2110 - mape: 58.5129 - val_loss: 665.3299 - val_mape: 16.0416\n",
            "Epoch 3/15\n",
            "128/128 [==============================] - ETA: 0s - loss: 100.6368 - mape: 30.1396"
          ]
        },
        {
          "output_type": "stream",
          "name": "stderr",
          "text": [
            "WARNING:absl:Found untraced functions such as _update_step_xla while saving (showing 1 of 1). These functions will not be directly callable after loading.\n"
          ]
        },
        {
          "output_type": "stream",
          "name": "stdout",
          "text": [
            "\b\b\b\b\b\b\b\b\b\b\b\b\b\b\b\b\b\b\b\b\b\b\b\b\b\b\b\b\b\b\b\b\b\b\b\b\b\b\b\b\b\b\b\b\b\b\b\b\b\b\b\b\b\b\b\b\b\b\b\b\b\b\b\b\b\b\b\b\b\b\b\b\b\b\b\b\b\b\b\b\b\b\b\r128/128 [==============================] - 13s 100ms/step - loss: 100.6368 - mape: 30.1396 - val_loss: 336.8234 - val_mape: 12.2870\n",
            "Epoch 4/15\n",
            "128/128 [==============================] - 2s 19ms/step - loss: 87.3638 - mape: 25.6925 - val_loss: 701.6189 - val_mape: 16.6099\n",
            "Epoch 5/15\n",
            "128/128 [==============================] - 2s 17ms/step - loss: 77.4254 - mape: 25.2625 - val_loss: 722.6816 - val_mape: 17.2845\n",
            "Epoch 6/15\n",
            "128/128 [==============================] - ETA: 0s - loss: 74.2037 - mape: 25.0279"
          ]
        },
        {
          "output_type": "stream",
          "name": "stderr",
          "text": [
            "WARNING:absl:Found untraced functions such as _update_step_xla while saving (showing 1 of 1). These functions will not be directly callable after loading.\n"
          ]
        },
        {
          "output_type": "stream",
          "name": "stdout",
          "text": [
            "\b\b\b\b\b\b\b\b\b\b\b\b\b\b\b\b\b\b\b\b\b\b\b\b\b\b\b\b\b\b\b\b\b\b\b\b\b\b\b\b\b\b\b\b\b\b\b\b\b\b\b\b\b\b\b\b\b\b\b\b\b\b\b\b\b\b\b\b\b\b\b\b\b\b\b\b\b\b\b\b\b\b\r128/128 [==============================] - 12s 98ms/step - loss: 74.2037 - mape: 25.0279 - val_loss: 378.7099 - val_mape: 12.0957\n",
            "Epoch 7/15\n",
            "128/128 [==============================] - 2s 17ms/step - loss: 68.0479 - mape: 25.2564 - val_loss: 611.0264 - val_mape: 15.5896\n",
            "Epoch 8/15\n",
            "125/128 [============================>.] - ETA: 0s - loss: 64.8131 - mape: 24.4525"
          ]
        },
        {
          "output_type": "stream",
          "name": "stderr",
          "text": [
            "WARNING:absl:Found untraced functions such as _update_step_xla while saving (showing 1 of 1). These functions will not be directly callable after loading.\n",
            "Exception ignored in: <function ConcreteFunctionGarbageCollector.__del__ at 0x7f4350c400d0>\n",
            "Traceback (most recent call last):\n",
            "  File \"/usr/local/lib/python3.10/dist-packages/tensorflow/python/eager/polymorphic_function/monomorphic_function.py\", line 2317, in __del__\n",
            "    def __del__(self):\n",
            "KeyboardInterrupt: \n"
          ]
        },
        {
          "output_type": "stream",
          "name": "stdout",
          "text": [
            "\b\b\b\b\b\b\b\b\b\b\b\b\b\b\b\b\b\b\b\b\b\b\b\b\b\b\b\b\b\b\b\b\b\b\b\b\b\b\b\b\b\b\b\b\b\b\b\b\b\b\b\b\b\b\b\b\b\b\b\b\b\b\b\b\b\b\b\b\b\b\b\b\b\b\b\b\b\b\b\b\b\b\r128/128 [==============================] - 12s 98ms/step - loss: 65.5572 - mape: 24.5289 - val_loss: 200.6124 - val_mape: 8.6495\n",
            "Epoch 9/15\n",
            "128/128 [==============================] - 2s 17ms/step - loss: 65.7638 - mape: 24.8986 - val_loss: 456.2079 - val_mape: 13.3536\n",
            "Epoch 10/15\n",
            "128/128 [==============================] - ETA: 0s - loss: 68.6449 - mape: 24.5819"
          ]
        },
        {
          "output_type": "stream",
          "name": "stderr",
          "text": [
            "WARNING:absl:Found untraced functions such as _update_step_xla while saving (showing 1 of 1). These functions will not be directly callable after loading.\n"
          ]
        },
        {
          "output_type": "stream",
          "name": "stdout",
          "text": [
            "\b\b\b\b\b\b\b\b\b\b\b\b\b\b\b\b\b\b\b\b\b\b\b\b\b\b\b\b\b\b\b\b\b\b\b\b\b\b\b\b\b\b\b\b\b\b\b\b\b\b\b\b\b\b\b\b\b\b\b\b\b\b\b\b\b\b\b\b\b\b\b\b\b\b\b\b\b\b\b\b\b\b\r128/128 [==============================] - 12s 95ms/step - loss: 68.6449 - mape: 24.5819 - val_loss: 172.4734 - val_mape: 8.2677\n",
            "Epoch 11/15\n",
            "128/128 [==============================] - ETA: 0s - loss: 62.7278 - mape: 24.4127"
          ]
        },
        {
          "output_type": "stream",
          "name": "stderr",
          "text": [
            "WARNING:absl:Found untraced functions such as _update_step_xla while saving (showing 1 of 1). These functions will not be directly callable after loading.\n"
          ]
        },
        {
          "output_type": "error",
          "ename": "KeyboardInterrupt",
          "evalue": "ignored",
          "traceback": [
            "\u001b[0;31m---------------------------------------------------------------------------\u001b[0m",
            "\u001b[0;31mKeyboardInterrupt\u001b[0m                         Traceback (most recent call last)",
            "\u001b[0;32m<ipython-input-17-330b3a615c4c>\u001b[0m in \u001b[0;36m<cell line: 2>\u001b[0;34m()\u001b[0m\n\u001b[1;32m     43\u001b[0m \u001b[0;34m\u001b[0m\u001b[0m\n\u001b[1;32m     44\u001b[0m                 \u001b[0;31m# Train model\u001b[0m\u001b[0;34m\u001b[0m\u001b[0;34m\u001b[0m\u001b[0m\n\u001b[0;32m---> 45\u001b[0;31m                 \u001b[0mmodel\u001b[0m\u001b[0;34m.\u001b[0m\u001b[0mfit\u001b[0m\u001b[0;34m(\u001b[0m\u001b[0mX_train\u001b[0m\u001b[0;34m,\u001b[0m \u001b[0my_train\u001b[0m\u001b[0;34m,\u001b[0m \u001b[0mbatch_size\u001b[0m\u001b[0;34m=\u001b[0m\u001b[0;36m32\u001b[0m\u001b[0;34m,\u001b[0m \u001b[0mepochs\u001b[0m\u001b[0;34m=\u001b[0m\u001b[0;36m15\u001b[0m\u001b[0;34m,\u001b[0m \u001b[0mvalidation_data\u001b[0m\u001b[0;34m=\u001b[0m\u001b[0;34m(\u001b[0m\u001b[0mX_test\u001b[0m\u001b[0;34m,\u001b[0m \u001b[0my_test\u001b[0m\u001b[0;34m)\u001b[0m\u001b[0;34m,\u001b[0m \u001b[0mcallbacks\u001b[0m\u001b[0;34m=\u001b[0m\u001b[0;34m[\u001b[0m\u001b[0mcheckpoint\u001b[0m\u001b[0;34m]\u001b[0m\u001b[0;34m)\u001b[0m\u001b[0;34m\u001b[0m\u001b[0;34m\u001b[0m\u001b[0m\n\u001b[0m\u001b[1;32m     46\u001b[0m                 \u001b[0mcount_1\u001b[0m \u001b[0;34m+=\u001b[0m \u001b[0;36m1\u001b[0m\u001b[0;34m\u001b[0m\u001b[0;34m\u001b[0m\u001b[0m\n\u001b[1;32m     47\u001b[0m                 \u001b[0mprint\u001b[0m\u001b[0;34m(\u001b[0m\u001b[0;34m'count_1'\u001b[0m\u001b[0;34m,\u001b[0m \u001b[0mcount_1\u001b[0m\u001b[0;34m)\u001b[0m\u001b[0;34m\u001b[0m\u001b[0;34m\u001b[0m\u001b[0m\n",
            "\u001b[0;32m/usr/local/lib/python3.10/dist-packages/keras/utils/traceback_utils.py\u001b[0m in \u001b[0;36merror_handler\u001b[0;34m(*args, **kwargs)\u001b[0m\n\u001b[1;32m     63\u001b[0m         \u001b[0mfiltered_tb\u001b[0m \u001b[0;34m=\u001b[0m \u001b[0;32mNone\u001b[0m\u001b[0;34m\u001b[0m\u001b[0;34m\u001b[0m\u001b[0m\n\u001b[1;32m     64\u001b[0m         \u001b[0;32mtry\u001b[0m\u001b[0;34m:\u001b[0m\u001b[0;34m\u001b[0m\u001b[0;34m\u001b[0m\u001b[0m\n\u001b[0;32m---> 65\u001b[0;31m             \u001b[0;32mreturn\u001b[0m \u001b[0mfn\u001b[0m\u001b[0;34m(\u001b[0m\u001b[0;34m*\u001b[0m\u001b[0margs\u001b[0m\u001b[0;34m,\u001b[0m \u001b[0;34m**\u001b[0m\u001b[0mkwargs\u001b[0m\u001b[0;34m)\u001b[0m\u001b[0;34m\u001b[0m\u001b[0;34m\u001b[0m\u001b[0m\n\u001b[0m\u001b[1;32m     66\u001b[0m         \u001b[0;32mexcept\u001b[0m \u001b[0mException\u001b[0m \u001b[0;32mas\u001b[0m \u001b[0me\u001b[0m\u001b[0;34m:\u001b[0m\u001b[0;34m\u001b[0m\u001b[0;34m\u001b[0m\u001b[0m\n\u001b[1;32m     67\u001b[0m             \u001b[0mfiltered_tb\u001b[0m \u001b[0;34m=\u001b[0m \u001b[0m_process_traceback_frames\u001b[0m\u001b[0;34m(\u001b[0m\u001b[0me\u001b[0m\u001b[0;34m.\u001b[0m\u001b[0m__traceback__\u001b[0m\u001b[0;34m)\u001b[0m\u001b[0;34m\u001b[0m\u001b[0;34m\u001b[0m\u001b[0m\n",
            "\u001b[0;32m/usr/local/lib/python3.10/dist-packages/keras/engine/training.py\u001b[0m in \u001b[0;36mfit\u001b[0;34m(self, x, y, batch_size, epochs, verbose, callbacks, validation_split, validation_data, shuffle, class_weight, sample_weight, initial_epoch, steps_per_epoch, validation_steps, validation_batch_size, validation_freq, max_queue_size, workers, use_multiprocessing)\u001b[0m\n\u001b[1;32m   1745\u001b[0m                     \u001b[0mepoch_logs\u001b[0m\u001b[0;34m.\u001b[0m\u001b[0mupdate\u001b[0m\u001b[0;34m(\u001b[0m\u001b[0mval_logs\u001b[0m\u001b[0;34m)\u001b[0m\u001b[0;34m\u001b[0m\u001b[0;34m\u001b[0m\u001b[0m\n\u001b[1;32m   1746\u001b[0m \u001b[0;34m\u001b[0m\u001b[0m\n\u001b[0;32m-> 1747\u001b[0;31m                 \u001b[0mcallbacks\u001b[0m\u001b[0;34m.\u001b[0m\u001b[0mon_epoch_end\u001b[0m\u001b[0;34m(\u001b[0m\u001b[0mepoch\u001b[0m\u001b[0;34m,\u001b[0m \u001b[0mepoch_logs\u001b[0m\u001b[0;34m)\u001b[0m\u001b[0;34m\u001b[0m\u001b[0;34m\u001b[0m\u001b[0m\n\u001b[0m\u001b[1;32m   1748\u001b[0m                 \u001b[0mtraining_logs\u001b[0m \u001b[0;34m=\u001b[0m \u001b[0mepoch_logs\u001b[0m\u001b[0;34m\u001b[0m\u001b[0;34m\u001b[0m\u001b[0m\n\u001b[1;32m   1749\u001b[0m                 \u001b[0;32mif\u001b[0m \u001b[0mself\u001b[0m\u001b[0;34m.\u001b[0m\u001b[0mstop_training\u001b[0m\u001b[0;34m:\u001b[0m\u001b[0;34m\u001b[0m\u001b[0;34m\u001b[0m\u001b[0m\n",
            "\u001b[0;32m/usr/local/lib/python3.10/dist-packages/keras/callbacks.py\u001b[0m in \u001b[0;36mon_epoch_end\u001b[0;34m(self, epoch, logs)\u001b[0m\n\u001b[1;32m    451\u001b[0m         \u001b[0mlogs\u001b[0m \u001b[0;34m=\u001b[0m \u001b[0mself\u001b[0m\u001b[0;34m.\u001b[0m\u001b[0m_process_logs\u001b[0m\u001b[0;34m(\u001b[0m\u001b[0mlogs\u001b[0m\u001b[0;34m)\u001b[0m\u001b[0;34m\u001b[0m\u001b[0;34m\u001b[0m\u001b[0m\n\u001b[1;32m    452\u001b[0m         \u001b[0;32mfor\u001b[0m \u001b[0mcallback\u001b[0m \u001b[0;32min\u001b[0m \u001b[0mself\u001b[0m\u001b[0;34m.\u001b[0m\u001b[0mcallbacks\u001b[0m\u001b[0;34m:\u001b[0m\u001b[0;34m\u001b[0m\u001b[0;34m\u001b[0m\u001b[0m\n\u001b[0;32m--> 453\u001b[0;31m             \u001b[0mcallback\u001b[0m\u001b[0;34m.\u001b[0m\u001b[0mon_epoch_end\u001b[0m\u001b[0;34m(\u001b[0m\u001b[0mepoch\u001b[0m\u001b[0;34m,\u001b[0m \u001b[0mlogs\u001b[0m\u001b[0;34m)\u001b[0m\u001b[0;34m\u001b[0m\u001b[0;34m\u001b[0m\u001b[0m\n\u001b[0m\u001b[1;32m    454\u001b[0m \u001b[0;34m\u001b[0m\u001b[0m\n\u001b[1;32m    455\u001b[0m     \u001b[0;32mdef\u001b[0m \u001b[0mon_train_batch_begin\u001b[0m\u001b[0;34m(\u001b[0m\u001b[0mself\u001b[0m\u001b[0;34m,\u001b[0m \u001b[0mbatch\u001b[0m\u001b[0;34m,\u001b[0m \u001b[0mlogs\u001b[0m\u001b[0;34m=\u001b[0m\u001b[0;32mNone\u001b[0m\u001b[0;34m)\u001b[0m\u001b[0;34m:\u001b[0m\u001b[0;34m\u001b[0m\u001b[0;34m\u001b[0m\u001b[0m\n",
            "\u001b[0;32m/usr/local/lib/python3.10/dist-packages/keras/callbacks.py\u001b[0m in \u001b[0;36mon_epoch_end\u001b[0;34m(self, epoch, logs)\u001b[0m\n\u001b[1;32m   1473\u001b[0m \u001b[0;34m\u001b[0m\u001b[0m\n\u001b[1;32m   1474\u001b[0m         \u001b[0;32mif\u001b[0m \u001b[0mself\u001b[0m\u001b[0;34m.\u001b[0m\u001b[0msave_freq\u001b[0m \u001b[0;34m==\u001b[0m \u001b[0;34m\"epoch\"\u001b[0m\u001b[0;34m:\u001b[0m\u001b[0;34m\u001b[0m\u001b[0;34m\u001b[0m\u001b[0m\n\u001b[0;32m-> 1475\u001b[0;31m             \u001b[0mself\u001b[0m\u001b[0;34m.\u001b[0m\u001b[0m_save_model\u001b[0m\u001b[0;34m(\u001b[0m\u001b[0mepoch\u001b[0m\u001b[0;34m=\u001b[0m\u001b[0mepoch\u001b[0m\u001b[0;34m,\u001b[0m \u001b[0mbatch\u001b[0m\u001b[0;34m=\u001b[0m\u001b[0;32mNone\u001b[0m\u001b[0;34m,\u001b[0m \u001b[0mlogs\u001b[0m\u001b[0;34m=\u001b[0m\u001b[0mlogs\u001b[0m\u001b[0;34m)\u001b[0m\u001b[0;34m\u001b[0m\u001b[0;34m\u001b[0m\u001b[0m\n\u001b[0m\u001b[1;32m   1476\u001b[0m \u001b[0;34m\u001b[0m\u001b[0m\n\u001b[1;32m   1477\u001b[0m     \u001b[0;32mdef\u001b[0m \u001b[0m_should_save_on_batch\u001b[0m\u001b[0;34m(\u001b[0m\u001b[0mself\u001b[0m\u001b[0;34m,\u001b[0m \u001b[0mbatch\u001b[0m\u001b[0;34m)\u001b[0m\u001b[0;34m:\u001b[0m\u001b[0;34m\u001b[0m\u001b[0;34m\u001b[0m\u001b[0m\n",
            "\u001b[0;32m/usr/local/lib/python3.10/dist-packages/keras/callbacks.py\u001b[0m in \u001b[0;36m_save_model\u001b[0;34m(self, epoch, batch, logs)\u001b[0m\n\u001b[1;32m   1543\u001b[0m                                 )\n\u001b[1;32m   1544\u001b[0m                             \u001b[0;32melse\u001b[0m\u001b[0;34m:\u001b[0m\u001b[0;34m\u001b[0m\u001b[0;34m\u001b[0m\u001b[0m\n\u001b[0;32m-> 1545\u001b[0;31m                                 self.model.save(\n\u001b[0m\u001b[1;32m   1546\u001b[0m                                     \u001b[0mfilepath\u001b[0m\u001b[0;34m,\u001b[0m\u001b[0;34m\u001b[0m\u001b[0;34m\u001b[0m\u001b[0m\n\u001b[1;32m   1547\u001b[0m                                     \u001b[0moverwrite\u001b[0m\u001b[0;34m=\u001b[0m\u001b[0;32mTrue\u001b[0m\u001b[0;34m,\u001b[0m\u001b[0;34m\u001b[0m\u001b[0;34m\u001b[0m\u001b[0m\n",
            "\u001b[0;32m/usr/local/lib/python3.10/dist-packages/keras/utils/traceback_utils.py\u001b[0m in \u001b[0;36merror_handler\u001b[0;34m(*args, **kwargs)\u001b[0m\n\u001b[1;32m     63\u001b[0m         \u001b[0mfiltered_tb\u001b[0m \u001b[0;34m=\u001b[0m \u001b[0;32mNone\u001b[0m\u001b[0;34m\u001b[0m\u001b[0;34m\u001b[0m\u001b[0m\n\u001b[1;32m     64\u001b[0m         \u001b[0;32mtry\u001b[0m\u001b[0;34m:\u001b[0m\u001b[0;34m\u001b[0m\u001b[0;34m\u001b[0m\u001b[0m\n\u001b[0;32m---> 65\u001b[0;31m             \u001b[0;32mreturn\u001b[0m \u001b[0mfn\u001b[0m\u001b[0;34m(\u001b[0m\u001b[0;34m*\u001b[0m\u001b[0margs\u001b[0m\u001b[0;34m,\u001b[0m \u001b[0;34m**\u001b[0m\u001b[0mkwargs\u001b[0m\u001b[0;34m)\u001b[0m\u001b[0;34m\u001b[0m\u001b[0;34m\u001b[0m\u001b[0m\n\u001b[0m\u001b[1;32m     66\u001b[0m         \u001b[0;32mexcept\u001b[0m \u001b[0mException\u001b[0m \u001b[0;32mas\u001b[0m \u001b[0me\u001b[0m\u001b[0;34m:\u001b[0m\u001b[0;34m\u001b[0m\u001b[0;34m\u001b[0m\u001b[0m\n\u001b[1;32m     67\u001b[0m             \u001b[0mfiltered_tb\u001b[0m \u001b[0;34m=\u001b[0m \u001b[0m_process_traceback_frames\u001b[0m\u001b[0;34m(\u001b[0m\u001b[0me\u001b[0m\u001b[0;34m.\u001b[0m\u001b[0m__traceback__\u001b[0m\u001b[0;34m)\u001b[0m\u001b[0;34m\u001b[0m\u001b[0;34m\u001b[0m\u001b[0m\n",
            "\u001b[0;32m/usr/local/lib/python3.10/dist-packages/keras/engine/training.py\u001b[0m in \u001b[0;36msave\u001b[0;34m(self, filepath, overwrite, save_format, **kwargs)\u001b[0m\n\u001b[1;32m   2824\u001b[0m         \u001b[0mNote\u001b[0m \u001b[0mthat\u001b[0m\u001b[0;31m \u001b[0m\u001b[0;31m`\u001b[0m\u001b[0mmodel\u001b[0m\u001b[0;34m.\u001b[0m\u001b[0msave\u001b[0m\u001b[0;34m(\u001b[0m\u001b[0;34m)\u001b[0m\u001b[0;31m`\u001b[0m \u001b[0;32mis\u001b[0m \u001b[0man\u001b[0m \u001b[0malias\u001b[0m \u001b[0;32mfor\u001b[0m\u001b[0;31m \u001b[0m\u001b[0;31m`\u001b[0m\u001b[0mtf\u001b[0m\u001b[0;34m.\u001b[0m\u001b[0mkeras\u001b[0m\u001b[0;34m.\u001b[0m\u001b[0mmodels\u001b[0m\u001b[0;34m.\u001b[0m\u001b[0msave_model\u001b[0m\u001b[0;34m(\u001b[0m\u001b[0;34m)\u001b[0m\u001b[0;31m`\u001b[0m\u001b[0;34m.\u001b[0m\u001b[0;34m\u001b[0m\u001b[0;34m\u001b[0m\u001b[0m\n\u001b[1;32m   2825\u001b[0m         \"\"\"\n\u001b[0;32m-> 2826\u001b[0;31m         saving_api.save_model(\n\u001b[0m\u001b[1;32m   2827\u001b[0m             \u001b[0mself\u001b[0m\u001b[0;34m,\u001b[0m\u001b[0;34m\u001b[0m\u001b[0;34m\u001b[0m\u001b[0m\n\u001b[1;32m   2828\u001b[0m             \u001b[0mfilepath\u001b[0m\u001b[0;34m=\u001b[0m\u001b[0mfilepath\u001b[0m\u001b[0;34m,\u001b[0m\u001b[0;34m\u001b[0m\u001b[0;34m\u001b[0m\u001b[0m\n",
            "\u001b[0;32m/usr/local/lib/python3.10/dist-packages/keras/saving/saving_api.py\u001b[0m in \u001b[0;36msave_model\u001b[0;34m(model, filepath, overwrite, save_format, **kwargs)\u001b[0m\n\u001b[1;32m    143\u001b[0m     \u001b[0;32melse\u001b[0m\u001b[0;34m:\u001b[0m\u001b[0;34m\u001b[0m\u001b[0;34m\u001b[0m\u001b[0m\n\u001b[1;32m    144\u001b[0m         \u001b[0;31m# Legacy case\u001b[0m\u001b[0;34m\u001b[0m\u001b[0;34m\u001b[0m\u001b[0m\n\u001b[0;32m--> 145\u001b[0;31m         return legacy_sm_saving_lib.save_model(\n\u001b[0m\u001b[1;32m    146\u001b[0m             \u001b[0mmodel\u001b[0m\u001b[0;34m,\u001b[0m\u001b[0;34m\u001b[0m\u001b[0;34m\u001b[0m\u001b[0m\n\u001b[1;32m    147\u001b[0m             \u001b[0mfilepath\u001b[0m\u001b[0;34m,\u001b[0m\u001b[0;34m\u001b[0m\u001b[0;34m\u001b[0m\u001b[0m\n",
            "\u001b[0;32m/usr/local/lib/python3.10/dist-packages/keras/utils/traceback_utils.py\u001b[0m in \u001b[0;36merror_handler\u001b[0;34m(*args, **kwargs)\u001b[0m\n\u001b[1;32m     63\u001b[0m         \u001b[0mfiltered_tb\u001b[0m \u001b[0;34m=\u001b[0m \u001b[0;32mNone\u001b[0m\u001b[0;34m\u001b[0m\u001b[0;34m\u001b[0m\u001b[0m\n\u001b[1;32m     64\u001b[0m         \u001b[0;32mtry\u001b[0m\u001b[0;34m:\u001b[0m\u001b[0;34m\u001b[0m\u001b[0;34m\u001b[0m\u001b[0m\n\u001b[0;32m---> 65\u001b[0;31m             \u001b[0;32mreturn\u001b[0m \u001b[0mfn\u001b[0m\u001b[0;34m(\u001b[0m\u001b[0;34m*\u001b[0m\u001b[0margs\u001b[0m\u001b[0;34m,\u001b[0m \u001b[0;34m**\u001b[0m\u001b[0mkwargs\u001b[0m\u001b[0;34m)\u001b[0m\u001b[0;34m\u001b[0m\u001b[0;34m\u001b[0m\u001b[0m\n\u001b[0m\u001b[1;32m     66\u001b[0m         \u001b[0;32mexcept\u001b[0m \u001b[0mException\u001b[0m \u001b[0;32mas\u001b[0m \u001b[0me\u001b[0m\u001b[0;34m:\u001b[0m\u001b[0;34m\u001b[0m\u001b[0;34m\u001b[0m\u001b[0m\n\u001b[1;32m     67\u001b[0m             \u001b[0mfiltered_tb\u001b[0m \u001b[0;34m=\u001b[0m \u001b[0m_process_traceback_frames\u001b[0m\u001b[0;34m(\u001b[0m\u001b[0me\u001b[0m\u001b[0;34m.\u001b[0m\u001b[0m__traceback__\u001b[0m\u001b[0;34m)\u001b[0m\u001b[0;34m\u001b[0m\u001b[0;34m\u001b[0m\u001b[0m\n",
            "\u001b[0;32m/usr/local/lib/python3.10/dist-packages/keras/saving/legacy/save.py\u001b[0m in \u001b[0;36msave_model\u001b[0;34m(model, filepath, overwrite, include_optimizer, save_format, signatures, options, save_traces)\u001b[0m\n\u001b[1;32m    166\u001b[0m                 \u001b[0msave_traces\u001b[0m\u001b[0;34m=\u001b[0m\u001b[0msave_traces\u001b[0m\u001b[0;34m,\u001b[0m \u001b[0min_tf_saved_model_scope\u001b[0m\u001b[0;34m=\u001b[0m\u001b[0;32mTrue\u001b[0m\u001b[0;34m\u001b[0m\u001b[0;34m\u001b[0m\u001b[0m\n\u001b[1;32m    167\u001b[0m             ):\n\u001b[0;32m--> 168\u001b[0;31m                 saved_model_save.save(\n\u001b[0m\u001b[1;32m    169\u001b[0m                     \u001b[0mmodel\u001b[0m\u001b[0;34m,\u001b[0m\u001b[0;34m\u001b[0m\u001b[0;34m\u001b[0m\u001b[0m\n\u001b[1;32m    170\u001b[0m                     \u001b[0mfilepath\u001b[0m\u001b[0;34m,\u001b[0m\u001b[0;34m\u001b[0m\u001b[0;34m\u001b[0m\u001b[0m\n",
            "\u001b[0;32m/usr/local/lib/python3.10/dist-packages/keras/saving/legacy/saved_model/save.py\u001b[0m in \u001b[0;36msave\u001b[0;34m(model, filepath, overwrite, include_optimizer, signatures, options, save_traces)\u001b[0m\n\u001b[1;32m     96\u001b[0m         \u001b[0;32mwith\u001b[0m \u001b[0mbackend\u001b[0m\u001b[0;34m.\u001b[0m\u001b[0mdeprecated_internal_learning_phase_scope\u001b[0m\u001b[0;34m(\u001b[0m\u001b[0;36m0\u001b[0m\u001b[0;34m)\u001b[0m\u001b[0;34m:\u001b[0m\u001b[0;34m\u001b[0m\u001b[0;34m\u001b[0m\u001b[0m\n\u001b[1;32m     97\u001b[0m             \u001b[0;32mwith\u001b[0m \u001b[0mutils\u001b[0m\u001b[0;34m.\u001b[0m\u001b[0mkeras_option_scope\u001b[0m\u001b[0;34m(\u001b[0m\u001b[0msave_traces\u001b[0m\u001b[0;34m)\u001b[0m\u001b[0;34m:\u001b[0m\u001b[0;34m\u001b[0m\u001b[0;34m\u001b[0m\u001b[0m\n\u001b[0;32m---> 98\u001b[0;31m                 saved_nodes, node_paths = save_lib.save_and_return_nodes(\n\u001b[0m\u001b[1;32m     99\u001b[0m                     \u001b[0mmodel\u001b[0m\u001b[0;34m,\u001b[0m \u001b[0mfilepath\u001b[0m\u001b[0;34m,\u001b[0m \u001b[0msignatures\u001b[0m\u001b[0;34m,\u001b[0m \u001b[0moptions\u001b[0m\u001b[0;34m\u001b[0m\u001b[0;34m\u001b[0m\u001b[0m\n\u001b[1;32m    100\u001b[0m                 )\n",
            "\u001b[0;31mKeyboardInterrupt\u001b[0m: "
          ]
        }
      ]
    },
    {
      "cell_type": "markdown",
      "source": [
        "#### 5.3 Load Best Model\n",
        "\n",
        "Use `os` module to get all sub-folders in the model folder and find the minimum value of `MAPE`, which is the best model. Get the name of that folder as model name we are going to load. Use `load_model` to load the best model, and in this name of model folder, we can easily figure out all parameters this best model use. Reference [keras load_model link](https://keras.io/api/models/model_saving_apis/model_saving_and_loading/#load_model-function)"
      ],
      "metadata": {
        "id": "BPN-uaNCRCZx"
      }
    },
    {
      "cell_type": "markdown",
      "source": [
        "##### 5.3.1 Find the model name with minimum value of `MAPE`"
      ],
      "metadata": {
        "id": "GCDn2fYLglWy"
      }
    },
    {
      "cell_type": "code",
      "source": [
        "dir_list = os.listdir('./models')\n",
        "mape_list = []\n",
        "for dir in dir_list:\n",
        "    if dir.__contains__('checkpoints'):\n",
        "        continue\n",
        "    else:\n",
        "        mape_list.append(float(dir.split('_')[1]))\n",
        "min_mape = min(mape_list)\n",
        "best_model_name = ''\n",
        "for dir in dir_list:\n",
        "    if dir.__contains__(str(min_mape)):\n",
        "        best_model_name = dir\n",
        "        break"
      ],
      "metadata": {
        "colab": {
          "base_uri": "https://localhost:8080/"
        },
        "id": "eSU6ZL6FXi-3",
        "outputId": "066a729b-4244-4665-e7f2-5e4cbfe4fa3a"
      },
      "execution_count": 34,
      "outputs": [
        {
          "output_type": "stream",
          "name": "stdout",
          "text": [
            "5.46\n",
            "GOOGL_5.46_11_mem_5_lstm_1_dense_1_unit_8\n"
          ]
        }
      ]
    },
    {
      "cell_type": "markdown",
      "source": [
        "##### 5.3.2 Load Best Model"
      ],
      "metadata": {
        "id": "Y9sE3_27gtfp"
      }
    },
    {
      "cell_type": "code",
      "source": [
        "best_model = load_model(f'./models/{best_model_name}')"
      ],
      "metadata": {
        "id": "hDHbheT0cgL9"
      },
      "execution_count": 36,
      "outputs": []
    },
    {
      "cell_type": "code",
      "source": [
        "best_model.summary()"
      ],
      "metadata": {
        "colab": {
          "base_uri": "https://localhost:8080/"
        },
        "id": "zgCl-eCchD8R",
        "outputId": "87003d9e-114e-4bfb-fba8-f0961b3e3d20"
      },
      "execution_count": 37,
      "outputs": [
        {
          "output_type": "stream",
          "name": "stdout",
          "text": [
            "Model: \"sequential_2\"\n",
            "_________________________________________________________________\n",
            " Layer (type)                Output Shape              Param #   \n",
            "=================================================================\n",
            " lstm_6 (LSTM)               (None, 5, 8)              448       \n",
            "                                                                 \n",
            " dropout_8 (Dropout)         (None, 5, 8)              0         \n",
            "                                                                 \n",
            " lstm_7 (LSTM)               (None, 5, 8)              544       \n",
            "                                                                 \n",
            " dropout_9 (Dropout)         (None, 5, 8)              0         \n",
            "                                                                 \n",
            " lstm_8 (LSTM)               (None, 8)                 544       \n",
            "                                                                 \n",
            " dropout_10 (Dropout)        (None, 8)                 0         \n",
            "                                                                 \n",
            " dense_4 (Dense)             (None, 8)                 72        \n",
            "                                                                 \n",
            " dropout_11 (Dropout)        (None, 8)                 0         \n",
            "                                                                 \n",
            " dense_5 (Dense)             (None, 1)                 9         \n",
            "                                                                 \n",
            "=================================================================\n",
            "Total params: 1,617\n",
            "Trainable params: 1,617\n",
            "Non-trainable params: 0\n",
            "_________________________________________________________________\n"
          ]
        }
      ]
    },
    {
      "cell_type": "code",
      "source": [
        "best_model.evaluate(X_test, y_test)"
      ],
      "metadata": {
        "colab": {
          "base_uri": "https://localhost:8080/"
        },
        "id": "2Df3zftohH1y",
        "outputId": "b609c3da-1728-4cfd-af86-d7fb4bbd9c74"
      },
      "execution_count": 38,
      "outputs": [
        {
          "output_type": "stream",
          "name": "stdout",
          "text": [
            "15/15 [==============================] - 1s 4ms/step - loss: 52.3332 - mape: 4.7546\n"
          ]
        },
        {
          "output_type": "execute_result",
          "data": {
            "text/plain": [
              "[52.33316421508789, 4.754550933837891]"
            ]
          },
          "metadata": {},
          "execution_count": 38
        }
      ]
    },
    {
      "cell_type": "code",
      "source": [
        "pred = best_model.predict(X_test)"
      ],
      "metadata": {
        "colab": {
          "base_uri": "https://localhost:8080/"
        },
        "id": "5RX4WfwsiqYO",
        "outputId": "e309ee04-5fd1-4edb-c67b-c7115ea6a0e0"
      },
      "execution_count": 43,
      "outputs": [
        {
          "output_type": "stream",
          "name": "stdout",
          "text": [
            "15/15 [==============================] - 1s 5ms/step\n"
          ]
        }
      ]
    },
    {
      "cell_type": "markdown",
      "source": [
        "## 6. Prediction and Visualization\n",
        "\n",
        "Use `matplotlib` to display prediction results."
      ],
      "metadata": {
        "id": "ZoaSEpJKhw40"
      }
    },
    {
      "cell_type": "code",
      "source": [
        "df_time = df.index[-len(y_test): ]\n",
        "plt.plot(df_time, y_test, color='red', label='price')\n",
        "plt.plot(df_time, pred, color='green', label='predict')\n",
        "plt.show()"
      ],
      "metadata": {
        "colab": {
          "base_uri": "https://localhost:8080/",
          "height": 430
        },
        "id": "QJvB5FyIhNUl",
        "outputId": "0a6a352b-726f-4bcf-b542-f5e52bb67792"
      },
      "execution_count": 45,
      "outputs": [
        {
          "output_type": "display_data",
          "data": {
            "text/plain": [
              "<Figure size 640x480 with 1 Axes>"
            ],
            "image/png": "[encoded data removed]"
          },
          "metadata": {}
        }
      ]
    },
    {
      "cell_type": "code",
      "source": [
        "!zip -r /content/models.zip /content/models"
      ],
      "metadata": {
        "colab": {
          "base_uri": "https://localhost:8080/"
        },
        "id": "9EAkC_-9nSYp",
        "outputId": "33679105-1064-4205-f17e-4b543736038a"
      },
      "execution_count": 49,
      "outputs": [
        {
          "output_type": "stream",
          "name": "stdout",
          "text": [
            "  adding: content/models/ (stored 0%)\n",
            "  adding: content/models/GOOGL_8.45_03_mem_5_lstm_1_dense_1_unit_16/ (stored 0%)\n",
            "  adding: content/models/GOOGL_8.45_03_mem_5_lstm_1_dense_1_unit_16/keras_metadata.pb (deflated 92%)\n",
            "  adding: content/models/GOOGL_8.45_03_mem_5_lstm_1_dense_1_unit_16/fingerprint.pb (stored 0%)\n",
            "  adding: content/models/GOOGL_8.45_03_mem_5_lstm_1_dense_1_unit_16/saved_model.pb (deflated 91%)\n",
            "  adding: content/models/GOOGL_8.45_03_mem_5_lstm_1_dense_1_unit_16/assets/ (stored 0%)\n",
            "  adding: content/models/GOOGL_8.45_03_mem_5_lstm_1_dense_1_unit_16/variables/ (stored 0%)\n",
            "  adding: content/models/GOOGL_8.45_03_mem_5_lstm_1_dense_1_unit_16/variables/variables.data-00000-of-00001 (deflated 18%)\n",
            "  adding: content/models/GOOGL_8.45_03_mem_5_lstm_1_dense_1_unit_16/variables/variables.index (deflated 66%)\n",
            "  adding: content/models/GOOGL_6.96_10_mem_5_lstm_2_dense_1_unit_8/ (stored 0%)\n",
            "  adding: content/models/GOOGL_6.96_10_mem_5_lstm_2_dense_1_unit_8/keras_metadata.pb (deflated 93%)\n",
            "  adding: content/models/GOOGL_6.96_10_mem_5_lstm_2_dense_1_unit_8/fingerprint.pb (stored 0%)\n",
            "  adding: content/models/GOOGL_6.96_10_mem_5_lstm_2_dense_1_unit_8/saved_model.pb (deflated 91%)\n",
            "  adding: content/models/GOOGL_6.96_10_mem_5_lstm_2_dense_1_unit_8/assets/ (stored 0%)\n",
            "  adding: content/models/GOOGL_6.96_10_mem_5_lstm_2_dense_1_unit_8/variables/ (stored 0%)\n",
            "  adding: content/models/GOOGL_6.96_10_mem_5_lstm_2_dense_1_unit_8/variables/variables.data-00000-of-00001 (deflated 35%)\n",
            "  adding: content/models/GOOGL_6.96_10_mem_5_lstm_2_dense_1_unit_8/variables/variables.index (deflated 68%)\n",
            "  adding: content/models/GOOGL_6.32_02_mem_5_lstm_1_dense_2_unit_16/ (stored 0%)\n",
            "  adding: content/models/GOOGL_6.32_02_mem_5_lstm_1_dense_2_unit_16/keras_metadata.pb (deflated 93%)\n",
            "  adding: content/models/GOOGL_6.32_02_mem_5_lstm_1_dense_2_unit_16/fingerprint.pb (stored 0%)\n",
            "  adding: content/models/GOOGL_6.32_02_mem_5_lstm_1_dense_2_unit_16/saved_model.pb (deflated 91%)\n",
            "  adding: content/models/GOOGL_6.32_02_mem_5_lstm_1_dense_2_unit_16/assets/ (stored 0%)\n",
            "  adding: content/models/GOOGL_6.32_02_mem_5_lstm_1_dense_2_unit_16/variables/ (stored 0%)\n",
            "  adding: content/models/GOOGL_6.32_02_mem_5_lstm_1_dense_2_unit_16/variables/variables.data-00000-of-00001 (deflated 18%)\n",
            "  adding: content/models/GOOGL_6.32_02_mem_5_lstm_1_dense_2_unit_16/variables/variables.index (deflated 67%)\n",
            "  adding: content/models/GOOGL_106.56_01_mem_5_lstm_2_dense_3_unit_8/ (stored 0%)\n",
            "  adding: content/models/GOOGL_106.56_01_mem_5_lstm_2_dense_3_unit_8/keras_metadata.pb (deflated 94%)\n",
            "  adding: content/models/GOOGL_106.56_01_mem_5_lstm_2_dense_3_unit_8/fingerprint.pb (stored 0%)\n",
            "  adding: content/models/GOOGL_106.56_01_mem_5_lstm_2_dense_3_unit_8/saved_model.pb (deflated 91%)\n",
            "  adding: content/models/GOOGL_106.56_01_mem_5_lstm_2_dense_3_unit_8/assets/ (stored 0%)\n",
            "  adding: content/models/GOOGL_106.56_01_mem_5_lstm_2_dense_3_unit_8/variables/ (stored 0%)\n",
            "  adding: content/models/GOOGL_106.56_01_mem_5_lstm_2_dense_3_unit_8/variables/variables.data-00000-of-00001 (deflated 38%)\n",
            "  adding: content/models/GOOGL_106.56_01_mem_5_lstm_2_dense_3_unit_8/variables/variables.index (deflated 69%)\n",
            "  adding: content/models/.ipynb_checkpoints/ (stored 0%)\n",
            "  adding: content/models/GOOGL_5.48_10_mem_5_lstm_1_dense_1_unit_8/ (stored 0%)\n",
            "  adding: content/models/GOOGL_5.48_10_mem_5_lstm_1_dense_1_unit_8/keras_metadata.pb (deflated 92%)\n",
            "  adding: content/models/GOOGL_5.48_10_mem_5_lstm_1_dense_1_unit_8/fingerprint.pb (stored 0%)\n",
            "  adding: content/models/GOOGL_5.48_10_mem_5_lstm_1_dense_1_unit_8/saved_model.pb (deflated 91%)\n",
            "  adding: content/models/GOOGL_5.48_10_mem_5_lstm_1_dense_1_unit_8/assets/ (stored 0%)\n",
            "  adding: content/models/GOOGL_5.48_10_mem_5_lstm_1_dense_1_unit_8/variables/ (stored 0%)\n",
            "  adding: content/models/GOOGL_5.48_10_mem_5_lstm_1_dense_1_unit_8/variables/variables.data-00000-of-00001 (deflated 35%)\n",
            "  adding: content/models/GOOGL_5.48_10_mem_5_lstm_1_dense_1_unit_8/variables/variables.index (deflated 66%)\n",
            "  adding: content/models/GOOGL_6.46_11_mem_5_lstm_2_dense_1_unit_16/ (stored 0%)\n",
            "  adding: content/models/GOOGL_6.46_11_mem_5_lstm_2_dense_1_unit_16/keras_metadata.pb (deflated 93%)\n",
            "  adding: content/models/GOOGL_6.46_11_mem_5_lstm_2_dense_1_unit_16/fingerprint.pb (stored 0%)\n",
            "  adding: content/models/GOOGL_6.46_11_mem_5_lstm_2_dense_1_unit_16/saved_model.pb (deflated 91%)\n",
            "  adding: content/models/GOOGL_6.46_11_mem_5_lstm_2_dense_1_unit_16/assets/ (stored 0%)\n",
            "  adding: content/models/GOOGL_6.46_11_mem_5_lstm_2_dense_1_unit_16/variables/ (stored 0%)\n",
            "  adding: content/models/GOOGL_6.46_11_mem_5_lstm_2_dense_1_unit_16/variables/variables.data-00000-of-00001 (deflated 16%)\n",
            "  adding: content/models/GOOGL_6.46_11_mem_5_lstm_2_dense_1_unit_16/variables/variables.index (deflated 68%)\n",
            "  adding: content/models/GOOGL_5.71_15_mem_5_lstm_1_dense_1_unit_16/ (stored 0%)\n",
            "  adding: content/models/GOOGL_5.71_15_mem_5_lstm_1_dense_1_unit_16/keras_metadata.pb (deflated 92%)\n",
            "  adding: content/models/GOOGL_5.71_15_mem_5_lstm_1_dense_1_unit_16/fingerprint.pb (stored 0%)\n",
            "  adding: content/models/GOOGL_5.71_15_mem_5_lstm_1_dense_1_unit_16/saved_model.pb (deflated 91%)\n",
            "  adding: content/models/GOOGL_5.71_15_mem_5_lstm_1_dense_1_unit_16/assets/ (stored 0%)\n",
            "  adding: content/models/GOOGL_5.71_15_mem_5_lstm_1_dense_1_unit_16/variables/ (stored 0%)\n",
            "  adding: content/models/GOOGL_5.71_15_mem_5_lstm_1_dense_1_unit_16/variables/variables.data-00000-of-00001 (deflated 18%)\n",
            "  adding: content/models/GOOGL_5.71_15_mem_5_lstm_1_dense_1_unit_16/variables/variables.index (deflated 66%)\n",
            "  adding: content/models/GOOGL_7.12_06_mem_5_lstm_1_dense_1_unit_16/ (stored 0%)\n",
            "  adding: content/models/GOOGL_7.12_06_mem_5_lstm_1_dense_1_unit_16/keras_metadata.pb (deflated 92%)\n",
            "  adding: content/models/GOOGL_7.12_06_mem_5_lstm_1_dense_1_unit_16/fingerprint.pb (stored 0%)\n",
            "  adding: content/models/GOOGL_7.12_06_mem_5_lstm_1_dense_1_unit_16/saved_model.pb (deflated 90%)\n",
            "  adding: content/models/GOOGL_7.12_06_mem_5_lstm_1_dense_1_unit_16/assets/ (stored 0%)\n",
            "  adding: content/models/GOOGL_7.12_06_mem_5_lstm_1_dense_1_unit_16/variables/ (stored 0%)\n",
            "  adding: content/models/GOOGL_7.12_06_mem_5_lstm_1_dense_1_unit_16/variables/variables.data-00000-of-00001 (deflated 17%)\n",
            "  adding: content/models/GOOGL_7.12_06_mem_5_lstm_1_dense_1_unit_16/variables/variables.index (deflated 66%)\n",
            "  adding: content/models/GOOGL_11.83_02_mem_5_lstm_2_dense_3_unit_16/ (stored 0%)\n",
            "  adding: content/models/GOOGL_11.83_02_mem_5_lstm_2_dense_3_unit_16/keras_metadata.pb (deflated 94%)\n",
            "  adding: content/models/GOOGL_11.83_02_mem_5_lstm_2_dense_3_unit_16/fingerprint.pb (stored 0%)\n",
            "  adding: content/models/GOOGL_11.83_02_mem_5_lstm_2_dense_3_unit_16/saved_model.pb (deflated 91%)\n",
            "  adding: content/models/GOOGL_11.83_02_mem_5_lstm_2_dense_3_unit_16/assets/ (stored 0%)\n",
            "  adding: content/models/GOOGL_11.83_02_mem_5_lstm_2_dense_3_unit_16/variables/ (stored 0%)\n",
            "  adding: content/models/GOOGL_11.83_02_mem_5_lstm_2_dense_3_unit_16/variables/variables.data-00000-of-00001 (deflated 19%)\n",
            "  adding: content/models/GOOGL_11.83_02_mem_5_lstm_2_dense_3_unit_16/variables/variables.index (deflated 69%)\n",
            "  adding: content/models/GOOGL_21.67_03_mem_5_lstm_2_dense_2_unit_16/ (stored 0%)\n",
            "  adding: content/models/GOOGL_21.67_03_mem_5_lstm_2_dense_2_unit_16/keras_metadata.pb (deflated 93%)\n",
            "  adding: content/models/GOOGL_21.67_03_mem_5_lstm_2_dense_2_unit_16/fingerprint.pb (stored 0%)\n",
            "  adding: content/models/GOOGL_21.67_03_mem_5_lstm_2_dense_2_unit_16/saved_model.pb (deflated 91%)\n",
            "  adding: content/models/GOOGL_21.67_03_mem_5_lstm_2_dense_2_unit_16/assets/ (stored 0%)\n",
            "  adding: content/models/GOOGL_21.67_03_mem_5_lstm_2_dense_2_unit_16/variables/ (stored 0%)\n",
            "  adding: content/models/GOOGL_21.67_03_mem_5_lstm_2_dense_2_unit_16/variables/variables.data-00000-of-00001 (deflated 17%)\n",
            "  adding: content/models/GOOGL_21.67_03_mem_5_lstm_2_dense_2_unit_16/variables/variables.index (deflated 68%)\n",
            "  adding: content/models/GOOGL_9.34_03_mem_5_lstm_1_dense_3_unit_8/ (stored 0%)\n",
            "  adding: content/models/GOOGL_9.34_03_mem_5_lstm_1_dense_3_unit_8/keras_metadata.pb (deflated 93%)\n",
            "  adding: content/models/GOOGL_9.34_03_mem_5_lstm_1_dense_3_unit_8/fingerprint.pb (stored 0%)\n",
            "  adding: content/models/GOOGL_9.34_03_mem_5_lstm_1_dense_3_unit_8/saved_model.pb (deflated 91%)\n",
            "  adding: content/models/GOOGL_9.34_03_mem_5_lstm_1_dense_3_unit_8/assets/ (stored 0%)\n",
            "  adding: content/models/GOOGL_9.34_03_mem_5_lstm_1_dense_3_unit_8/variables/ (stored 0%)\n",
            "  adding: content/models/GOOGL_9.34_03_mem_5_lstm_1_dense_3_unit_8/variables/variables.data-00000-of-00001 (deflated 39%)\n",
            "  adding: content/models/GOOGL_9.34_03_mem_5_lstm_1_dense_3_unit_8/variables/variables.index (deflated 68%)\n",
            "  adding: content/models/GOOGL_39.26_01_mem_5_lstm_1_dense_3_unit_8/ (stored 0%)\n",
            "  adding: content/models/GOOGL_39.26_01_mem_5_lstm_1_dense_3_unit_8/keras_metadata.pb (deflated 93%)\n",
            "  adding: content/models/GOOGL_39.26_01_mem_5_lstm_1_dense_3_unit_8/fingerprint.pb (stored 0%)\n",
            "  adding: content/models/GOOGL_39.26_01_mem_5_lstm_1_dense_3_unit_8/saved_model.pb (deflated 91%)\n",
            "  adding: content/models/GOOGL_39.26_01_mem_5_lstm_1_dense_3_unit_8/assets/ (stored 0%)\n",
            "  adding: content/models/GOOGL_39.26_01_mem_5_lstm_1_dense_3_unit_8/variables/ (stored 0%)\n",
            "  adding: content/models/GOOGL_39.26_01_mem_5_lstm_1_dense_3_unit_8/variables/variables.data-00000-of-00001 (deflated 39%)\n",
            "  adding: content/models/GOOGL_39.26_01_mem_5_lstm_1_dense_3_unit_8/variables/variables.index (deflated 68%)\n",
            "  adding: content/models/GOOGL_10.94_04_mem_5_lstm_2_dense_1_unit_16/ (stored 0%)\n",
            "  adding: content/models/GOOGL_10.94_04_mem_5_lstm_2_dense_1_unit_16/keras_metadata.pb (deflated 93%)\n",
            "  adding: content/models/GOOGL_10.94_04_mem_5_lstm_2_dense_1_unit_16/fingerprint.pb (stored 0%)\n",
            "  adding: content/models/GOOGL_10.94_04_mem_5_lstm_2_dense_1_unit_16/saved_model.pb (deflated 91%)\n",
            "  adding: content/models/GOOGL_10.94_04_mem_5_lstm_2_dense_1_unit_16/assets/ (stored 0%)\n",
            "  adding: content/models/GOOGL_10.94_04_mem_5_lstm_2_dense_1_unit_16/variables/ (stored 0%)\n",
            "  adding: content/models/GOOGL_10.94_04_mem_5_lstm_2_dense_1_unit_16/variables/variables.data-00000-of-00001 (deflated 16%)\n",
            "  adding: content/models/GOOGL_10.94_04_mem_5_lstm_2_dense_1_unit_16/variables/variables.index (deflated 67%)\n",
            "  adding: content/models/GOOGL_10.27_02_mem_5_lstm_1_dense_1_unit_16/ (stored 0%)\n",
            "  adding: content/models/GOOGL_10.27_02_mem_5_lstm_1_dense_1_unit_16/keras_metadata.pb (deflated 92%)\n",
            "  adding: content/models/GOOGL_10.27_02_mem_5_lstm_1_dense_1_unit_16/fingerprint.pb (stored 0%)\n",
            "  adding: content/models/GOOGL_10.27_02_mem_5_lstm_1_dense_1_unit_16/saved_model.pb (deflated 90%)\n",
            "  adding: content/models/GOOGL_10.27_02_mem_5_lstm_1_dense_1_unit_16/assets/ (stored 0%)\n",
            "  adding: content/models/GOOGL_10.27_02_mem_5_lstm_1_dense_1_unit_16/variables/ (stored 0%)\n",
            "  adding: content/models/GOOGL_10.27_02_mem_5_lstm_1_dense_1_unit_16/variables/variables.data-00000-of-00001 (deflated 18%)\n",
            "  adding: content/models/GOOGL_10.27_02_mem_5_lstm_1_dense_1_unit_16/variables/variables.index (deflated 66%)\n",
            "  adding: content/models/GOOGL_20.59_03_mem_5_lstm_2_dense_1_unit_16/ (stored 0%)\n",
            "  adding: content/models/GOOGL_20.59_03_mem_5_lstm_2_dense_1_unit_16/keras_metadata.pb (deflated 93%)\n",
            "  adding: content/models/GOOGL_20.59_03_mem_5_lstm_2_dense_1_unit_16/fingerprint.pb (stored 0%)\n",
            "  adding: content/models/GOOGL_20.59_03_mem_5_lstm_2_dense_1_unit_16/saved_model.pb (deflated 91%)\n",
            "  adding: content/models/GOOGL_20.59_03_mem_5_lstm_2_dense_1_unit_16/assets/ (stored 0%)\n",
            "  adding: content/models/GOOGL_20.59_03_mem_5_lstm_2_dense_1_unit_16/variables/ (stored 0%)\n",
            "  adding: content/models/GOOGL_20.59_03_mem_5_lstm_2_dense_1_unit_16/variables/variables.data-00000-of-00001 (deflated 16%)\n",
            "  adding: content/models/GOOGL_20.59_03_mem_5_lstm_2_dense_1_unit_16/variables/variables.index (deflated 68%)\n",
            "  adding: content/models/GOOGL_16.35_01_mem_5_lstm_1_dense_3_unit_16/ (stored 0%)\n",
            "  adding: content/models/GOOGL_16.35_01_mem_5_lstm_1_dense_3_unit_16/keras_metadata.pb (deflated 93%)\n",
            "  adding: content/models/GOOGL_16.35_01_mem_5_lstm_1_dense_3_unit_16/fingerprint.pb (stored 0%)\n",
            "  adding: content/models/GOOGL_16.35_01_mem_5_lstm_1_dense_3_unit_16/saved_model.pb (deflated 91%)\n",
            "  adding: content/models/GOOGL_16.35_01_mem_5_lstm_1_dense_3_unit_16/assets/ (stored 0%)\n",
            "  adding: content/models/GOOGL_16.35_01_mem_5_lstm_1_dense_3_unit_16/variables/ (stored 0%)\n",
            "  adding: content/models/GOOGL_16.35_01_mem_5_lstm_1_dense_3_unit_16/variables/variables.data-00000-of-00001 (deflated 20%)\n",
            "  adding: content/models/GOOGL_16.35_01_mem_5_lstm_1_dense_3_unit_16/variables/variables.index (deflated 68%)\n",
            "  adding: content/models/GOOGL_5.46_11_mem_5_lstm_1_dense_1_unit_8/ (stored 0%)\n",
            "  adding: content/models/GOOGL_5.46_11_mem_5_lstm_1_dense_1_unit_8/keras_metadata.pb (deflated 92%)\n",
            "  adding: content/models/GOOGL_5.46_11_mem_5_lstm_1_dense_1_unit_8/fingerprint.pb (stored 0%)\n",
            "  adding: content/models/GOOGL_5.46_11_mem_5_lstm_1_dense_1_unit_8/saved_model.pb (deflated 91%)\n",
            "  adding: content/models/GOOGL_5.46_11_mem_5_lstm_1_dense_1_unit_8/assets/ (stored 0%)\n",
            "  adding: content/models/GOOGL_5.46_11_mem_5_lstm_1_dense_1_unit_8/variables/ (stored 0%)\n",
            "  adding: content/models/GOOGL_5.46_11_mem_5_lstm_1_dense_1_unit_8/variables/variables.data-00000-of-00001 (deflated 36%)\n",
            "  adding: content/models/GOOGL_5.46_11_mem_5_lstm_1_dense_1_unit_8/variables/variables.index (deflated 67%)\n",
            "  adding: content/models/GOOGL_52.05_01_mem_5_lstm_1_dense_1_unit_8/ (stored 0%)\n",
            "  adding: content/models/GOOGL_52.05_01_mem_5_lstm_1_dense_1_unit_8/keras_metadata.pb (deflated 92%)\n",
            "  adding: content/models/GOOGL_52.05_01_mem_5_lstm_1_dense_1_unit_8/fingerprint.pb (stored 0%)\n",
            "  adding: content/models/GOOGL_52.05_01_mem_5_lstm_1_dense_1_unit_8/saved_model.pb (deflated 91%)\n",
            "  adding: content/models/GOOGL_52.05_01_mem_5_lstm_1_dense_1_unit_8/assets/ (stored 0%)\n",
            "  adding: content/models/GOOGL_52.05_01_mem_5_lstm_1_dense_1_unit_8/variables/ (stored 0%)\n",
            "  adding: content/models/GOOGL_52.05_01_mem_5_lstm_1_dense_1_unit_8/variables/variables.data-00000-of-00001 (deflated 35%)\n",
            "  adding: content/models/GOOGL_52.05_01_mem_5_lstm_1_dense_1_unit_8/variables/variables.index (deflated 67%)\n",
            "  adding: content/models/GOOGL_8.27_10_mem_5_lstm_3_dense_1_unit_8/ (stored 0%)\n",
            "  adding: content/models/GOOGL_8.27_10_mem_5_lstm_3_dense_1_unit_8/keras_metadata.pb (deflated 94%)\n",
            "  adding: content/models/GOOGL_8.27_10_mem_5_lstm_3_dense_1_unit_8/fingerprint.pb (stored 0%)\n",
            "  adding: content/models/GOOGL_8.27_10_mem_5_lstm_3_dense_1_unit_8/saved_model.pb (deflated 91%)\n",
            "  adding: content/models/GOOGL_8.27_10_mem_5_lstm_3_dense_1_unit_8/assets/ (stored 0%)\n",
            "  adding: content/models/GOOGL_8.27_10_mem_5_lstm_3_dense_1_unit_8/variables/ (stored 0%)\n",
            "  adding: content/models/GOOGL_8.27_10_mem_5_lstm_3_dense_1_unit_8/variables/variables.data-00000-of-00001 (deflated 35%)\n",
            "  adding: content/models/GOOGL_8.27_10_mem_5_lstm_3_dense_1_unit_8/variables/variables.index (deflated 69%)\n",
            "  adding: content/models/GOOGL_27.67_01_mem_5_lstm_2_dense_1_unit_8/ (stored 0%)\n",
            "  adding: content/models/GOOGL_27.67_01_mem_5_lstm_2_dense_1_unit_8/keras_metadata.pb (deflated 93%)\n",
            "  adding: content/models/GOOGL_27.67_01_mem_5_lstm_2_dense_1_unit_8/fingerprint.pb (stored 0%)\n",
            "  adding: content/models/GOOGL_27.67_01_mem_5_lstm_2_dense_1_unit_8/saved_model.pb (deflated 91%)\n",
            "  adding: content/models/GOOGL_27.67_01_mem_5_lstm_2_dense_1_unit_8/assets/ (stored 0%)\n",
            "  adding: content/models/GOOGL_27.67_01_mem_5_lstm_2_dense_1_unit_8/variables/ (stored 0%)\n",
            "  adding: content/models/GOOGL_27.67_01_mem_5_lstm_2_dense_1_unit_8/variables/variables.data-00000-of-00001 (deflated 34%)\n",
            "  adding: content/models/GOOGL_27.67_01_mem_5_lstm_2_dense_1_unit_8/variables/variables.index (deflated 68%)\n",
            "  adding: content/models/GOOGL_6.41_02_mem_5_lstm_1_dense_2_unit_8/ (stored 0%)\n",
            "  adding: content/models/GOOGL_6.41_02_mem_5_lstm_1_dense_2_unit_8/keras_metadata.pb (deflated 93%)\n",
            "  adding: content/models/GOOGL_6.41_02_mem_5_lstm_1_dense_2_unit_8/fingerprint.pb (stored 0%)\n",
            "  adding: content/models/GOOGL_6.41_02_mem_5_lstm_1_dense_2_unit_8/saved_model.pb (deflated 91%)\n",
            "  adding: content/models/GOOGL_6.41_02_mem_5_lstm_1_dense_2_unit_8/assets/ (stored 0%)\n",
            "  adding: content/models/GOOGL_6.41_02_mem_5_lstm_1_dense_2_unit_8/variables/ (stored 0%)\n",
            "  adding: content/models/GOOGL_6.41_02_mem_5_lstm_1_dense_2_unit_8/variables/variables.data-00000-of-00001 (deflated 37%)\n",
            "  adding: content/models/GOOGL_6.41_02_mem_5_lstm_1_dense_2_unit_8/variables/variables.index (deflated 67%)\n",
            "  adding: content/models/GOOGL_29.46_02_mem_5_lstm_2_dense_2_unit_16/ (stored 0%)\n",
            "  adding: content/models/GOOGL_29.46_02_mem_5_lstm_2_dense_2_unit_16/keras_metadata.pb (deflated 93%)\n",
            "  adding: content/models/GOOGL_29.46_02_mem_5_lstm_2_dense_2_unit_16/fingerprint.pb (stored 0%)\n",
            "  adding: content/models/GOOGL_29.46_02_mem_5_lstm_2_dense_2_unit_16/saved_model.pb (deflated 91%)\n",
            "  adding: content/models/GOOGL_29.46_02_mem_5_lstm_2_dense_2_unit_16/assets/ (stored 0%)\n",
            "  adding: content/models/GOOGL_29.46_02_mem_5_lstm_2_dense_2_unit_16/variables/ (stored 0%)\n",
            "  adding: content/models/GOOGL_29.46_02_mem_5_lstm_2_dense_2_unit_16/variables/variables.data-00000-of-00001 (deflated 17%)\n",
            "  adding: content/models/GOOGL_29.46_02_mem_5_lstm_2_dense_2_unit_16/variables/variables.index (deflated 68%)\n",
            "  adding: content/models/GOOGL_5.62_03_mem_5_lstm_1_dense_2_unit_16/ (stored 0%)\n",
            "  adding: content/models/GOOGL_5.62_03_mem_5_lstm_1_dense_2_unit_16/keras_metadata.pb (deflated 93%)\n",
            "  adding: content/models/GOOGL_5.62_03_mem_5_lstm_1_dense_2_unit_16/fingerprint.pb (stored 0%)\n",
            "  adding: content/models/GOOGL_5.62_03_mem_5_lstm_1_dense_2_unit_16/saved_model.pb (deflated 91%)\n",
            "  adding: content/models/GOOGL_5.62_03_mem_5_lstm_1_dense_2_unit_16/assets/ (stored 0%)\n",
            "  adding: content/models/GOOGL_5.62_03_mem_5_lstm_1_dense_2_unit_16/variables/ (stored 0%)\n",
            "  adding: content/models/GOOGL_5.62_03_mem_5_lstm_1_dense_2_unit_16/variables/variables.data-00000-of-00001 (deflated 18%)\n",
            "  adding: content/models/GOOGL_5.62_03_mem_5_lstm_1_dense_2_unit_16/variables/variables.index (deflated 67%)\n",
            "  adding: content/models/GOOGL_7.31_02_mem_5_lstm_2_dense_1_unit_8/ (stored 0%)\n",
            "  adding: content/models/GOOGL_7.31_02_mem_5_lstm_2_dense_1_unit_8/keras_metadata.pb (deflated 93%)\n",
            "  adding: content/models/GOOGL_7.31_02_mem_5_lstm_2_dense_1_unit_8/fingerprint.pb (stored 0%)\n",
            "  adding: content/models/GOOGL_7.31_02_mem_5_lstm_2_dense_1_unit_8/saved_model.pb (deflated 91%)\n",
            "  adding: content/models/GOOGL_7.31_02_mem_5_lstm_2_dense_1_unit_8/assets/ (stored 0%)\n",
            "  adding: content/models/GOOGL_7.31_02_mem_5_lstm_2_dense_1_unit_8/variables/ (stored 0%)\n",
            "  adding: content/models/GOOGL_7.31_02_mem_5_lstm_2_dense_1_unit_8/variables/variables.data-00000-of-00001 (deflated 34%)\n",
            "  adding: content/models/GOOGL_7.31_02_mem_5_lstm_2_dense_1_unit_8/variables/variables.index (deflated 68%)\n",
            "  adding: content/models/GOOGL_5.54_08_mem_5_lstm_1_dense_1_unit_8/ (stored 0%)\n",
            "  adding: content/models/GOOGL_5.54_08_mem_5_lstm_1_dense_1_unit_8/keras_metadata.pb (deflated 92%)\n",
            "  adding: content/models/GOOGL_5.54_08_mem_5_lstm_1_dense_1_unit_8/fingerprint.pb (stored 0%)\n",
            "  adding: content/models/GOOGL_5.54_08_mem_5_lstm_1_dense_1_unit_8/saved_model.pb (deflated 91%)\n",
            "  adding: content/models/GOOGL_5.54_08_mem_5_lstm_1_dense_1_unit_8/assets/ (stored 0%)\n",
            "  adding: content/models/GOOGL_5.54_08_mem_5_lstm_1_dense_1_unit_8/variables/ (stored 0%)\n",
            "  adding: content/models/GOOGL_5.54_08_mem_5_lstm_1_dense_1_unit_8/variables/variables.data-00000-of-00001 (deflated 35%)\n",
            "  adding: content/models/GOOGL_5.54_08_mem_5_lstm_1_dense_1_unit_8/variables/variables.index (deflated 67%)\n",
            "  adding: content/models/GOOGL_80.95_01_mem_5_lstm_2_dense_2_unit_16/ (stored 0%)\n",
            "  adding: content/models/GOOGL_80.95_01_mem_5_lstm_2_dense_2_unit_16/keras_metadata.pb (deflated 93%)\n",
            "  adding: content/models/GOOGL_80.95_01_mem_5_lstm_2_dense_2_unit_16/fingerprint.pb (stored 0%)\n",
            "  adding: content/models/GOOGL_80.95_01_mem_5_lstm_2_dense_2_unit_16/saved_model.pb (deflated 91%)\n",
            "  adding: content/models/GOOGL_80.95_01_mem_5_lstm_2_dense_2_unit_16/assets/ (stored 0%)\n",
            "  adding: content/models/GOOGL_80.95_01_mem_5_lstm_2_dense_2_unit_16/variables/ (stored 0%)\n",
            "  adding: content/models/GOOGL_80.95_01_mem_5_lstm_2_dense_2_unit_16/variables/variables.data-00000-of-00001 (deflated 17%)\n",
            "  adding: content/models/GOOGL_80.95_01_mem_5_lstm_2_dense_2_unit_16/variables/variables.index (deflated 68%)\n",
            "  adding: content/models/GOOGL_12.80_06_mem_5_lstm_2_dense_2_unit_16/ (stored 0%)\n",
            "  adding: content/models/GOOGL_12.80_06_mem_5_lstm_2_dense_2_unit_16/keras_metadata.pb (deflated 93%)\n",
            "  adding: content/models/GOOGL_12.80_06_mem_5_lstm_2_dense_2_unit_16/fingerprint.pb (stored 0%)\n",
            "  adding: content/models/GOOGL_12.80_06_mem_5_lstm_2_dense_2_unit_16/saved_model.pb (deflated 91%)\n",
            "  adding: content/models/GOOGL_12.80_06_mem_5_lstm_2_dense_2_unit_16/assets/ (stored 0%)\n",
            "  adding: content/models/GOOGL_12.80_06_mem_5_lstm_2_dense_2_unit_16/variables/ (stored 0%)\n",
            "  adding: content/models/GOOGL_12.80_06_mem_5_lstm_2_dense_2_unit_16/variables/variables.data-00000-of-00001 (deflated 17%)\n",
            "  adding: content/models/GOOGL_12.80_06_mem_5_lstm_2_dense_2_unit_16/variables/variables.index (deflated 68%)\n",
            "  adding: content/models/GOOGL_7.77_02_mem_5_lstm_1_dense_3_unit_16/ (stored 0%)\n",
            "  adding: content/models/GOOGL_7.77_02_mem_5_lstm_1_dense_3_unit_16/keras_metadata.pb (deflated 93%)\n",
            "  adding: content/models/GOOGL_7.77_02_mem_5_lstm_1_dense_3_unit_16/fingerprint.pb (stored 0%)\n",
            "  adding: content/models/GOOGL_7.77_02_mem_5_lstm_1_dense_3_unit_16/saved_model.pb (deflated 91%)\n",
            "  adding: content/models/GOOGL_7.77_02_mem_5_lstm_1_dense_3_unit_16/assets/ (stored 0%)\n",
            "  adding: content/models/GOOGL_7.77_02_mem_5_lstm_1_dense_3_unit_16/variables/ (stored 0%)\n",
            "  adding: content/models/GOOGL_7.77_02_mem_5_lstm_1_dense_3_unit_16/variables/variables.data-00000-of-00001 (deflated 20%)\n",
            "  adding: content/models/GOOGL_7.77_02_mem_5_lstm_1_dense_3_unit_16/variables/variables.index (deflated 68%)\n",
            "  adding: content/models/GOOGL_16.04_01_mem_5_lstm_1_dense_2_unit_16/ (stored 0%)\n",
            "  adding: content/models/GOOGL_16.04_01_mem_5_lstm_1_dense_2_unit_16/keras_metadata.pb (deflated 93%)\n",
            "  adding: content/models/GOOGL_16.04_01_mem_5_lstm_1_dense_2_unit_16/fingerprint.pb (stored 0%)\n",
            "  adding: content/models/GOOGL_16.04_01_mem_5_lstm_1_dense_2_unit_16/saved_model.pb (deflated 91%)\n",
            "  adding: content/models/GOOGL_16.04_01_mem_5_lstm_1_dense_2_unit_16/assets/ (stored 0%)\n",
            "  adding: content/models/GOOGL_16.04_01_mem_5_lstm_1_dense_2_unit_16/variables/ (stored 0%)\n",
            "  adding: content/models/GOOGL_16.04_01_mem_5_lstm_1_dense_2_unit_16/variables/variables.data-00000-of-00001 (deflated 18%)\n",
            "  adding: content/models/GOOGL_16.04_01_mem_5_lstm_1_dense_2_unit_16/variables/variables.index (deflated 67%)\n",
            "  adding: content/models/GOOGL_7.76_09_mem_5_lstm_2_dense_1_unit_16/ (stored 0%)\n",
            "  adding: content/models/GOOGL_7.76_09_mem_5_lstm_2_dense_1_unit_16/keras_metadata.pb (deflated 93%)\n",
            "  adding: content/models/GOOGL_7.76_09_mem_5_lstm_2_dense_1_unit_16/fingerprint.pb (stored 0%)\n",
            "  adding: content/models/GOOGL_7.76_09_mem_5_lstm_2_dense_1_unit_16/saved_model.pb (deflated 91%)\n",
            "  adding: content/models/GOOGL_7.76_09_mem_5_lstm_2_dense_1_unit_16/assets/ (stored 0%)\n",
            "  adding: content/models/GOOGL_7.76_09_mem_5_lstm_2_dense_1_unit_16/variables/ (stored 0%)\n",
            "  adding: content/models/GOOGL_7.76_09_mem_5_lstm_2_dense_1_unit_16/variables/variables.data-00000-of-00001 (deflated 16%)\n",
            "  adding: content/models/GOOGL_7.76_09_mem_5_lstm_2_dense_1_unit_16/variables/variables.index (deflated 68%)\n",
            "  adding: content/models/GOOGL_12.10_06_mem_5_lstm_3_dense_1_unit_8/ (stored 0%)\n",
            "  adding: content/models/GOOGL_12.10_06_mem_5_lstm_3_dense_1_unit_8/keras_metadata.pb (deflated 94%)\n",
            "  adding: content/models/GOOGL_12.10_06_mem_5_lstm_3_dense_1_unit_8/fingerprint.pb (stored 0%)\n",
            "  adding: content/models/GOOGL_12.10_06_mem_5_lstm_3_dense_1_unit_8/saved_model.pb (deflated 91%)\n",
            "  adding: content/models/GOOGL_12.10_06_mem_5_lstm_3_dense_1_unit_8/assets/ (stored 0%)\n",
            "  adding: content/models/GOOGL_12.10_06_mem_5_lstm_3_dense_1_unit_8/variables/ (stored 0%)\n",
            "  adding: content/models/GOOGL_12.10_06_mem_5_lstm_3_dense_1_unit_8/variables/variables.data-00000-of-00001 (deflated 34%)\n",
            "  adding: content/models/GOOGL_12.10_06_mem_5_lstm_3_dense_1_unit_8/variables/variables.index (deflated 69%)\n",
            "  adding: content/models/GOOGL_127.46_01_mem_5_lstm_3_dense_1_unit_8/ (stored 0%)\n",
            "  adding: content/models/GOOGL_127.46_01_mem_5_lstm_3_dense_1_unit_8/keras_metadata.pb (deflated 94%)\n",
            "  adding: content/models/GOOGL_127.46_01_mem_5_lstm_3_dense_1_unit_8/fingerprint.pb (stored 0%)\n",
            "  adding: content/models/GOOGL_127.46_01_mem_5_lstm_3_dense_1_unit_8/saved_model.pb (deflated 92%)\n",
            "  adding: content/models/GOOGL_127.46_01_mem_5_lstm_3_dense_1_unit_8/assets/ (stored 0%)\n",
            "  adding: content/models/GOOGL_127.46_01_mem_5_lstm_3_dense_1_unit_8/variables/ (stored 0%)\n",
            "  adding: content/models/GOOGL_127.46_01_mem_5_lstm_3_dense_1_unit_8/variables/variables.data-00000-of-00001 (deflated 34%)\n",
            "  adding: content/models/GOOGL_127.46_01_mem_5_lstm_3_dense_1_unit_8/variables/variables.index (deflated 69%)\n",
            "  adding: content/models/GOOGL_11.56_10_mem_5_lstm_2_dense_2_unit_8/ (stored 0%)\n",
            "  adding: content/models/GOOGL_11.56_10_mem_5_lstm_2_dense_2_unit_8/keras_metadata.pb (deflated 93%)\n",
            "  adding: content/models/GOOGL_11.56_10_mem_5_lstm_2_dense_2_unit_8/fingerprint.pb (stored 0%)\n",
            "  adding: content/models/GOOGL_11.56_10_mem_5_lstm_2_dense_2_unit_8/saved_model.pb (deflated 91%)\n",
            "  adding: content/models/GOOGL_11.56_10_mem_5_lstm_2_dense_2_unit_8/assets/ (stored 0%)\n",
            "  adding: content/models/GOOGL_11.56_10_mem_5_lstm_2_dense_2_unit_8/variables/ (stored 0%)\n",
            "  adding: content/models/GOOGL_11.56_10_mem_5_lstm_2_dense_2_unit_8/variables/variables.data-00000-of-00001 (deflated 36%)\n",
            "  adding: content/models/GOOGL_11.56_10_mem_5_lstm_2_dense_2_unit_8/variables/variables.index (deflated 68%)\n",
            "  adding: content/models/GOOGL_144.69_01_mem_5_lstm_1_dense_2_unit_8/ (stored 0%)\n",
            "  adding: content/models/GOOGL_144.69_01_mem_5_lstm_1_dense_2_unit_8/keras_metadata.pb (deflated 93%)\n",
            "  adding: content/models/GOOGL_144.69_01_mem_5_lstm_1_dense_2_unit_8/fingerprint.pb (stored 0%)\n",
            "  adding: content/models/GOOGL_144.69_01_mem_5_lstm_1_dense_2_unit_8/saved_model.pb (deflated 91%)\n",
            "  adding: content/models/GOOGL_144.69_01_mem_5_lstm_1_dense_2_unit_8/assets/ (stored 0%)\n",
            "  adding: content/models/GOOGL_144.69_01_mem_5_lstm_1_dense_2_unit_8/variables/ (stored 0%)\n",
            "  adding: content/models/GOOGL_144.69_01_mem_5_lstm_1_dense_2_unit_8/variables/variables.data-00000-of-00001 (deflated 37%)\n",
            "  adding: content/models/GOOGL_144.69_01_mem_5_lstm_1_dense_2_unit_8/variables/variables.index (deflated 67%)\n",
            "  adding: content/models/GOOGL_12.29_03_mem_5_lstm_3_dense_1_unit_8/ (stored 0%)\n",
            "  adding: content/models/GOOGL_12.29_03_mem_5_lstm_3_dense_1_unit_8/keras_metadata.pb (deflated 94%)\n",
            "  adding: content/models/GOOGL_12.29_03_mem_5_lstm_3_dense_1_unit_8/fingerprint.pb (stored 0%)\n",
            "  adding: content/models/GOOGL_12.29_03_mem_5_lstm_3_dense_1_unit_8/saved_model.pb (deflated 92%)\n",
            "  adding: content/models/GOOGL_12.29_03_mem_5_lstm_3_dense_1_unit_8/assets/ (stored 0%)\n",
            "  adding: content/models/GOOGL_12.29_03_mem_5_lstm_3_dense_1_unit_8/variables/ (stored 0%)\n",
            "  adding: content/models/GOOGL_12.29_03_mem_5_lstm_3_dense_1_unit_8/variables/variables.data-00000-of-00001 (deflated 34%)\n",
            "  adding: content/models/GOOGL_12.29_03_mem_5_lstm_3_dense_1_unit_8/variables/variables.index (deflated 69%)\n",
            "  adding: content/models/GOOGL_5.86_03_mem_5_lstm_1_dense_3_unit_16/ (stored 0%)\n",
            "  adding: content/models/GOOGL_5.86_03_mem_5_lstm_1_dense_3_unit_16/keras_metadata.pb (deflated 93%)\n",
            "  adding: content/models/GOOGL_5.86_03_mem_5_lstm_1_dense_3_unit_16/fingerprint.pb (stored 0%)\n",
            "  adding: content/models/GOOGL_5.86_03_mem_5_lstm_1_dense_3_unit_16/saved_model.pb (deflated 91%)\n",
            "  adding: content/models/GOOGL_5.86_03_mem_5_lstm_1_dense_3_unit_16/assets/ (stored 0%)\n",
            "  adding: content/models/GOOGL_5.86_03_mem_5_lstm_1_dense_3_unit_16/variables/ (stored 0%)\n",
            "  adding: content/models/GOOGL_5.86_03_mem_5_lstm_1_dense_3_unit_16/variables/variables.data-00000-of-00001 (deflated 20%)\n",
            "  adding: content/models/GOOGL_5.86_03_mem_5_lstm_1_dense_3_unit_16/variables/variables.index (deflated 68%)\n",
            "  adding: content/models/GOOGL_6.33_03_mem_5_lstm_2_dense_3_unit_8/ (stored 0%)\n",
            "  adding: content/models/GOOGL_6.33_03_mem_5_lstm_2_dense_3_unit_8/keras_metadata.pb (deflated 94%)\n",
            "  adding: content/models/GOOGL_6.33_03_mem_5_lstm_2_dense_3_unit_8/fingerprint.pb (stored 0%)\n",
            "  adding: content/models/GOOGL_6.33_03_mem_5_lstm_2_dense_3_unit_8/saved_model.pb (deflated 91%)\n",
            "  adding: content/models/GOOGL_6.33_03_mem_5_lstm_2_dense_3_unit_8/assets/ (stored 0%)\n",
            "  adding: content/models/GOOGL_6.33_03_mem_5_lstm_2_dense_3_unit_8/variables/ (stored 0%)\n",
            "  adding: content/models/GOOGL_6.33_03_mem_5_lstm_2_dense_3_unit_8/variables/variables.data-00000-of-00001 (deflated 37%)\n",
            "  adding: content/models/GOOGL_6.33_03_mem_5_lstm_2_dense_3_unit_8/variables/variables.index (deflated 69%)\n",
            "  adding: content/models/GOOGL_9.97_08_mem_5_lstm_2_dense_1_unit_16/ (stored 0%)\n",
            "  adding: content/models/GOOGL_9.97_08_mem_5_lstm_2_dense_1_unit_16/keras_metadata.pb (deflated 93%)\n",
            "  adding: content/models/GOOGL_9.97_08_mem_5_lstm_2_dense_1_unit_16/fingerprint.pb (stored 0%)\n",
            "  adding: content/models/GOOGL_9.97_08_mem_5_lstm_2_dense_1_unit_16/saved_model.pb (deflated 91%)\n",
            "  adding: content/models/GOOGL_9.97_08_mem_5_lstm_2_dense_1_unit_16/assets/ (stored 0%)\n",
            "  adding: content/models/GOOGL_9.97_08_mem_5_lstm_2_dense_1_unit_16/variables/ (stored 0%)\n",
            "  adding: content/models/GOOGL_9.97_08_mem_5_lstm_2_dense_1_unit_16/variables/variables.data-00000-of-00001 (deflated 16%)\n",
            "  adding: content/models/GOOGL_9.97_08_mem_5_lstm_2_dense_1_unit_16/variables/variables.index (deflated 67%)\n",
            "  adding: content/models/GOOGL_7.35_04_mem_5_lstm_2_dense_3_unit_16/ (stored 0%)\n",
            "  adding: content/models/GOOGL_7.35_04_mem_5_lstm_2_dense_3_unit_16/keras_metadata.pb (deflated 94%)\n",
            "  adding: content/models/GOOGL_7.35_04_mem_5_lstm_2_dense_3_unit_16/fingerprint.pb (stored 0%)\n",
            "  adding: content/models/GOOGL_7.35_04_mem_5_lstm_2_dense_3_unit_16/saved_model.pb (deflated 91%)\n",
            "  adding: content/models/GOOGL_7.35_04_mem_5_lstm_2_dense_3_unit_16/assets/ (stored 0%)\n",
            "  adding: content/models/GOOGL_7.35_04_mem_5_lstm_2_dense_3_unit_16/variables/ (stored 0%)\n",
            "  adding: content/models/GOOGL_7.35_04_mem_5_lstm_2_dense_3_unit_16/variables/variables.data-00000-of-00001 (deflated 19%)\n",
            "  adding: content/models/GOOGL_7.35_04_mem_5_lstm_2_dense_3_unit_16/variables/variables.index (deflated 69%)\n",
            "  adding: content/models/GOOGL_6.54_11_mem_5_lstm_3_dense_1_unit_8/ (stored 0%)\n",
            "  adding: content/models/GOOGL_6.54_11_mem_5_lstm_3_dense_1_unit_8/fingerprint.pb (stored 0%)\n",
            "  adding: content/models/GOOGL_6.54_11_mem_5_lstm_3_dense_1_unit_8/saved_model.pb (deflated 91%)\n",
            "  adding: content/models/GOOGL_6.54_11_mem_5_lstm_3_dense_1_unit_8/assets/ (stored 0%)\n",
            "  adding: content/models/GOOGL_6.54_11_mem_5_lstm_3_dense_1_unit_8/variables/ (stored 0%)\n",
            "  adding: content/models/GOOGL_6.54_11_mem_5_lstm_3_dense_1_unit_8/variables/variables.data-00000-of-00001 (deflated 35%)\n",
            "  adding: content/models/GOOGL_6.54_11_mem_5_lstm_3_dense_1_unit_8/variables/variables.index (deflated 69%)\n",
            "  adding: content/models/GOOGL_6.41_02_mem_5_lstm_2_dense_3_unit_8/ (stored 0%)\n",
            "  adding: content/models/GOOGL_6.41_02_mem_5_lstm_2_dense_3_unit_8/keras_metadata.pb (deflated 94%)\n",
            "  adding: content/models/GOOGL_6.41_02_mem_5_lstm_2_dense_3_unit_8/fingerprint.pb (stored 0%)\n",
            "  adding: content/models/GOOGL_6.41_02_mem_5_lstm_2_dense_3_unit_8/saved_model.pb (deflated 91%)\n",
            "  adding: content/models/GOOGL_6.41_02_mem_5_lstm_2_dense_3_unit_8/assets/ (stored 0%)\n",
            "  adding: content/models/GOOGL_6.41_02_mem_5_lstm_2_dense_3_unit_8/variables/ (stored 0%)\n",
            "  adding: content/models/GOOGL_6.41_02_mem_5_lstm_2_dense_3_unit_8/variables/variables.data-00000-of-00001 (deflated 37%)\n",
            "  adding: content/models/GOOGL_6.41_02_mem_5_lstm_2_dense_3_unit_8/variables/variables.index (deflated 69%)\n",
            "  adding: content/models/GOOGL_23.65_02_mem_5_lstm_2_dense_1_unit_16/ (stored 0%)\n",
            "  adding: content/models/GOOGL_23.65_02_mem_5_lstm_2_dense_1_unit_16/keras_metadata.pb (deflated 93%)\n",
            "  adding: content/models/GOOGL_23.65_02_mem_5_lstm_2_dense_1_unit_16/fingerprint.pb (stored 0%)\n",
            "  adding: content/models/GOOGL_23.65_02_mem_5_lstm_2_dense_1_unit_16/saved_model.pb (deflated 91%)\n",
            "  adding: content/models/GOOGL_23.65_02_mem_5_lstm_2_dense_1_unit_16/assets/ (stored 0%)\n",
            "  adding: content/models/GOOGL_23.65_02_mem_5_lstm_2_dense_1_unit_16/variables/ (stored 0%)\n",
            "  adding: content/models/GOOGL_23.65_02_mem_5_lstm_2_dense_1_unit_16/variables/variables.data-00000-of-00001 (deflated 16%)\n",
            "  adding: content/models/GOOGL_23.65_02_mem_5_lstm_2_dense_1_unit_16/variables/variables.index (deflated 68%)\n",
            "  adding: content/models/GOOGL_78.47_01_mem_5_lstm_1_dense_1_unit_16/ (stored 0%)\n",
            "  adding: content/models/GOOGL_78.47_01_mem_5_lstm_1_dense_1_unit_16/keras_metadata.pb (deflated 92%)\n",
            "  adding: content/models/GOOGL_78.47_01_mem_5_lstm_1_dense_1_unit_16/fingerprint.pb (stored 0%)\n",
            "  adding: content/models/GOOGL_78.47_01_mem_5_lstm_1_dense_1_unit_16/saved_model.pb (deflated 91%)\n",
            "  adding: content/models/GOOGL_78.47_01_mem_5_lstm_1_dense_1_unit_16/assets/ (stored 0%)\n",
            "  adding: content/models/GOOGL_78.47_01_mem_5_lstm_1_dense_1_unit_16/variables/ (stored 0%)\n",
            "  adding: content/models/GOOGL_78.47_01_mem_5_lstm_1_dense_1_unit_16/variables/variables.data-00000-of-00001 (deflated 17%)\n",
            "  adding: content/models/GOOGL_78.47_01_mem_5_lstm_1_dense_1_unit_16/variables/variables.index (deflated 66%)\n",
            "  adding: content/models/GOOGL_5.80_14_mem_5_lstm_1_dense_1_unit_16/ (stored 0%)\n",
            "  adding: content/models/GOOGL_5.80_14_mem_5_lstm_1_dense_1_unit_16/keras_metadata.pb (deflated 92%)\n",
            "  adding: content/models/GOOGL_5.80_14_mem_5_lstm_1_dense_1_unit_16/fingerprint.pb (stored 0%)\n",
            "  adding: content/models/GOOGL_5.80_14_mem_5_lstm_1_dense_1_unit_16/saved_model.pb (deflated 91%)\n",
            "  adding: content/models/GOOGL_5.80_14_mem_5_lstm_1_dense_1_unit_16/assets/ (stored 0%)\n",
            "  adding: content/models/GOOGL_5.80_14_mem_5_lstm_1_dense_1_unit_16/variables/ (stored 0%)\n",
            "  adding: content/models/GOOGL_5.80_14_mem_5_lstm_1_dense_1_unit_16/variables/variables.data-00000-of-00001 (deflated 18%)\n",
            "  adding: content/models/GOOGL_5.80_14_mem_5_lstm_1_dense_1_unit_16/variables/variables.index (deflated 66%)\n",
            "  adding: content/models/GOOGL_16.04_02_mem_5_lstm_3_dense_1_unit_8/ (stored 0%)\n",
            "  adding: content/models/GOOGL_16.04_02_mem_5_lstm_3_dense_1_unit_8/keras_metadata.pb (deflated 94%)\n",
            "  adding: content/models/GOOGL_16.04_02_mem_5_lstm_3_dense_1_unit_8/fingerprint.pb (stored 0%)\n",
            "  adding: content/models/GOOGL_16.04_02_mem_5_lstm_3_dense_1_unit_8/saved_model.pb (deflated 91%)\n",
            "  adding: content/models/GOOGL_16.04_02_mem_5_lstm_3_dense_1_unit_8/assets/ (stored 0%)\n",
            "  adding: content/models/GOOGL_16.04_02_mem_5_lstm_3_dense_1_unit_8/variables/ (stored 0%)\n",
            "  adding: content/models/GOOGL_16.04_02_mem_5_lstm_3_dense_1_unit_8/variables/variables.data-00000-of-00001 (deflated 35%)\n",
            "  adding: content/models/GOOGL_16.04_02_mem_5_lstm_3_dense_1_unit_8/variables/variables.index (deflated 69%)\n",
            "  adding: content/models/GOOGL_13.58_01_mem_5_lstm_2_dense_2_unit_8/ (stored 0%)\n",
            "  adding: content/models/GOOGL_13.58_01_mem_5_lstm_2_dense_2_unit_8/keras_metadata.pb (deflated 93%)\n",
            "  adding: content/models/GOOGL_13.58_01_mem_5_lstm_2_dense_2_unit_8/fingerprint.pb (stored 0%)\n",
            "  adding: content/models/GOOGL_13.58_01_mem_5_lstm_2_dense_2_unit_8/saved_model.pb (deflated 91%)\n",
            "  adding: content/models/GOOGL_13.58_01_mem_5_lstm_2_dense_2_unit_8/assets/ (stored 0%)\n",
            "  adding: content/models/GOOGL_13.58_01_mem_5_lstm_2_dense_2_unit_8/variables/ (stored 0%)\n",
            "  adding: content/models/GOOGL_13.58_01_mem_5_lstm_2_dense_2_unit_8/variables/variables.data-00000-of-00001 (deflated 35%)\n",
            "  adding: content/models/GOOGL_13.58_01_mem_5_lstm_2_dense_2_unit_8/variables/variables.index (deflated 68%)\n",
            "  adding: content/models/GOOGL_8.65_08_mem_5_lstm_3_dense_1_unit_8/ (stored 0%)\n",
            "  adding: content/models/GOOGL_8.65_08_mem_5_lstm_3_dense_1_unit_8/keras_metadata.pb (deflated 94%)\n",
            "  adding: content/models/GOOGL_8.65_08_mem_5_lstm_3_dense_1_unit_8/fingerprint.pb (stored 0%)\n",
            "  adding: content/models/GOOGL_8.65_08_mem_5_lstm_3_dense_1_unit_8/saved_model.pb (deflated 92%)\n",
            "  adding: content/models/GOOGL_8.65_08_mem_5_lstm_3_dense_1_unit_8/assets/ (stored 0%)\n",
            "  adding: content/models/GOOGL_8.65_08_mem_5_lstm_3_dense_1_unit_8/variables/ (stored 0%)\n",
            "  adding: content/models/GOOGL_8.65_08_mem_5_lstm_3_dense_1_unit_8/variables/variables.data-00000-of-00001 (deflated 35%)\n",
            "  adding: content/models/GOOGL_8.65_08_mem_5_lstm_3_dense_1_unit_8/variables/variables.index (deflated 69%)\n",
            "  adding: content/models/GOOGL_5.72_04_mem_5_lstm_1_dense_3_unit_16/ (stored 0%)\n",
            "  adding: content/models/GOOGL_5.72_04_mem_5_lstm_1_dense_3_unit_16/keras_metadata.pb (deflated 93%)\n",
            "  adding: content/models/GOOGL_5.72_04_mem_5_lstm_1_dense_3_unit_16/fingerprint.pb (stored 0%)\n",
            "  adding: content/models/GOOGL_5.72_04_mem_5_lstm_1_dense_3_unit_16/saved_model.pb (deflated 91%)\n",
            "  adding: content/models/GOOGL_5.72_04_mem_5_lstm_1_dense_3_unit_16/assets/ (stored 0%)\n",
            "  adding: content/models/GOOGL_5.72_04_mem_5_lstm_1_dense_3_unit_16/variables/ (stored 0%)\n",
            "  adding: content/models/GOOGL_5.72_04_mem_5_lstm_1_dense_3_unit_16/variables/variables.data-00000-of-00001 (deflated 20%)\n",
            "  adding: content/models/GOOGL_5.72_04_mem_5_lstm_1_dense_3_unit_16/variables/variables.index (deflated 68%)\n",
            "  adding: content/models/GOOGL_14.82_04_mem_5_lstm_2_dense_2_unit_16/ (stored 0%)\n",
            "  adding: content/models/GOOGL_14.82_04_mem_5_lstm_2_dense_2_unit_16/keras_metadata.pb (deflated 93%)\n",
            "  adding: content/models/GOOGL_14.82_04_mem_5_lstm_2_dense_2_unit_16/fingerprint.pb (stored 0%)\n",
            "  adding: content/models/GOOGL_14.82_04_mem_5_lstm_2_dense_2_unit_16/saved_model.pb (deflated 91%)\n",
            "  adding: content/models/GOOGL_14.82_04_mem_5_lstm_2_dense_2_unit_16/assets/ (stored 0%)\n",
            "  adding: content/models/GOOGL_14.82_04_mem_5_lstm_2_dense_2_unit_16/variables/ (stored 0%)\n",
            "  adding: content/models/GOOGL_14.82_04_mem_5_lstm_2_dense_2_unit_16/variables/variables.data-00000-of-00001 (deflated 17%)\n",
            "  adding: content/models/GOOGL_14.82_04_mem_5_lstm_2_dense_2_unit_16/variables/variables.index (deflated 68%)\n",
            "  adding: content/models/GOOGL_7.33_08_mem_5_lstm_2_dense_2_unit_16/ (stored 0%)\n",
            "  adding: content/models/GOOGL_7.33_08_mem_5_lstm_2_dense_2_unit_16/keras_metadata.pb (deflated 93%)\n",
            "  adding: content/models/GOOGL_7.33_08_mem_5_lstm_2_dense_2_unit_16/fingerprint.pb (stored 0%)\n",
            "  adding: content/models/GOOGL_7.33_08_mem_5_lstm_2_dense_2_unit_16/saved_model.pb (deflated 91%)\n",
            "  adding: content/models/GOOGL_7.33_08_mem_5_lstm_2_dense_2_unit_16/assets/ (stored 0%)\n",
            "  adding: content/models/GOOGL_7.33_08_mem_5_lstm_2_dense_2_unit_16/variables/ (stored 0%)\n",
            "  adding: content/models/GOOGL_7.33_08_mem_5_lstm_2_dense_2_unit_16/variables/variables.data-00000-of-00001 (deflated 17%)\n",
            "  adding: content/models/GOOGL_7.33_08_mem_5_lstm_2_dense_2_unit_16/variables/variables.index (deflated 68%)\n",
            "  adding: content/models/GOOGL_5.89_02_mem_5_lstm_1_dense_1_unit_8/ (stored 0%)\n",
            "  adding: content/models/GOOGL_5.89_02_mem_5_lstm_1_dense_1_unit_8/keras_metadata.pb (deflated 92%)\n",
            "  adding: content/models/GOOGL_5.89_02_mem_5_lstm_1_dense_1_unit_8/fingerprint.pb (stored 0%)\n",
            "  adding: content/models/GOOGL_5.89_02_mem_5_lstm_1_dense_1_unit_8/saved_model.pb (deflated 91%)\n",
            "  adding: content/models/GOOGL_5.89_02_mem_5_lstm_1_dense_1_unit_8/assets/ (stored 0%)\n",
            "  adding: content/models/GOOGL_5.89_02_mem_5_lstm_1_dense_1_unit_8/variables/ (stored 0%)\n",
            "  adding: content/models/GOOGL_5.89_02_mem_5_lstm_1_dense_1_unit_8/variables/variables.data-00000-of-00001 (deflated 35%)\n",
            "  adding: content/models/GOOGL_5.89_02_mem_5_lstm_1_dense_1_unit_8/variables/variables.index (deflated 66%)\n",
            "  adding: content/models/GOOGL_6.29_09_mem_5_lstm_1_dense_1_unit_16/ (stored 0%)\n",
            "  adding: content/models/GOOGL_6.29_09_mem_5_lstm_1_dense_1_unit_16/keras_metadata.pb (deflated 92%)\n",
            "  adding: content/models/GOOGL_6.29_09_mem_5_lstm_1_dense_1_unit_16/fingerprint.pb (stored 0%)\n",
            "  adding: content/models/GOOGL_6.29_09_mem_5_lstm_1_dense_1_unit_16/saved_model.pb (deflated 90%)\n",
            "  adding: content/models/GOOGL_6.29_09_mem_5_lstm_1_dense_1_unit_16/assets/ (stored 0%)\n",
            "  adding: content/models/GOOGL_6.29_09_mem_5_lstm_1_dense_1_unit_16/variables/ (stored 0%)\n",
            "  adding: content/models/GOOGL_6.29_09_mem_5_lstm_1_dense_1_unit_16/variables/variables.data-00000-of-00001 (deflated 18%)\n",
            "  adding: content/models/GOOGL_6.29_09_mem_5_lstm_1_dense_1_unit_16/variables/variables.index (deflated 66%)\n",
            "  adding: content/models/GOOGL_84.65_01_mem_5_lstm_2_dense_1_unit_16/ (stored 0%)\n",
            "  adding: content/models/GOOGL_84.65_01_mem_5_lstm_2_dense_1_unit_16/keras_metadata.pb (deflated 93%)\n",
            "  adding: content/models/GOOGL_84.65_01_mem_5_lstm_2_dense_1_unit_16/fingerprint.pb (stored 0%)\n",
            "  adding: content/models/GOOGL_84.65_01_mem_5_lstm_2_dense_1_unit_16/saved_model.pb (deflated 91%)\n",
            "  adding: content/models/GOOGL_84.65_01_mem_5_lstm_2_dense_1_unit_16/assets/ (stored 0%)\n",
            "  adding: content/models/GOOGL_84.65_01_mem_5_lstm_2_dense_1_unit_16/variables/ (stored 0%)\n",
            "  adding: content/models/GOOGL_84.65_01_mem_5_lstm_2_dense_1_unit_16/variables/variables.data-00000-of-00001 (deflated 16%)\n",
            "  adding: content/models/GOOGL_84.65_01_mem_5_lstm_2_dense_1_unit_16/variables/variables.index (deflated 67%)\n",
            "  adding: content/models/GOOGL_56.02_01_mem_5_lstm_2_dense_3_unit_16/ (stored 0%)\n",
            "  adding: content/models/GOOGL_56.02_01_mem_5_lstm_2_dense_3_unit_16/keras_metadata.pb (deflated 94%)\n",
            "  adding: content/models/GOOGL_56.02_01_mem_5_lstm_2_dense_3_unit_16/fingerprint.pb (stored 0%)\n",
            "  adding: content/models/GOOGL_56.02_01_mem_5_lstm_2_dense_3_unit_16/saved_model.pb (deflated 91%)\n",
            "  adding: content/models/GOOGL_56.02_01_mem_5_lstm_2_dense_3_unit_16/assets/ (stored 0%)\n",
            "  adding: content/models/GOOGL_56.02_01_mem_5_lstm_2_dense_3_unit_16/variables/ (stored 0%)\n",
            "  adding: content/models/GOOGL_56.02_01_mem_5_lstm_2_dense_3_unit_16/variables/variables.data-00000-of-00001 (deflated 19%)\n",
            "  adding: content/models/GOOGL_56.02_01_mem_5_lstm_2_dense_3_unit_16/variables/variables.index (deflated 69%)\n",
            "  adding: content/models/GOOGL_8.10_04_mem_5_lstm_1_dense_1_unit_16/ (stored 0%)\n",
            "  adding: content/models/GOOGL_8.10_04_mem_5_lstm_1_dense_1_unit_16/keras_metadata.pb (deflated 92%)\n",
            "  adding: content/models/GOOGL_8.10_04_mem_5_lstm_1_dense_1_unit_16/fingerprint.pb (stored 0%)\n",
            "  adding: content/models/GOOGL_8.10_04_mem_5_lstm_1_dense_1_unit_16/saved_model.pb (deflated 90%)\n",
            "  adding: content/models/GOOGL_8.10_04_mem_5_lstm_1_dense_1_unit_16/assets/ (stored 0%)\n",
            "  adding: content/models/GOOGL_8.10_04_mem_5_lstm_1_dense_1_unit_16/variables/ (stored 0%)\n",
            "  adding: content/models/GOOGL_8.10_04_mem_5_lstm_1_dense_1_unit_16/variables/variables.data-00000-of-00001 (deflated 18%)\n",
            "  adding: content/models/GOOGL_8.10_04_mem_5_lstm_1_dense_1_unit_16/variables/variables.index (deflated 66%)\n",
            "  adding: content/models/GOOGL_18.23_02_mem_5_lstm_1_dense_3_unit_8/ (stored 0%)\n",
            "  adding: content/models/GOOGL_18.23_02_mem_5_lstm_1_dense_3_unit_8/keras_metadata.pb (deflated 93%)\n",
            "  adding: content/models/GOOGL_18.23_02_mem_5_lstm_1_dense_3_unit_8/fingerprint.pb (stored 0%)\n",
            "  adding: content/models/GOOGL_18.23_02_mem_5_lstm_1_dense_3_unit_8/saved_model.pb (deflated 91%)\n",
            "  adding: content/models/GOOGL_18.23_02_mem_5_lstm_1_dense_3_unit_8/assets/ (stored 0%)\n",
            "  adding: content/models/GOOGL_18.23_02_mem_5_lstm_1_dense_3_unit_8/variables/ (stored 0%)\n",
            "  adding: content/models/GOOGL_18.23_02_mem_5_lstm_1_dense_3_unit_8/variables/variables.data-00000-of-00001 (deflated 39%)\n",
            "  adding: content/models/GOOGL_18.23_02_mem_5_lstm_1_dense_3_unit_8/variables/variables.index (deflated 68%)\n",
            "  adding: content/models/GOOGL_6.36_12_mem_5_lstm_2_dense_1_unit_8/ (stored 0%)\n",
            "  adding: content/models/GOOGL_6.36_12_mem_5_lstm_2_dense_1_unit_8/keras_metadata.pb (deflated 93%)\n",
            "  adding: content/models/GOOGL_6.36_12_mem_5_lstm_2_dense_1_unit_8/fingerprint.pb (stored 0%)\n",
            "  adding: content/models/GOOGL_6.36_12_mem_5_lstm_2_dense_1_unit_8/saved_model.pb (deflated 91%)\n",
            "  adding: content/models/GOOGL_6.36_12_mem_5_lstm_2_dense_1_unit_8/assets/ (stored 0%)\n",
            "  adding: content/models/GOOGL_6.36_12_mem_5_lstm_2_dense_1_unit_8/variables/ (stored 0%)\n",
            "  adding: content/models/GOOGL_6.36_12_mem_5_lstm_2_dense_1_unit_8/variables/variables.data-00000-of-00001 (deflated 34%)\n",
            "  adding: content/models/GOOGL_6.36_12_mem_5_lstm_2_dense_1_unit_8/variables/variables.index (deflated 68%)\n",
            "  adding: content/models/GOOGL_7.87_07_mem_5_lstm_2_dense_2_unit_16/ (stored 0%)\n",
            "  adding: content/models/GOOGL_7.87_07_mem_5_lstm_2_dense_2_unit_16/keras_metadata.pb (deflated 93%)\n",
            "  adding: content/models/GOOGL_7.87_07_mem_5_lstm_2_dense_2_unit_16/fingerprint.pb (stored 0%)\n",
            "  adding: content/models/GOOGL_7.87_07_mem_5_lstm_2_dense_2_unit_16/saved_model.pb (deflated 91%)\n",
            "  adding: content/models/GOOGL_7.87_07_mem_5_lstm_2_dense_2_unit_16/assets/ (stored 0%)\n",
            "  adding: content/models/GOOGL_7.87_07_mem_5_lstm_2_dense_2_unit_16/variables/ (stored 0%)\n",
            "  adding: content/models/GOOGL_7.87_07_mem_5_lstm_2_dense_2_unit_16/variables/variables.data-00000-of-00001 (deflated 18%)\n",
            "  adding: content/models/GOOGL_7.87_07_mem_5_lstm_2_dense_2_unit_16/variables/variables.index (deflated 68%)\n"
          ]
        }
      ]
    },
    {
      "cell_type": "code",
      "source": [],
      "metadata": {
        "id": "7_2eLAcdoZdz"
      },
      "execution_count": null,
      "outputs": []
    }
  ]
}